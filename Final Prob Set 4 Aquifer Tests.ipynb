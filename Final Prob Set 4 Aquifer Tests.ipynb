{
  "nbformat": 4,
  "nbformat_minor": 0,
  "metadata": {
    "kernelspec": {
      "display_name": "Python 3",
      "language": "python",
      "name": "python3"
    },
    "language_info": {
      "codemirror_mode": {
        "name": "ipython",
        "version": 3
      },
      "file_extension": ".py",
      "mimetype": "text/x-python",
      "name": "python",
      "nbconvert_exporter": "python",
      "pygments_lexer": "ipython3",
      "version": "3.7.4"
    },
    "colab": {
      "name": "Prob Set 4 Aquifer Tests.ipynb",
      "provenance": []
    }
  },
  "cells": [
    {
      "cell_type": "markdown",
      "metadata": {
        "id": "Fgmngv10fMHg",
        "colab_type": "text"
      },
      "source": [
        "# <center><font color = blue>Problem Set 4: Okawville Aquifer Test</font></center>\n",
        "\n",
        "<ul>\n",
        "    <li>Assignment Due February 27th</li>\n",
        "</ul>\n",
        "\n",
        "\n"
      ]
    },
    {
      "cell_type": "markdown",
      "metadata": {
        "id": "82yTnp3rfMHh",
        "colab_type": "text"
      },
      "source": [
        "In class, we conducted an aquifer test for the Village of Okawville. In this assignment, you will repeat this analysis, but instead of using Jacob Straight Line, you will fit the data from the aquifer test directly to the Theis Solution. \n",
        "\n",
        "<ul>\n",
        "    <li>All values reported should be rounded to three significant figures. There are ways to automate code to do this for you, but you may use the round() function with arguments hard-coded specifically for the output you are displaying.</li>\n",
        "    <li>All plots should include an appropriate title and labels on the x- and y- axes.</li>\n",
        "    <li>Observed data (what you import from Excel) should be plotted as points; best fit lines should be plotted as continuous lines.</li>\n",
        "</ul>\n",
        "\n",
        "## Part I: Write a code to plot the entire data set\n",
        "\n",
        "Both the x- and y-axis should be plotted on a linear scale (time on the x-axis, drawdown on the y-axis)."
      ]
    },
    {
      "cell_type": "code",
      "metadata": {
        "id": "0g07hiRmK7zl",
        "colab_type": "code",
        "colab": {}
      },
      "source": [
        "#import needed python libraries\n",
        "import pandas as pd\n",
        "import numpy as np\n",
        "import matplotlib.pyplot as plt\n",
        "import scipy.optimize as spo\n",
        "import scipy.special as sps\n",
        "%matplotlib inline"
      ],
      "execution_count": 0,
      "outputs": []
    },
    {
      "cell_type": "code",
      "metadata": {
        "id": "By-ehc_ULlR-",
        "colab_type": "code",
        "outputId": "7ec77559-e4f7-4028-b47d-1db8fdba140f",
        "colab": {
          "base_uri": "https://localhost:8080/",
          "height": 300
        }
      },
      "source": [
        "#create a plot of the entire data set on a linear-linear scale\n",
        "data=pd.read_excel('https://github.com/dbabrams/G572Week4_-AquiferTests/blob/master/Okawville_MW_AquiferTest.xlsx?raw=true',index_col=0)\n",
        "data.dtw.plot(marker='o',linewidth=0) #drawdown is stored in the 'dtw' column\n",
        "plt.title('Okawville Aquifer Test',fontsize=15)\n",
        "plt.xlabel('Minutes',fontsize=13)\n",
        "plt.ylabel('Drawdown (ft)',fontsize=13)\n",
        "plt.show()"
      ],
      "execution_count": 0,
      "outputs": [
        {
          "output_type": "display_data",
          "data": {
            "image/png": "[encoded data removed]",
            "text/plain": [
              "<Figure size 432x288 with 1 Axes>"
            ]
          },
          "metadata": {
            "tags": []
          }
        }
      ]
    },
    {
      "cell_type": "markdown",
      "metadata": {
        "id": "DXShxlt2fMHi",
        "colab_type": "text"
      },
      "source": [
        "## Part II: Theis Curve Fitting\n",
        "\n",
        "The Jacob Straight Line method is based on an approximation of the Theis solution. However, there is another option available when using Python, fitting the Theis solution directly to the data, with S and T as the unknown parameters. \n",
        "\n",
        "<b>Include:</b>\n",
        "<ul>\n",
        "    <li>A Markdown Cell with the Theis Equation written in LaTeX.</li>\n",
        "    <li>A plot with the time axis on a logarithmic scale.</li>\n",
        "    <li>Values for S and T, including appropriate units.</li>\n",
        "</ul>\n",
        "    \n",
        "<b>Tips:</b>    \n",
        "<ul>\n",
        "    <li>To get this code to work, you will need to use very small convergence criteria. Don't hesitate to work in the 10^-6-10^-12 range.</li>\n",
        "    <li>When fitting to the Theis Curve, you may use a subset of data. See the class lecture notes for inspiration on how to do this.</li>\n",
        "    <li>The answer should be similar to the Jacob Straight Line solution from class (although not exactly the same).</li>\n",
        "</ul>"
      ]
    },
    {
      "cell_type": "markdown",
      "metadata": {
        "id": "SC2tyjzYnnVN",
        "colab_type": "text"
      },
      "source": [
        "<font size = 10>The Theis Equation: $s=\\frac{Q}{4\\pi T} W(\\frac{r^2S}{4Tt})$</font>"
      ]
    },
    {
      "cell_type": "code",
      "metadata": {
        "id": "xuzht6ItZC3f",
        "colab_type": "code",
        "colab": {}
      },
      "source": [
        "#define known parameters of the Theis equation\n",
        "Qg=5.35 #ft^3/min\n",
        "rg=30 #ft"
      ],
      "execution_count": 0,
      "outputs": []
    },
    {
      "cell_type": "code",
      "metadata": {
        "id": "ILdOVn56r1Nk",
        "colab_type": "code",
        "colab": {}
      },
      "source": [
        "#define the Theis optimization equation with time as the independent variable (min), \n",
        "#S as Storativity (unitless), T as Transmissivity (ft^2/min), \n",
        "#Q as volumetric flow rate (ft^3/min), and r as radius (ft)\n",
        "def Topt(time,S,T): \n",
        "  return Qg/(4*np.pi*T)*sps.exp1(rg**2*S/(4*T*time))\n",
        "\n",
        "#use a subset of time data to eliminate outliers at far end\n",
        "subset=data[5:-5]\n",
        "#print(subset)\n",
        "\n",
        "#optimize Theis curve fit for parameters (para) S and T\n",
        "para,cova=spo.curve_fit(Topt,subset.index,subset.dtw,p0=(1*10**-12,1*10**-12))\n",
        "#print(para)"
      ],
      "execution_count": 0,
      "outputs": []
    },
    {
      "cell_type": "code",
      "metadata": {
        "id": "MwRPUvxsFCe4",
        "colab_type": "code",
        "colab": {}
      },
      "source": [
        "#define the Theis equation with time as the independent variable (min), \n",
        "#S as Storativity (unitless), T as Transmissivity (ft^2/min), \n",
        "#Q as volumetric flow rate (ft^3/min), and r as radius (ft)\n",
        "def Theis(time,S,T,Q,r): \n",
        "  return Q/(4*np.pi*T)*sps.exp1(r**2*S/(4*T*time))"
      ],
      "execution_count": 0,
      "outputs": []
    },
    {
      "cell_type": "code",
      "metadata": {
        "id": "vU8zyBUhW7B3",
        "colab_type": "code",
        "colab": {}
      },
      "source": [
        "#create Theis curve fit line based on optimized parameters S and T\n",
        "time=data.index.to_series()\n",
        "fitline=Theis(time,para[0],para[1],Qg,rg)"
      ],
      "execution_count": 0,
      "outputs": []
    },
    {
      "cell_type": "code",
      "metadata": {
        "colab_type": "code",
        "outputId": "d5a68d6f-f781-4c34-b465-80ff84c98b40",
        "id": "u8IT0wm-VqG2",
        "colab": {
          "base_uri": "https://localhost:8080/",
          "height": 304
        }
      },
      "source": [
        "#plot data with Theis curve fit line\n",
        "plt.semilogx(fitline)\n",
        "plt.semilogx(data,marker='o',linewidth=0)\n",
        "plt.title('Okawville Aquifer Test',fontsize=15)\n",
        "plt.xlabel('Minutes',fontsize=13)\n",
        "plt.ylabel('Drawdown (ft)',fontsize=13)\n",
        "plt.show()"
      ],
      "execution_count": 0,
      "outputs": [
        {
          "output_type": "display_data",
          "data": {
            "image/png": "[encoded data removed]",
            "text/plain": [
              "<Figure size 432x288 with 1 Axes>"
            ]
          },
          "metadata": {
            "tags": []
          }
        }
      ]
    },
    {
      "cell_type": "code",
      "metadata": {
        "id": "YNZaTfRZGcsy",
        "colab_type": "code",
        "outputId": "f170cac2-e2e9-4b5a-bdfc-08b067c15f69",
        "colab": {
          "base_uri": "https://localhost:8080/",
          "height": 35
        }
      },
      "source": [
        "#Final answer for part II\n",
        "Storativity=round(para[0],4)\n",
        "Transmissivity=int(60*24*round(para[1],0)) #convert ft^2/min to ft^2/day\n",
        "print('Directly solving the Theis equation indicates that S (storativity, unitless) =',Storativity,'and T (transmissivity) =',Transmissivity,'ft^2/day')"
      ],
      "execution_count": 0,
      "outputs": [
        {
          "output_type": "stream",
          "text": [
            "Directly solving the Theis equation indicates that S (storativity, unitless) = 0.0221 and T (transmissivity) = 2880 ft^2/day\n"
          ],
          "name": "stdout"
        }
      ]
    },
    {
      "cell_type": "markdown",
      "metadata": {
        "id": "jzfne0U2fMHj",
        "colab_type": "text"
      },
      "source": [
        "## Part III: Contamination Analysis\n",
        "\n",
        "The village would like to know how long it would take for the contamination to reach a well at the new site pumping at a rate Q of 40.1 $ft^3/min$ (300 gpm). Assuming the initial pre-pumping water table configuration is a flat level surface, the groundwater flow gradient from the brine contamination zone towards the well will be a function of the drawdown created by the well. Calculate the drawdown at 1 ft intervals from the well to the edge of the brine zone (starting at r = 1' and ending at r = 5200').  Approximate the travel time by calculating the linear groundwater velocity (v) for each of the segments. Porosity is 20%.\n",
        "\n",
        "To calculate the drawdown ($s$ or $\\Delta(h_0-h)$) at the given radial distances from the well, use the Theis solution. For time (t) use 180 days (259200 mins), which is the typical length of the groundwater discharge season in Illinois. For this problem, ignore the effects of the different boundary conditions.\n",
        "\n",
        "<b>Include:</b>\n",
        "<ul>\n",
        "    <li>The travel time to 3 significant figures.</li>\n",
        "    <li>A plot with the primary axis showing drawdown and the secondary axis showing velocity.</li>\n",
        "</ul>\n",
        "\n",
        "Click on the following links to find two useful images that you <b>may</b> need for this analysis:\n",
        "\n",
        "[Well log for supply well 4](https://share.cocalc.com/share/84a5dae3-8e5c-4c85-bbd4-1d36447235d6/assignments/Prob%20Set%203/Okawville%20Well%20Log.png?viewer=share)\n",
        "\n",
        "[High-resolution map of this area showing the contamination plumes](https://cocalc.com/share/84a5dae3-8e5c-4c85-bbd4-1d36447235d6/assignments/Prob%20Set%203/BrineContaminationMap.png?viewer=share)\n",
        "\n",
        "<b>Answer from hand analysis:</b> travel time was ~35 years. Your response should be somewhere between 30-40 years."
      ]
    },
    {
      "cell_type": "code",
      "metadata": {
        "id": "FOvymsFvUKMQ",
        "colab_type": "code",
        "colab": {}
      },
      "source": [
        "#Givens\n",
        "\n",
        "Q2=40.1 #pumping rate, ft^3/min\n",
        "t=259200 #time at which to calculate drawdown (ft) at distance r (ft) from well, mins\n",
        "n=0.2 # porosity, unitless\n",
        "b=45.5 #estimated from well log: 65.5-20, ft"
      ],
      "execution_count": 0,
      "outputs": []
    },
    {
      "cell_type": "code",
      "metadata": {
        "id": "bUNrzD9KKOID",
        "colab_type": "code",
        "colab": {}
      },
      "source": [
        "#Create DataFrame (scry) of values for radial distance from the well (rad) of 1 to 5200 ft\n",
        "\n",
        "rad=[['rad',[value for value in range(1,5201)]]]\n",
        "#print(type(rad),rad)\n",
        "scry=pd.DataFrame.from_dict(dict(rad))\n",
        "scry['delta_r']=scry.rad-scry.rad.shift() #create column for difference between each radial distance\n",
        "scry.delta_r=scry.delta_r.fillna(method='bfill')\n",
        "#print(type(scry),scry)"
      ],
      "execution_count": 0,
      "outputs": []
    },
    {
      "cell_type": "code",
      "metadata": {
        "id": "0dLx7famKSrh",
        "colab_type": "code",
        "colab": {}
      },
      "source": [
        "#Calculate drawdown (s) at each r using t = 259200 mins\n",
        "#para[0] = S, para[1] = T\n",
        "\n",
        "scry['drawdown']=Theis(t,para[0],para[1],Q2,scry.rad)\n",
        "\n",
        "scry['delta_s']=scry.drawdown.shift()-scry.drawdown #create column for difference between each drawdown from one rad to the next\n",
        "scry.delta_s=scry.delta_s.fillna(method='bfill')"
      ],
      "execution_count": 0,
      "outputs": []
    },
    {
      "cell_type": "code",
      "metadata": {
        "id": "QqZvv7IYLJ1n",
        "colab_type": "code",
        "colab": {}
      },
      "source": [
        "#Calculate linear groundwater velocity (v) at each s in the drawdown column\n",
        "#start with q (darcy flow), ft/min\n",
        "scry['q']=para[1]/b*scry.delta_s/scry.delta_r #q=T/b*s/r (Darcy's law for depth averaged transmissivity) \n",
        "                                       #where (s = delta_s = change in head between r's) and (r = delta_r = change in horizontal distance)\n",
        "scry['vcity']=scry.q/n*1440 #linear velocity = q/n, with conversion factor to get units of ft/day\n",
        "#print(scry)"
      ],
      "execution_count": 0,
      "outputs": []
    },
    {
      "cell_type": "code",
      "metadata": {
        "id": "8zCh8hZxLTiJ",
        "colab_type": "code",
        "outputId": "6cdebe4e-389f-43e1-a284-ff707f990716",
        "colab": {
          "base_uri": "https://localhost:8080/",
          "height": 297
        }
      },
      "source": [
        "#create plot with drawdown vs distance from well on primary axis & linear velocity vs distance on secondary axis\n",
        "fig, ax1 = plt.subplots()\n",
        "\n",
        "color = 'tab:red'\n",
        "ax1.set_xlabel('Distance from Well (ft)',fontsize=13)\n",
        "ax1.set_ylabel('Drawdown (ft)', color=color,fontsize=13)\n",
        "ax1.plot(scry.rad,scry.drawdown, color=color, )\n",
        "ax1.tick_params(axis='y', labelcolor=color)\n",
        "\n",
        "ax2 = ax1.twinx()  # instantiate a second axes that shares the same x-axis\n",
        "\n",
        "color = 'tab:blue'\n",
        "ax2.set_yscale(\"log\")\n",
        "ax2.set_ylabel('Velocity (ft/day)', color=color,fontsize=13)  # we already handled the x-label with ax1\n",
        "ax2.plot(scry.rad,scry.vcity, color=color,)\n",
        "ax2.tick_params(axis='y', labelcolor=color)\n",
        "\n",
        "plt.title('Well 4 Groundwater Capture',fontsize=15)\n",
        "fig.tight_layout()  # otherwise the right y-label is slightly clipped\n",
        "plt.show()"
      ],
      "execution_count": 0,
      "outputs": [
        {
          "output_type": "display_data",
          "data": {
            "image/png": "[encoded data removed]",
            "text/plain": [
              "<Figure size 432x288 with 2 Axes>"
            ]
          },
          "metadata": {
            "tags": []
          }
        }
      ]
    },
    {
      "cell_type": "code",
      "metadata": {
        "id": "X6wxkPaGLmOv",
        "colab_type": "code",
        "colab": {}
      },
      "source": [
        "#Calculate time contamination would take to travel each 1-ft r interval, given respective velocity, and sum\n",
        "\n",
        "times=scry.delta_r/scry.vcity # time=length/velocity (days)\n",
        "cumulative=sum(times.tolist())/365 #convert time (series) to list in order to use sum function, convert sum to years"
      ],
      "execution_count": 0,
      "outputs": []
    },
    {
      "cell_type": "code",
      "metadata": {
        "id": "xzBj1emeL-c0",
        "colab_type": "code",
        "outputId": "5928eb5b-7d11-40fb-f0ee-0938f976224d",
        "colab": {
          "base_uri": "https://localhost:8080/",
          "height": 35
        }
      },
      "source": [
        "#Print answer\n",
        "print('The Theis equation indicates that contamination travel time to the well will likely be around',int(round(cumulative,0)),'years under the given conditions.')"
      ],
      "execution_count": 0,
      "outputs": [
        {
          "output_type": "stream",
          "text": [
            "The Theis equation indicates that contamination travel time to the well will likely be around 43 years under the given conditions.\n"
          ],
          "name": "stdout"
        }
      ]
    },
    {
      "cell_type": "markdown",
      "metadata": {
        "id": "8QrIQz1dfMHk",
        "colab_type": "text"
      },
      "source": [
        "## Part IV: Conclusions\n",
        "\n",
        "Would you recommend constructing a production well at the new site if the financing for the wells and the pipelines require a 40 year life cycle? Use the above analyses to justify your response. Be sure to comment on any uncertainty in your analysis. Limit this discussion to 1 paragraph."
      ]
    },
    {
      "cell_type": "markdown",
      "metadata": {
        "id": "_IoKRy2SyF-k",
        "colab_type": "text"
      },
      "source": [
        "To completely answer this question would require analysis of how long it would take the contamination concentration at the new well to surpass limits enforced by the EPA or another regulatory agency. The leading edge of the contamination plume is much lower in concentration than the center; so, although the leading edge of the plume is predicted to reach the new well in 43 years, the village almost certainly actually has longer than this before the water would be unusable. However, there is a lot of uncertainty with predicting the future. The model has inherent uncertainty indicated by the covariance. I would recommend looking for a site which would give a longer useful life, but if none is available, constructing a production well at the new site could be feasible even if the financing requires a 40 year life cycle."
      ]
    }
  ]
}