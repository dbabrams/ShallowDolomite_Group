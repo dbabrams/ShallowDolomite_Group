{
  "nbformat": 4,
  "nbformat_minor": 0,
  "metadata": {
    "colab": {
      "name": "MeanError.ipynb",
      "provenance": [],
      "authorship_tag": "ABX9TyODysFoYLG70yYtt0s+0QrN",
      "include_colab_link": true
    },
    "kernelspec": {
      "name": "python3",
      "display_name": "Python 3"
    }
  },
  "cells": [
    {
      "cell_type": "markdown",
      "metadata": {
        "id": "view-in-github",
        "colab_type": "text"
      },
      "source": [
        "<a href=\"https://colab.research.google.com/github/dbabrams/ShallowDolomite_Group/blob/domaindef%2Fmcampo/MeanError.ipynb\" target=\"_parent\"><img src=\"https://colab.research.google.com/assets/colab-badge.svg\" alt=\"Open In Colab\"/></a>"
      ]
    },
    {
      "cell_type": "code",
      "metadata": {
        "id": "THr4MNvVwd2O",
        "colab_type": "code",
        "colab": {}
      },
      "source": [
        "#import necessary packages\n",
        "!apt-get -qq install python-cartopy python3-cartopy\n",
        "import cartopy\n",
        "!pip install pykrige\n",
        "# Now let's import packages\n",
        "import pandas as pd\n",
        "import matplotlib.pyplot as plt\n",
        "import pylab #using as a plotting library for spatial data, make contours\n",
        "import numpy as np #gridded datasets and matrices; array package\n",
        "\n",
        "# import cartopy, which we will use to map\n",
        "import cartopy.crs as ccrs                   # import projections\n",
        "import cartopy.feature as cf                 # import features\n",
        "\n",
        "\n",
        "# import the UniversalKriging function from pykrige.uk \n",
        "from pykrige.uk import UniversalKriging"
      ],
      "execution_count": 0,
      "outputs": []
    },
    {
      "cell_type": "code",
      "metadata": {
        "id": "XoDzcI22xDnD",
        "colab_type": "code",
        "colab": {}
      },
      "source": [
        ""
      ],
      "execution_count": 0,
      "outputs": []
    }
  ]
}