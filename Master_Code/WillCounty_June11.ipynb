{
  "nbformat": 4,
  "nbformat_minor": 0,
  "metadata": {
    "colab": {
      "name": "MasonCountyTest (1).ipynb",
      "provenance": [],
      "collapsed_sections": [],
      "toc_visible": true,
      "include_colab_link": true
    },
    "kernelspec": {
      "name": "python3",
      "display_name": "Python 3"
    },
    "language_info": {
      "codemirror_mode": {
        "name": "ipython",
        "version": 3
      },
      "file_extension": ".py",
      "mimetype": "text/x-python",
      "name": "python",
      "nbconvert_exporter": "python",
      "pygments_lexer": "ipython3",
      "version": "3.7.6"
    }
  },
  "cells": [
    {
      "cell_type": "markdown",
      "metadata": {
        "id": "view-in-github",
        "colab_type": "text"
      },
      "source": [
        "<a href=\"https://colab.research.google.com/github/dbabrams/ShallowDolomite_Group/blob/master/Master_Code/WillCounty_June11.ipynb\" target=\"_parent\"><img src=\"https://colab.research.google.com/assets/colab-badge.svg\" alt=\"Open In Colab\"/></a>"
      ]
    },
    {
      "cell_type": "markdown",
      "metadata": {
        "id": "G4KWGGv5A7F2",
        "colab_type": "text"
      },
      "source": [
        "# <center>FloPy Regional Model Development</center>\n",
        "The following script develops a regional MODFLOW model using FloPy and associated packages. The study domain is the Mahomet Aquifer in Illinois, particulary in the heavily irrigated region of Mason County. \n",
        "\n",
        "Note that you may not always have to compile MODFLOW, and you only have initialize code (#1) and import large files (#2) the first time you run the code in a session. Most of the time, you will only have to run #3 onward. "
      ]
    },
    {
      "cell_type": "markdown",
      "metadata": {
        "id": "MZeCuFvptP_f",
        "colab_type": "text"
      },
      "source": [
        "# 0. Compile MODFLOW (DO NOT RUN UNLESS NECESSARY)\n"
      ]
    },
    {
      "cell_type": "markdown",
      "metadata": {
        "id": "I0WdSEtOElwW",
        "colab_type": "text"
      },
      "source": [
        "When using Google CoLab, you cannot simply use an existing MODFLOW executable, but have to compile a a new one for use in this environment. I have already compiled MODFLOW, but am currently unsure if it will work for everybody. Please do not run the following code unless you get an error that the MODFLOW file was not found (will occur when running the model). "
      ]
    },
    {
      "cell_type": "code",
      "metadata": {
        "id": "Imxy2VTEuFWa",
        "colab_type": "code",
        "colab": {}
      },
      "source": [
        "#pip install https://github.com/modflowpy/pymake/zipball/master # install of the pymake package to compile MODFLOW"
      ],
      "execution_count": 0,
      "outputs": []
    },
    {
      "cell_type": "code",
      "metadata": {
        "colab_type": "code",
        "id": "GRcmZ0Oudvp1",
        "colab": {}
      },
      "source": [
        "# Code to complile the MODFLOW executable\n",
        "\n",
        "#import pymake\n",
        "\n",
        "#def make_mf2005():\n",
        "#    pymake.build_apps('mf2005')\n",
        "\n",
        "\n",
        "#if __name__ == \"__main__\":\n",
        "#    make_mf2005()\n",
        "\n",
        "\n",
        "\n",
        "#MF-NWT has more robust handling of dry cells\n",
        "\n",
        "#import pymake\n",
        "\n",
        "#def make_mfnwt():\n",
        "#    pymake.build_apps('mfnwt')\n",
        "\n",
        "#if __name__ == \"__main__\":\n",
        "#    make_mfnwt()\n"
      ],
      "execution_count": 0,
      "outputs": []
    },
    {
      "cell_type": "markdown",
      "metadata": {
        "id": "8Wf-e4N6BUJo",
        "colab_type": "text"
      },
      "source": [
        "# 1 Initializing the code\n"
      ]
    },
    {
      "cell_type": "markdown",
      "metadata": {
        "id": "N3dybMuFEr1q",
        "colab_type": "text"
      },
      "source": [
        "These few code blocks only have to be run at the beginning of the script or if a runtime connection is lost. See details for each below. "
      ]
    },
    {
      "cell_type": "markdown",
      "metadata": {
        "id": "AiQlOJosBqXy",
        "colab_type": "text"
      },
      "source": [
        "## 1A. Install needed packages\n",
        "There are three packages that must be installed in the CoLab environment to run this script. These include \n",
        "\n",
        "\"pyproj\", which allows for the conversion from WGS84 coordinates (as obtained from Google Earth), which are in lat/long decimal degrees, to Illimap coordinates, a specialized projection using Lambert Conformal Conic that is optimized for developing a model grid in the state of Illinois. \n",
        "\n",
        "\"flopy\" creates modflow executables, runs the model, and allows for manipulation of results.\n",
        "\n",
        "\"rasterio\" allows for the reading of raster files, and is closely tied to the development of \"flopy\" input files\n"
      ]
    },
    {
      "cell_type": "code",
      "metadata": {
        "colab_type": "code",
        "id": "z0rwRhzkGuf3",
        "outputId": "21cebf81-c02c-44d4-95b4-0506525d7a32",
        "colab": {
          "base_uri": "https://localhost:8080/",
          "height": 1000
        }
      },
      "source": [
        "!pip install pyproj\n",
        "!pip install flopy\n",
        "!pip install rasterio\n",
        "!pip install pykrige\n",
        "!pip install metpy\n",
        "!apt-get -qq install python-cartopy python3-cartopy"
      ],
      "execution_count": 1,
      "outputs": [
        {
          "output_type": "stream",
          "text": [
            "Collecting pyproj\n",
            "\u001b[?25l  Downloading https://files.pythonhosted.org/packages/e5/c3/071e080230ac4b6c64f1a2e2f9161c9737a2bc7b683d2c90b024825000c0/pyproj-2.6.1.post1-cp36-cp36m-manylinux2010_x86_64.whl (10.9MB)\n",
            "\u001b[K     |████████████████████████████████| 10.9MB 3.2MB/s \n",
            "\u001b[?25hInstalling collected packages: pyproj\n",
            "Successfully installed pyproj-2.6.1.post1\n",
            "Collecting flopy\n",
            "\u001b[?25l  Downloading https://files.pythonhosted.org/packages/b7/6a/44206d49f3fa6edbb83e01ff4c58aa8dc188e0071de88cf14b36e19b3f2a/flopy-3.3.0.zip (1.0MB)\n",
            "\u001b[K     |████████████████████████████████| 1.1MB 3.4MB/s \n",
            "\u001b[?25hRequirement already satisfied: numpy>=1.9 in /usr/local/lib/python3.6/dist-packages (from flopy) (1.18.5)\n",
            "Building wheels for collected packages: flopy\n",
            "  Building wheel for flopy (setup.py) ... \u001b[?25l\u001b[?25hdone\n",
            "  Created wheel for flopy: filename=flopy-3.3.0-cp36-none-any.whl size=1038572 sha256=3c6ea94a6475d352ccd3f6ae04f98ede85af56f298f81f0ec63a862c4183884f\n",
            "  Stored in directory: /root/.cache/pip/wheels/d6/af/5a/6d32a03da175b47d8f8cca93b4d363a864cf604164b85af785\n",
            "Successfully built flopy\n",
            "Installing collected packages: flopy\n",
            "Successfully installed flopy-3.3.0\n",
            "Collecting rasterio\n",
            "\u001b[?25l  Downloading https://files.pythonhosted.org/packages/02/7e/eed7dfd109fc89ed3cf8b5ed3f26f841b03b92f6ca1c31c4745f938a081b/rasterio-1.1.5-cp36-cp36m-manylinux1_x86_64.whl (18.2MB)\n",
            "\u001b[K     |████████████████████████████████| 18.2MB 1.3MB/s \n",
            "\u001b[?25hCollecting snuggs>=1.4.1\n",
            "  Downloading https://files.pythonhosted.org/packages/cc/0e/d27d6e806d6c0d1a2cfdc5d1f088e42339a0a54a09c3343f7f81ec8947ea/snuggs-1.4.7-py3-none-any.whl\n",
            "Requirement already satisfied: attrs in /usr/local/lib/python3.6/dist-packages (from rasterio) (19.3.0)\n",
            "Collecting affine\n",
            "  Downloading https://files.pythonhosted.org/packages/ac/a6/1a39a1ede71210e3ddaf623982b06ecfc5c5c03741ae659073159184cd3e/affine-2.3.0-py2.py3-none-any.whl\n",
            "Collecting cligj>=0.5\n",
            "  Downloading https://files.pythonhosted.org/packages/e4/be/30a58b4b0733850280d01f8bd132591b4668ed5c7046761098d665ac2174/cligj-0.5.0-py3-none-any.whl\n",
            "Requirement already satisfied: numpy in /usr/local/lib/python3.6/dist-packages (from rasterio) (1.18.5)\n",
            "Collecting click-plugins\n",
            "  Downloading https://files.pythonhosted.org/packages/e9/da/824b92d9942f4e472702488857914bdd50f73021efea15b4cad9aca8ecef/click_plugins-1.1.1-py2.py3-none-any.whl\n",
            "Requirement already satisfied: click<8,>=4.0 in /usr/local/lib/python3.6/dist-packages (from rasterio) (7.1.2)\n",
            "Requirement already satisfied: pyparsing>=2.1.6 in /usr/local/lib/python3.6/dist-packages (from snuggs>=1.4.1->rasterio) (2.4.7)\n",
            "Installing collected packages: snuggs, affine, cligj, click-plugins, rasterio\n",
            "Successfully installed affine-2.3.0 click-plugins-1.1.1 cligj-0.5.0 rasterio-1.1.5 snuggs-1.4.7\n",
            "Collecting pykrige\n",
            "\u001b[?25l  Downloading https://files.pythonhosted.org/packages/94/16/a37be67b6eff817a44b548e1c4012df6201ea7fc0f9d59bc1a455e6924f9/PyKrige-1.5.0-cp36-cp36m-manylinux2010_x86_64.whl (968kB)\n",
            "\u001b[K     |████████████████████████████████| 972kB 3.4MB/s \n",
            "\u001b[?25hRequirement already satisfied: scipy>=1.1.0 in /usr/local/lib/python3.6/dist-packages (from pykrige) (1.4.1)\n",
            "Requirement already satisfied: numpy>=1.14.5 in /usr/local/lib/python3.6/dist-packages (from pykrige) (1.18.5)\n",
            "Installing collected packages: pykrige\n",
            "Successfully installed pykrige-1.5.0\n",
            "Collecting metpy\n",
            "\u001b[?25l  Downloading https://files.pythonhosted.org/packages/47/4d/e33b76fdca421daeca8ac06fc012de40553364e7e79468040ea42f66a989/MetPy-0.12.1-py3-none-any.whl (319kB)\n",
            "\u001b[K     |████████████████████████████████| 327kB 3.3MB/s \n",
            "\u001b[?25hCollecting pint>=0.10.1\n",
            "\u001b[?25l  Downloading https://files.pythonhosted.org/packages/3f/1c/95b113bd8da60e2aeecb4988c007a867682c739c721cb3ab16de77913040/Pint-0.12-py2.py3-none-any.whl (192kB)\n",
            "\u001b[K     |████████████████████████████████| 194kB 7.8MB/s \n",
            "\u001b[?25hRequirement already satisfied: numpy>=1.16.0 in /usr/local/lib/python3.6/dist-packages (from metpy) (1.18.5)\n",
            "Requirement already satisfied: xarray>=0.13.0 in /usr/local/lib/python3.6/dist-packages (from metpy) (0.15.1)\n",
            "Collecting pooch>=0.1\n",
            "\u001b[?25l  Downloading https://files.pythonhosted.org/packages/1c/c3/0a423ed09fa22e9003b8bf72c2863fde80585badbc1a726176eaff3cd450/pooch-1.1.1-py3-none-any.whl (45kB)\n",
            "\u001b[K     |████████████████████████████████| 51kB 6.0MB/s \n",
            "\u001b[?25hRequirement already satisfied: scipy>=1.0 in /usr/local/lib/python3.6/dist-packages (from metpy) (1.4.1)\n",
            "Requirement already satisfied: matplotlib>=2.1.0 in /usr/local/lib/python3.6/dist-packages (from metpy) (3.2.1)\n",
            "Requirement already satisfied: pandas>=0.22.0 in /usr/local/lib/python3.6/dist-packages (from metpy) (1.0.4)\n",
            "Requirement already satisfied: traitlets>=4.3.0 in /usr/local/lib/python3.6/dist-packages (from metpy) (4.3.3)\n",
            "Requirement already satisfied: setuptools in /usr/local/lib/python3.6/dist-packages (from pint>=0.10.1->metpy) (47.1.1)\n",
            "Requirement already satisfied: packaging in /usr/local/lib/python3.6/dist-packages (from pooch>=0.1->metpy) (20.4)\n",
            "Requirement already satisfied: requests in /usr/local/lib/python3.6/dist-packages (from pooch>=0.1->metpy) (2.23.0)\n",
            "Collecting appdirs\n",
            "  Downloading https://files.pythonhosted.org/packages/3b/00/2344469e2084fb287c2e0b57b72910309874c3245463acd6cf5e3db69324/appdirs-1.4.4-py2.py3-none-any.whl\n",
            "Requirement already satisfied: kiwisolver>=1.0.1 in /usr/local/lib/python3.6/dist-packages (from matplotlib>=2.1.0->metpy) (1.2.0)\n",
            "Requirement already satisfied: python-dateutil>=2.1 in /usr/local/lib/python3.6/dist-packages (from matplotlib>=2.1.0->metpy) (2.8.1)\n",
            "Requirement already satisfied: cycler>=0.10 in /usr/local/lib/python3.6/dist-packages (from matplotlib>=2.1.0->metpy) (0.10.0)\n",
            "Requirement already satisfied: pyparsing!=2.0.4,!=2.1.2,!=2.1.6,>=2.0.1 in /usr/local/lib/python3.6/dist-packages (from matplotlib>=2.1.0->metpy) (2.4.7)\n",
            "Requirement already satisfied: pytz>=2017.2 in /usr/local/lib/python3.6/dist-packages (from pandas>=0.22.0->metpy) (2018.9)\n",
            "Requirement already satisfied: decorator in /usr/local/lib/python3.6/dist-packages (from traitlets>=4.3.0->metpy) (4.4.2)\n",
            "Requirement already satisfied: six in /usr/local/lib/python3.6/dist-packages (from traitlets>=4.3.0->metpy) (1.12.0)\n",
            "Requirement already satisfied: ipython-genutils in /usr/local/lib/python3.6/dist-packages (from traitlets>=4.3.0->metpy) (0.2.0)\n",
            "Requirement already satisfied: chardet<4,>=3.0.2 in /usr/local/lib/python3.6/dist-packages (from requests->pooch>=0.1->metpy) (3.0.4)\n",
            "Requirement already satisfied: idna<3,>=2.5 in /usr/local/lib/python3.6/dist-packages (from requests->pooch>=0.1->metpy) (2.9)\n",
            "Requirement already satisfied: certifi>=2017.4.17 in /usr/local/lib/python3.6/dist-packages (from requests->pooch>=0.1->metpy) (2020.4.5.1)\n",
            "Requirement already satisfied: urllib3!=1.25.0,!=1.25.1,<1.26,>=1.21.1 in /usr/local/lib/python3.6/dist-packages (from requests->pooch>=0.1->metpy) (1.24.3)\n",
            "Installing collected packages: pint, appdirs, pooch, metpy\n",
            "Successfully installed appdirs-1.4.4 metpy-0.12.1 pint-0.12 pooch-1.1.1\n",
            "Selecting previously unselected package python-pkg-resources.\n",
            "(Reading database ... 144328 files and directories currently installed.)\n",
            "Preparing to unpack .../0-python-pkg-resources_39.0.1-2_all.deb ...\n",
            "Unpacking python-pkg-resources (39.0.1-2) ...\n",
            "Selecting previously unselected package python-pyshp.\n",
            "Preparing to unpack .../1-python-pyshp_1.2.12+ds-1_all.deb ...\n",
            "Unpacking python-pyshp (1.2.12+ds-1) ...\n",
            "Selecting previously unselected package python-shapely.\n",
            "Preparing to unpack .../2-python-shapely_1.6.4-1_amd64.deb ...\n",
            "Unpacking python-shapely (1.6.4-1) ...\n",
            "Selecting previously unselected package python-six.\n",
            "Preparing to unpack .../3-python-six_1.11.0-2_all.deb ...\n",
            "Unpacking python-six (1.11.0-2) ...\n",
            "Selecting previously unselected package python-cartopy:amd64.\n",
            "Preparing to unpack .../4-python-cartopy_0.14.2+dfsg1-2build3_amd64.deb ...\n",
            "Unpacking python-cartopy:amd64 (0.14.2+dfsg1-2build3) ...\n",
            "Selecting previously unselected package python3-pkg-resources.\n",
            "Preparing to unpack .../5-python3-pkg-resources_39.0.1-2_all.deb ...\n",
            "Unpacking python3-pkg-resources (39.0.1-2) ...\n",
            "Selecting previously unselected package python3-pyshp.\n",
            "Preparing to unpack .../6-python3-pyshp_1.2.12+ds-1_all.deb ...\n",
            "Unpacking python3-pyshp (1.2.12+ds-1) ...\n",
            "Selecting previously unselected package python3-shapely.\n",
            "Preparing to unpack .../7-python3-shapely_1.6.4-1_amd64.deb ...\n",
            "Unpacking python3-shapely (1.6.4-1) ...\n",
            "Selecting previously unselected package python3-six.\n",
            "Preparing to unpack .../8-python3-six_1.11.0-2_all.deb ...\n",
            "Unpacking python3-six (1.11.0-2) ...\n",
            "Selecting previously unselected package python3-cartopy:amd64.\n",
            "Preparing to unpack .../9-python3-cartopy_0.14.2+dfsg1-2build3_amd64.deb ...\n",
            "Unpacking python3-cartopy:amd64 (0.14.2+dfsg1-2build3) ...\n",
            "Setting up python-shapely (1.6.4-1) ...\n",
            "Setting up python-pyshp (1.2.12+ds-1) ...\n",
            "Setting up python3-six (1.11.0-2) ...\n",
            "Setting up python3-shapely (1.6.4-1) ...\n",
            "Setting up python3-pyshp (1.2.12+ds-1) ...\n",
            "Setting up python3-pkg-resources (39.0.1-2) ...\n",
            "Setting up python-pkg-resources (39.0.1-2) ...\n",
            "Setting up python-six (1.11.0-2) ...\n",
            "Setting up python3-cartopy:amd64 (0.14.2+dfsg1-2build3) ...\n",
            "Setting up python-cartopy:amd64 (0.14.2+dfsg1-2build3) ...\n"
          ],
          "name": "stdout"
        }
      ]
    },
    {
      "cell_type": "markdown",
      "metadata": {
        "id": "g6tMviUVufyx",
        "colab_type": "text"
      },
      "source": [
        "## 1B. Import packages"
      ]
    },
    {
      "cell_type": "code",
      "metadata": {
        "colab_type": "code",
        "id": "It0QTEJCQCuV",
        "colab": {
          "base_uri": "https://localhost:8080/",
          "height": 34
        },
        "outputId": "28458044-f5dd-43ce-edb2-a42a5531c7f2"
      },
      "source": [
        "import flopy # import flopy to develop, run, and analyze the model\n",
        "from flopy.utils import Raster # plot rasters from flopy\n",
        "import matplotlib as mp\n",
        "import pandas as pd\n",
        "import pyproj # change between WGS84 and Illimap coordinates\n",
        "import rasterio  # import rasters\n",
        "import matplotlib.pyplot as plt\n",
        "import matplotlib.patches as mpatches\n",
        "import matplotlib.lines as mlines\n",
        "import numpy as np\n",
        "import cartopy\n",
        "import cartopy.crs as ccrs # import projections\n",
        "import cartopy.feature as cf # import features\n",
        "from pykrige.uk import UniversalKriging\n",
        "import pylab # using as a plotting library for spatial data, make contours\n",
        "from metpy.plots import USCOUNTIES\n",
        "\n",
        "# the following code authorizes you to access files on Google Drive\n",
        "from google.colab import drive\n",
        "from pydrive.auth import GoogleAuth\n",
        "from pydrive.drive import GoogleDrive\n",
        "from google.colab import auth, files\n",
        "from oauth2client.client import GoogleCredentials\n"
      ],
      "execution_count": 2,
      "outputs": [
        {
          "output_type": "stream",
          "text": [
            "flopy is installed in /usr/local/lib/python3.6/dist-packages/flopy\n"
          ],
          "name": "stdout"
        }
      ]
    },
    {
      "cell_type": "markdown",
      "metadata": {
        "id": "MRFZ3O-TurE2",
        "colab_type": "text"
      },
      "source": [
        "## 1C. Authenticate with Google\n",
        "This will allow you to access shared files on my Google Drive or your own. "
      ]
    },
    {
      "cell_type": "code",
      "metadata": {
        "colab_type": "code",
        "id": "hstJX5XhPT9r",
        "colab": {}
      },
      "source": [
        "auth.authenticate_user()\n",
        "gauth = GoogleAuth()\n",
        "gauth.credentials = GoogleCredentials.get_application_default()\n",
        "drive = GoogleDrive(gauth)"
      ],
      "execution_count": 0,
      "outputs": []
    },
    {
      "cell_type": "markdown",
      "metadata": {
        "id": "WoUf-0HKvAUm",
        "colab_type": "text"
      },
      "source": [
        "## 1D. Read the MODFLOW executable from Google Drive\n",
        "\n",
        "Here you are going to download the MODFLOW executable from Daniel's Google Drive. This will show up in your temporary working directory for use later in the code. <b>We need to confirm whether this will work in CoLab, or if you need to compile a new version of MODFLOW each time.</b>\n",
        "\n",
        "Note that this makes use of a key on your Google Drive sharable link for the file. This generally takes the form of: https://drive.google.com/file/d/**key**/view?usp=sharing, in this case, key = 1SwqsSCvyrnrCiopeEp52LBcZYNcgBT9V"
      ]
    },
    {
      "cell_type": "code",
      "metadata": {
        "colab_type": "code",
        "id": "NITzYdM_PgFM",
        "colab": {}
      },
      "source": [
        "downloaded = drive.CreateFile({'id':\"1SwqsSCvyrnrCiopeEp52LBcZYNcgBT9V\"}) # This is the key that is defined in the sharable link of a file on Google Drive\n",
        "downloaded.GetContentFile('mf2005') # get the content from Google Drive and name it (let's stick with mf2005 here)\n",
        "\n",
        "#downloaded = drive.CreateFile({'id':\"1iThxRoGVhofLPd8HOF7Vn0awRVrXZcVb\"}) # This is the key that is defined in the sharable link of a file on Google Drive\n",
        "#downloaded.GetContentFile('mfnwt') # get the content from Google Drive and name it (let's stick with mf2005 here)"
      ],
      "execution_count": 0,
      "outputs": []
    },
    {
      "cell_type": "markdown",
      "metadata": {
        "id": "r-owARmIvCoH",
        "colab_type": "text"
      },
      "source": [
        "Now we need to copy the executable into a location where we can later run it. Note that the \"!\" nomenclature is a shell command, beyond the scope of this course to learn that!"
      ]
    },
    {
      "cell_type": "code",
      "metadata": {
        "colab_type": "code",
        "id": "9WK5wZAzjdna",
        "colab": {}
      },
      "source": [
        "!cp mf2005 /usr/local/bin\n",
        "!chmod 755 /usr/local/bin/mf2005\n",
        "\n",
        "#!cp mfnwt /usr/local/bin\n",
        "#!chmod 755 /usr/local/bin/mfnwt"
      ],
      "execution_count": 0,
      "outputs": []
    },
    {
      "cell_type": "markdown",
      "metadata": {
        "id": "oywHJyvfxXAq",
        "colab_type": "text"
      },
      "source": [
        "# 2 Import the big stuff\n"
      ]
    },
    {
      "cell_type": "markdown",
      "metadata": {
        "id": "bd7Rk7IlD3Ra",
        "colab_type": "text"
      },
      "source": [
        "We don't want to repeatedly import large files for fear of Google revoking our CoLab priveleges for a few hours. Once or twice isn't a big deal, but repeatedly might be an issue. Let Daniel know if this happens- there are ways to reduce our file sizes. \n",
        "\n",
        "For now, the \"big stuff\" includes a DEM of Illinois and the river excel file we worked with last time. "
      ]
    },
    {
      "cell_type": "markdown",
      "metadata": {
        "id": "7W_2AeFMx4Ai",
        "colab_type": "text"
      },
      "source": [
        "## 2A. Import the DEM"
      ]
    },
    {
      "cell_type": "code",
      "metadata": {
        "colab_type": "code",
        "id": "3ygMVkWFAcWv",
        "colab": {}
      },
      "source": [
        "# first import the land surface .tif from Google Drive\n",
        "downloaded = drive.CreateFile({'id':\"1389l8sgQ8-tsmIZuZosaqvbqpHY40n6l\"}) # ft above msl\n",
        "downloaded.GetContentFile('landsurface_el.tif')\n",
        "\n",
        "# first import the bedrock elevation .tif from Google Drive\n",
        "downloaded = drive.CreateFile({'id':\"1EZgZDjjILzvRzvY9nf0Qp0NHmspRq4kP\"})   \n",
        "downloaded.GetContentFile('bedrock_el.tif')\n",
        "\n",
        "# read in percent thickness of coarse grain for each model layer\n",
        "downloaded = drive.CreateFile({'id':\"18Kw3O6qCzIJ2L6KrVnRPIhea_F8VwyWn\"})   \n",
        "downloaded.GetContentFile('percentl1.tif')\n",
        "\n",
        "downloaded = drive.CreateFile({'id':\"1oZinFPKrGY-FXoE7Zu0okFpAAOe_bwau\"})   \n",
        "downloaded.GetContentFile('percentl2.tif')\n",
        "\n",
        "downloaded = drive.CreateFile({'id':\"1FqVEr4m_ElUyEZeyfnCMwVGDfUqavJZH\"})   \n",
        "downloaded.GetContentFile('percentl3.tif')\n",
        "\n",
        "downloaded = drive.CreateFile({'id':\"1KiHS9TLSP1GAVTjaaJZS4BAwF6gnUeDu\"})   \n",
        "downloaded.GetContentFile('percentl4.tif')\n",
        "\n",
        "downloaded = drive.CreateFile({'id':\"1Z-9EyaAK1NKnRHAlnyGYkI3suvBFC2I6\"})   \n",
        "downloaded.GetContentFile('percentl5.tif')\n",
        "\n",
        "downloaded = drive.CreateFile({'id':\"1pcB9aJpJGfkXOKz10rhs6MpWkQL1_dqr\"})   \n",
        "downloaded.GetContentFile('percentl6.tif')\n",
        "\n",
        "downloaded = drive.CreateFile({'id':\"1Fnh0HIKbUj7pEtlsUKR_Sr7WwfYzWul5\"})   \n",
        "downloaded.GetContentFile('percentl7.tif')\n",
        "\n",
        "downloaded = drive.CreateFile({'id':\"106JacgpwSA3wVAGcBIzGdc8rDVUB6dh7\"})   \n",
        "downloaded.GetContentFile('percentl8.tif')\n",
        "\n",
        "downloaded = drive.CreateFile({'id':\"1WJjhVJ_KSBhZDrgzY3YteNjxaz5nxBid\"})   \n",
        "downloaded.GetContentFile('percentl9.tif')"
      ],
      "execution_count": 0,
      "outputs": []
    },
    {
      "cell_type": "markdown",
      "metadata": {
        "id": "oqxp3yqCydpY",
        "colab_type": "text"
      },
      "source": [
        "## 2B. Import the river file"
      ]
    },
    {
      "cell_type": "code",
      "metadata": {
        "id": "3VqaFoQiu7tP",
        "colab_type": "code",
        "colab": {}
      },
      "source": [
        "# first import the Excel file from Google Drive\n",
        "downloaded = drive.CreateFile({'id':\"1JsAiGG4RvcfYrQtfgXRW9ZVfAkQ1yRVu\"})\n",
        "downloaded.GetContentFile('rivers_625.csv')"
      ],
      "execution_count": 0,
      "outputs": []
    },
    {
      "cell_type": "markdown",
      "metadata": {
        "id": "OROiooZxzUuH",
        "colab_type": "text"
      },
      "source": [
        "# 3 Create MODFLOW  packages"
      ]
    },
    {
      "cell_type": "markdown",
      "metadata": {
        "id": "F-uLI2Rf0PIw",
        "colab_type": "text"
      },
      "source": [
        "## 3A. Model Set-up"
      ]
    },
    {
      "cell_type": "markdown",
      "metadata": {
        "id": "FnPkGXMG0qdv",
        "colab_type": "text"
      },
      "source": [
        "### 3Ai. Define the Model Domain"
      ]
    },
    {
      "cell_type": "code",
      "metadata": {
        "colab_type": "code",
        "id": "xKgi6FiwSwY0",
        "outputId": "27b96a6e-f0ae-4915-a936-ed8d773242ca",
        "colab": {
          "base_uri": "https://localhost:8080/",
          "height": 70
        }
      },
      "source": [
        "#----------------------------------------------------------------------------\n",
        "# Define model domain in lat/long coordinates\n",
        "\n",
        "# Coordinates for each corner of the domain\n",
        "sw_lat = 41.174519     #41.356272     #41.41 #southwest latitude\n",
        "sw_long = -88.408339     #-88.311217     #-88.24 #southwest longitude\n",
        "ne_lat = 41.934977     #41.701295     #41.73 #northeast latitude\n",
        "ne_long = -87.318569     #-87.831109     #-88.03 #northeast longitude\n",
        "\n",
        "illimap = {'proj': 'lcc', # code for Lambert Conformal Conic\n",
        "     'ellps': 'clrk66',\n",
        "     'lon_0': -89.5,\n",
        "     'lat_0': 33,\n",
        "     'lat_1': 33,\n",
        "     'lat_2': 45,\n",
        "     'x_0': 2999994*0.3048,\n",
        "     'y_0': 0}\n",
        "\n",
        "prj = pyproj.Proj(illimap) #define \"prj\" as the illimap coordinate system\n",
        "\n",
        "wgs84 = pyproj.Proj(\"epsg:4326\") #define \"wgs84\" as the EPSG 4326 / WGS84 coordinate system\n",
        "\n",
        "# Note that WGS84 and EPSG 4326 are equivalent\n",
        "\n",
        "# Transform the coordinates of the NE and SW corners from WGS84 (lat and long) to Illimap (x and y)\n",
        "nex, ney = pyproj.transform(wgs84,illimap,ne_lat,ne_long) \n",
        "swx, swy = pyproj.transform(wgs84,illimap,sw_lat,sw_long)\n",
        "\n",
        "# Convert nex, ney, swx, swy from m to ft and round\n",
        "nex, ney = round(nex/0.3048,-4), round(ney/0.3048,-4)\n",
        "swx, swy = round(swx/0.3048,-4), round(swy/0.3048,-4)"
      ],
      "execution_count": 9,
      "outputs": [
        {
          "output_type": "stream",
          "text": [
            "/usr/local/lib/python3.6/dist-packages/ipykernel_launcher.py:26: DeprecationWarning: This function is deprecated. See: https://pyproj4.github.io/pyproj/stable/gotchas.html#upgrading-to-pyproj-2-from-pyproj-1\n",
            "/usr/local/lib/python3.6/dist-packages/ipykernel_launcher.py:27: DeprecationWarning: This function is deprecated. See: https://pyproj4.github.io/pyproj/stable/gotchas.html#upgrading-to-pyproj-2-from-pyproj-1\n"
          ],
          "name": "stderr"
        }
      ]
    },
    {
      "cell_type": "markdown",
      "metadata": {
        "id": "CpselZ1G2hoC",
        "colab_type": "text"
      },
      "source": [
        "### 3Aii. Define spatial and temporal discretization"
      ]
    },
    {
      "cell_type": "code",
      "metadata": {
        "colab_type": "code",
        "id": "JZPmYy-DkqGy",
        "colab": {}
      },
      "source": [
        "# Assign Discretization variables\n",
        "Lx = nex-swx # Width of the model domain in feet\n",
        "Ly = ney-swy # Height of the model domain in feet\n",
        "nlay = 10 # Number of model layers\n",
        "dx = 2000 \n",
        "dy = 2000\n",
        "nrow = int(Ly/dy) # Number of rows\n",
        "ncol = int(Lx/dx) # Number of columns\n",
        "\n",
        "nper = 1 #specify number of stress periods\n",
        "steady = [True] #specify if stress period is transient or steady-state\n"
      ],
      "execution_count": 0,
      "outputs": []
    },
    {
      "cell_type": "markdown",
      "metadata": {
        "id": "GoUbGJMb0e2Q",
        "colab_type": "text"
      },
      "source": [
        "### 3Aiii. Define river elevations\n",
        "\n"
      ]
    },
    {
      "cell_type": "code",
      "metadata": {
        "id": "xCZvnOQm05ww",
        "colab_type": "code",
        "colab": {}
      },
      "source": [
        "# Import river stage, lambert x, lambert y from river Excel file\n",
        "dfriv = pd.read_csv('rivers_625.csv')\n",
        "\n",
        "# Trim dataframe with river information to the model domain\n",
        "dfriv = dfriv.loc[dfriv['lamx']<nex]\n",
        "dfriv = dfriv.loc[dfriv['lamy']<ney]\n",
        "dfriv = dfriv.loc[dfriv['lamx']>swx]\n",
        "dfriv = dfriv.loc[dfriv['lamy']>swy]\n",
        "\n",
        "# Assign all rivers to the upper layer\n",
        "dfriv['lay'] = 0 #this actually assigns it to layer 1\n",
        "# Convert lamx to column and lamy to row\n",
        "dfriv['row'] = np.trunc((ney-dfriv['lamy'])/dy)\n",
        "dfriv['col'] = np.trunc((dfriv['lamx']-swx)/dx)\n",
        "# Define the river stage\n",
        "dfriv['stage'] = dfriv['rvr_stg']\n",
        "# Define the conductance\n",
        "dfriv['cond'] = 90000. #ft^2/d (this value was adjusted during calibration)\n",
        "# Define the river bottom\n",
        "dfriv['bot'] = dfriv['stage']-3\n",
        "# Drop unneeded columns\n",
        "dfriv = dfriv.drop(['STR_ORD_MI','STR_ORD_MA','SUM_LENGTH','rvr_stg','lamx','lamy'],axis=1)\n",
        "\n",
        "# Group duplicate rivers within a cell\n",
        "dfriv = dfriv.groupby(['lay','row','col'],as_index=False).mean()"
      ],
      "execution_count": 0,
      "outputs": []
    },
    {
      "cell_type": "markdown",
      "metadata": {
        "id": "lMLXmXKF838v",
        "colab_type": "text"
      },
      "source": [
        "### 3Aiv. Define top and bottom elevations"
      ]
    },
    {
      "cell_type": "code",
      "metadata": {
        "id": "0sv1P7Bg8-RF",
        "colab_type": "code",
        "colab": {}
      },
      "source": [
        "# Now load the raster using FloPy's built in Raster toolbox\n",
        "illinoisdem = Raster.load(\"landsurface_el.tif\")\n",
        "bedrock = Raster.load(\"bedrock_el.tif\")\n",
        "\n",
        "# Crop the DEM to the model domain\n",
        "illinoisdem.crop([(swx,swy),(swx,ney),(nex,ney),(nex,swy)])\n",
        "bedrock.crop([(swx,swy),(swx,ney),(nex,ney),(nex,swy)])\n",
        "# Define centroid of the southwestern most cell\n",
        "startx = swx+dx/2 \n",
        "starty = swy+dy/2\n",
        "# Calculate the x and y coordinates for the centroid of each cell \n",
        "xc = np.arange(swx+dx/2,nex+dx/2,dx) \n",
        "yc = np.arange(swy+dy/2,ney+dy/2,dy)\n",
        "# Create a grid of the x coordinate of each centroid and the y coordinate\n",
        "xarr, yarr = np.meshgrid(xc,yc)\n",
        "# Resample the topo raster to the grid of centroids of the model\n",
        "topgrid = illinoisdem.resample_to_grid(xarr,yarr,1,method='nearest') \n",
        "bedrock = bedrock.resample_to_grid(xarr,yarr,1,method='nearest')\n",
        "\n",
        "# We built our top elevation upside down, let's flip it\n",
        "topgrid = np.flipud(topgrid) \n",
        "bedrockgrid = np.flipud(bedrock)   \n",
        "\n",
        "# Create ibound as array of ints (1), indicating all cells are active\n",
        "# Inactivate cells west of the Mississippi River that were originally not present\n",
        "# Note that because inactive cells would overlap with the river boundaries, this code pushes inactive cells to the west a bit. Adjust per your model domain\n",
        "ibound = np.ones((nlay, nrow, ncol), dtype=np.int32)\n",
        "\n",
        "# Set the top of Layer 1 = River Elevation\n",
        "for index, row in dfriv.iterrows():  \n",
        "    topgrid[int(row['row']),int(row['col'])]=row['stage'] \n",
        "    #print(topgrid[int(row['row']),int(row['col'])],row['bot'])  \n",
        "\n",
        "# Make sure that all layers (combined) are at least 9 ft thick\n",
        "diff = topgrid-bedrockgrid\n",
        "\n",
        "diff[diff<=9.0] = 9.0\n",
        "\n",
        "# Each layer EXCEPT BEDROCK is the same thickness, we need 9 glacial layers\n",
        "laythick = diff/9 #glacial layers\n",
        "bothick = 50. #thickness of bedrock. May need to change?? look at report?\n",
        "\n",
        "# Calculate the bottom of each layer\n",
        "lay1bot = topgrid-laythick\n",
        "lay2bot = topgrid-2*laythick\n",
        "lay3bot = topgrid-3*laythick\n",
        "lay4bot = topgrid-4*laythick\n",
        "lay5bot = topgrid-5*laythick\n",
        "lay6bot = topgrid-6*laythick\n",
        "lay7bot = topgrid-7*laythick\n",
        "lay8bot = topgrid-8*laythick\n",
        "lay9bot = topgrid-9*laythick\n",
        "lay10bot = lay9bot-bothick \n",
        "\n",
        "botgrids = [lay1bot,lay2bot,lay3bot,lay4bot,lay5bot,lay6bot,lay7bot,lay8bot,lay9bot,lay10bot]"
      ],
      "execution_count": 0,
      "outputs": []
    },
    {
      "cell_type": "markdown",
      "metadata": {
        "id": "qDDlICg0Jqiv",
        "colab_type": "text"
      },
      "source": [
        "### 3Av. Assign hydraulic conductivity"
      ]
    },
    {
      "cell_type": "code",
      "metadata": {
        "id": "f2PuBykRIb7j",
        "colab_type": "code",
        "outputId": "2d9925c2-ce0a-4ce0-8355-80abc03d6ae3",
        "colab": {
          "base_uri": "https://localhost:8080/",
          "height": 350
        }
      },
      "source": [
        "# Assign hydrualic conductivity in ft/day\n",
        "kc = 220 #predominantly coarse\n",
        "kf = .3 #predominantly fine; maybe too high?\n",
        "kb = 20 #bedrock\n",
        "\n",
        "# Determine how to assign hydraulic conductivity\n",
        "threshold = 25 #19 #anything above this will be assigned kc;anything below will be assigned kf\n",
        "\n",
        "def kloader(rastername, kc, kf, threshold):\n",
        "  percent = Raster.load(rastername) # load raster\n",
        "  percent.crop([(swx,swy),(swx,ney),(nex,ney),(nex,swy)]) # crop array\n",
        "  percentgrid = percent.resample_to_grid(xarr,yarr,1,method='nearest') # resample to model grid\n",
        "  percentgrid = np.flipud(percentgrid) # flip the grid\n",
        "  maxrow = percentgrid.shape[0]\n",
        "  maxcol = percentgrid.shape[1]\n",
        "  for row in np.arange(maxrow,0,-1):\n",
        "    for col in np.arange(maxcol,0,-1):\n",
        "      if percentgrid[row-1,col-1] < -10:\n",
        "        percentgrid[row-1,col-1] = percentgrid[row-1,col]\n",
        "  percentgrid[percentgrid>=threshold] = kc # assign coarse k value\n",
        "  percentgrid[percentgrid<threshold] =kf # assign fine k value\n",
        "  return percentgrid\n",
        "\n",
        "kl1 = kloader('percentl1.tif',kc,kf,threshold)\n",
        "kl2 = kloader('percentl2.tif',kc,kf,threshold)\n",
        "kl3 = kloader('percentl3.tif',kc,kf,threshold)\n",
        "kl4 = kloader('percentl4.tif',kc,kf,threshold)\n",
        "kl5 = kloader('percentl5.tif',kc,kf,threshold)\n",
        "kl6 = kloader('percentl6.tif',kc,kf,threshold)\n",
        "kl7 = kloader('percentl7.tif',kc,kf,threshold)\n",
        "kl8 = kloader('percentl8.tif',kc,kf,threshold)\n",
        "kl9 = kloader('percentl9.tif',kc,kf,threshold)\n",
        "kl10 = kl9-kl9+kb\n",
        "\n",
        "khlayers = [kl1,kl2,kl3,kl4,kl5,kl6,kl7,kl8,kl9,kl10]\n",
        "kvlayers=np.divide(khlayers,10.)"
      ],
      "execution_count": 0,
      "outputs": [
        {
          "output_type": "error",
          "ename": "IndexError",
          "evalue": "ignored",
          "traceback": [
            "\u001b[0;31m---------------------------------------------------------------------------\u001b[0m",
            "\u001b[0;31mIndexError\u001b[0m                                Traceback (most recent call last)",
            "\u001b[0;32m<ipython-input-114-ab21c21be257>\u001b[0m in \u001b[0;36m<module>\u001b[0;34m()\u001b[0m\n\u001b[1;32m     22\u001b[0m   \u001b[0;32mreturn\u001b[0m \u001b[0mpercentgrid\u001b[0m\u001b[0;34m\u001b[0m\u001b[0;34m\u001b[0m\u001b[0m\n\u001b[1;32m     23\u001b[0m \u001b[0;34m\u001b[0m\u001b[0m\n\u001b[0;32m---> 24\u001b[0;31m \u001b[0mkl1\u001b[0m \u001b[0;34m=\u001b[0m \u001b[0mkloader\u001b[0m\u001b[0;34m(\u001b[0m\u001b[0;34m'percentl1.tif'\u001b[0m\u001b[0;34m,\u001b[0m\u001b[0mkc\u001b[0m\u001b[0;34m,\u001b[0m\u001b[0mkf\u001b[0m\u001b[0;34m,\u001b[0m\u001b[0mthreshold\u001b[0m\u001b[0;34m)\u001b[0m\u001b[0;34m\u001b[0m\u001b[0;34m\u001b[0m\u001b[0m\n\u001b[0m\u001b[1;32m     25\u001b[0m \u001b[0mkl2\u001b[0m \u001b[0;34m=\u001b[0m \u001b[0mkloader\u001b[0m\u001b[0;34m(\u001b[0m\u001b[0;34m'percentl2.tif'\u001b[0m\u001b[0;34m,\u001b[0m\u001b[0mkc\u001b[0m\u001b[0;34m,\u001b[0m\u001b[0mkf\u001b[0m\u001b[0;34m,\u001b[0m\u001b[0mthreshold\u001b[0m\u001b[0;34m)\u001b[0m\u001b[0;34m\u001b[0m\u001b[0;34m\u001b[0m\u001b[0m\n\u001b[1;32m     26\u001b[0m \u001b[0mkl3\u001b[0m \u001b[0;34m=\u001b[0m \u001b[0mkloader\u001b[0m\u001b[0;34m(\u001b[0m\u001b[0;34m'percentl3.tif'\u001b[0m\u001b[0;34m,\u001b[0m\u001b[0mkc\u001b[0m\u001b[0;34m,\u001b[0m\u001b[0mkf\u001b[0m\u001b[0;34m,\u001b[0m\u001b[0mthreshold\u001b[0m\u001b[0;34m)\u001b[0m\u001b[0;34m\u001b[0m\u001b[0;34m\u001b[0m\u001b[0m\n",
            "\u001b[0;32m<ipython-input-114-ab21c21be257>\u001b[0m in \u001b[0;36mkloader\u001b[0;34m(rastername, kc, kf, threshold)\u001b[0m\n\u001b[1;32m     17\u001b[0m     \u001b[0;32mfor\u001b[0m \u001b[0mcol\u001b[0m \u001b[0;32min\u001b[0m \u001b[0mnp\u001b[0m\u001b[0;34m.\u001b[0m\u001b[0marange\u001b[0m\u001b[0;34m(\u001b[0m\u001b[0mmaxcol\u001b[0m\u001b[0;34m,\u001b[0m\u001b[0;36m0\u001b[0m\u001b[0;34m,\u001b[0m\u001b[0;34m-\u001b[0m\u001b[0;36m1\u001b[0m\u001b[0;34m)\u001b[0m\u001b[0;34m:\u001b[0m\u001b[0;34m\u001b[0m\u001b[0;34m\u001b[0m\u001b[0m\n\u001b[1;32m     18\u001b[0m       \u001b[0;32mif\u001b[0m \u001b[0mpercentgrid\u001b[0m\u001b[0;34m[\u001b[0m\u001b[0mrow\u001b[0m\u001b[0;34m-\u001b[0m\u001b[0;36m1\u001b[0m\u001b[0;34m,\u001b[0m\u001b[0mcol\u001b[0m\u001b[0;34m-\u001b[0m\u001b[0;36m1\u001b[0m\u001b[0;34m]\u001b[0m \u001b[0;34m<\u001b[0m \u001b[0;34m-\u001b[0m\u001b[0;36m10\u001b[0m\u001b[0;34m:\u001b[0m\u001b[0;34m\u001b[0m\u001b[0;34m\u001b[0m\u001b[0m\n\u001b[0;32m---> 19\u001b[0;31m         \u001b[0mpercentgrid\u001b[0m\u001b[0;34m[\u001b[0m\u001b[0mrow\u001b[0m\u001b[0;34m-\u001b[0m\u001b[0;36m1\u001b[0m\u001b[0;34m,\u001b[0m\u001b[0mcol\u001b[0m\u001b[0;34m-\u001b[0m\u001b[0;36m1\u001b[0m\u001b[0;34m]\u001b[0m \u001b[0;34m=\u001b[0m \u001b[0mpercentgrid\u001b[0m\u001b[0;34m[\u001b[0m\u001b[0mrow\u001b[0m\u001b[0;34m-\u001b[0m\u001b[0;36m1\u001b[0m\u001b[0;34m,\u001b[0m\u001b[0mcol\u001b[0m\u001b[0;34m]\u001b[0m\u001b[0;34m\u001b[0m\u001b[0;34m\u001b[0m\u001b[0m\n\u001b[0m\u001b[1;32m     20\u001b[0m   \u001b[0mpercentgrid\u001b[0m\u001b[0;34m[\u001b[0m\u001b[0mpercentgrid\u001b[0m\u001b[0;34m>=\u001b[0m\u001b[0mthreshold\u001b[0m\u001b[0;34m]\u001b[0m \u001b[0;34m=\u001b[0m \u001b[0mkc\u001b[0m \u001b[0;31m# assign coarse k value\u001b[0m\u001b[0;34m\u001b[0m\u001b[0;34m\u001b[0m\u001b[0m\n\u001b[1;32m     21\u001b[0m   \u001b[0mpercentgrid\u001b[0m\u001b[0;34m[\u001b[0m\u001b[0mpercentgrid\u001b[0m\u001b[0;34m<\u001b[0m\u001b[0mthreshold\u001b[0m\u001b[0;34m]\u001b[0m \u001b[0;34m=\u001b[0m\u001b[0mkf\u001b[0m \u001b[0;31m# assign fine k value\u001b[0m\u001b[0;34m\u001b[0m\u001b[0;34m\u001b[0m\u001b[0m\n",
            "\u001b[0;31mIndexError\u001b[0m: index 145 is out of bounds for axis 1 with size 145"
          ]
        }
      ]
    },
    {
      "cell_type": "markdown",
      "metadata": {
        "id": "-yEE82gPtLsX",
        "colab_type": "text"
      },
      "source": [
        "### 3Avi. Define wells"
      ]
    },
    {
      "cell_type": "code",
      "metadata": {
        "id": "tBhLJWrGtTPi",
        "colab_type": "code",
        "colab": {}
      },
      "source": [
        "# Import well data from csv file\n",
        "dfwel = pd.read_csv('https://raw.githubusercontent.com/dbabrams/ShallowDolomite_Group/master/pumping/2002_pumping_V2.csv?token=AOLJKYV4N6P2BURDTQRTAKC64J5VI')\n",
        "dfwel = dfwel.set_index('p_num') #assign index as p_number so that other columns can be deleted\n",
        "\n",
        "# Trim dataframe with well information to the model domain\n",
        "dfwel = dfwel.loc[dfwel['lam_x']<nex]\n",
        "dfwel = dfwel.loc[dfwel['lam_y']<ney]\n",
        "dfwel = dfwel.loc[dfwel['lam_x']>swx]\n",
        "dfwel = dfwel.loc[dfwel['lam_y']>swy]\n",
        "\n",
        "# Put the data into the format required for the well package, with columns for layer, row, column, and flux\n",
        "# Assign all wells to bedrock layer (10 layers but starts at 0 so the last layer is 9)\n",
        "dfwel['lay'] = 9\n",
        "# Convert lamx to column and lamy to row\n",
        "dfwel['row'] = np.trunc((ney-dfwel['lam_y'])/dy)\n",
        "dfwel['col'] = np.trunc((dfwel['lam_x']-swx)/dx)\n",
        "# Define the flux as the pumpage data from the imported file and convert from gal/year to ft^3/day to match the units of the model. Negative pumpage denotes removal of water from the system.\n",
        "dfwel['flux']=dfwel['2002']*-1/2730.39\n",
        "\n",
        "# Drop unneeded columns\n",
        "dfwel = dfwel.drop(['isws_facility_id','owner','fac_well_num','depth_total_last_known','lam_x','lam_y','2002'], axis=1)\n",
        "\n",
        "#print(dfwel)"
      ],
      "execution_count": 0,
      "outputs": []
    },
    {
      "cell_type": "markdown",
      "metadata": {
        "id": "q72lKTtQO3wO",
        "colab_type": "text"
      },
      "source": [
        "###3Avii. Define Drains"
      ]
    },
    {
      "cell_type": "code",
      "metadata": {
        "id": "OqxP2Ty8O1Pq",
        "colab_type": "code",
        "colab": {}
      },
      "source": [
        "# Add cells to the drain package wherever low-k material is at land surface.  These are cells in layer 1 with hydraulic conductivity k = kf.\n",
        "# Create two arrays, one for rows and one for columns, corresponding to the row and column #s of elements in kl1 where k = kf.\n",
        "rows,cols = np.nonzero(kl1==kf)\n",
        "\n",
        "# Create a dataframe of the same length as \"rows\" called \"dfdrn\".  \"dfdrn\" includes a single column of zeros called \"lay\" which assigns all drain cells to the first layer\n",
        "dfdrn = pd.DataFrame(np.zeros((len(rows), 1)),columns=['lay'])\n",
        "\n",
        "# Add in the drain cell row and column #s\n",
        "dfdrn['row'] = rows \n",
        "dfdrn['col'] = cols\n",
        "\n",
        "# Add in a column for tracking overlap of drain and river cells\n",
        "# 0 indicates the cell is not a river cell, while 1 indicates the cell is a river cell\n",
        "# This column is initialized as containing only zeros\n",
        "dfdrn['river?'] = np.zeros(len(dfdrn))\n",
        "\n",
        "dfdrn_initial=len(dfdrn)\n",
        "\n",
        "# Print the initial length of the drain dataframe\n",
        "print('The initial length of the drain dataframe is',dfdrn_initial)\n",
        "\n",
        "# The following lines of code ensures that no river cells are included in the drain package\n",
        "# If any river cells were added to \"dfdrn\", the following lines of code will remove them\n",
        "\n",
        "# Search through the \"dfriv\" and \"dfdrn\" dataframes to dentify any cells in \"dfdrn\" that correspond to river cells\n",
        "for i in range(len(dfriv)):\n",
        "  for j in range(len(dfdrn)):\n",
        "    if dfriv.loc[i,'row'] == np.float64(dfdrn.loc[j,'row']) and dfriv.loc[i,'col'] == np.float64(dfdrn.loc[j,'col']):\n",
        "      dfdrn.at[j,'river?'] = 1 #setting the value in the \"river?\" column to 1 denotes this cell as a river cell\n",
        "\n",
        "# Remove any cells from \"dfdrn\" that were identified as river cells\n",
        "dfdrn=dfdrn.loc[dfdrn['river?']==0]\n",
        "\n",
        "# Drop the \"river?\" column, as it is no longer needed\n",
        "dfdrn=dfdrn.drop('river?',axis=1)\n",
        "\n",
        "# Reset the index of \"dfdrn\" to the default\n",
        "dfdrn=dfdrn.reset_index(drop=True)\n",
        "\n",
        "dfdrn_final=len(dfdrn)\n",
        "\n",
        "# Print the final length of the drain dataframe\n",
        "print('The final length of the drain dataframe is',dfdrn_final)\n",
        "\n",
        "# Print the number of items removed, for reference\n",
        "print(dfdrn_initial-dfdrn_final,'items were removed')\n",
        "\n",
        "# Define the elevation of the drain cells (set to land surface elevation)\n",
        "for value in dfdrn.index:\n",
        "  dfdrn.loc[value,'elevation'] = topgrid[dfdrn.loc[value,'row'],dfdrn.loc[value,'col']]\n",
        "\n",
        "# Define the conductance of the drain cells\n",
        "dfdrn['cond'] = kf*dx*dy/3 #this is the conductance between the cell and the drain, in ft^2/d\n",
        "# For more information regarding the equation for conductance, see the \"Notes on the conductance of drain cells\" comment below.\n",
        "\n",
        "# Notes on the conductance of drain cells\n",
        "# C=K*dx*dy/delta ; C=K*dx*dy/b\n",
        "# K is the conductivity of the soil layer.  K is defined as two orders of magnitude greater than kf; the soil layer is assumed to be more weathered than the underlying material.\n",
        "# delta or b is the depth of the soil layer\n",
        "# Out of a handful of randomly selected well logs, the depth of the uppermost soil layer (where present) varied significantly.\n",
        "# For simplicity, the soil layer is assumed to have a thickness of 3 feet, uniform throughout the model.\n",
        "\n",
        "#print(dfdrn)"
      ],
      "execution_count": 0,
      "outputs": []
    },
    {
      "cell_type": "markdown",
      "metadata": {
        "id": "QoCKtXB3zoLH",
        "colab_type": "text"
      },
      "source": [
        "## 3B. Create the MODFLOW model object "
      ]
    },
    {
      "cell_type": "code",
      "metadata": {
        "colab_type": "code",
        "id": "-v2Uc_JWSsu1",
        "colab": {}
      },
      "source": [
        "# Create a MODFLOW model object and run with MODFLOW 2005.\n",
        "modelname = \"my_model\" # name the model\n",
        "m = flopy.modflow.Modflow(modelname, version = 'mf2005', exe_name = 'mf2005') # create model object m"
      ],
      "execution_count": 0,
      "outputs": []
    },
    {
      "cell_type": "markdown",
      "metadata": {
        "id": "mNkGlXTw0Y8_",
        "colab_type": "text"
      },
      "source": [
        "## 3C. Append the discretization package to the model object"
      ]
    },
    {
      "cell_type": "code",
      "metadata": {
        "colab_type": "code",
        "id": "_MSCNyTkknUU",
        "colab": {}
      },
      "source": [
        "# Length and time are feet (1) and days (4).\n",
        "# See https://water.usgs.gov/ogw/modflow/MODFLOW-2005-Guide/index.html?dis.htm \n",
        "dis = flopy.modflow.ModflowDis(model=m, nlay=nlay, nrow=nrow, ncol=ncol, \n",
        "                               delr=dx, delc=dy, top=topgrid, botm=botgrids, \n",
        "                               itmuni = 4, lenuni = 1, \n",
        "                               nper=nper, steady=steady)"
      ],
      "execution_count": 0,
      "outputs": []
    },
    {
      "cell_type": "markdown",
      "metadata": {
        "id": "ohZcMcra23lN",
        "colab_type": "text"
      },
      "source": [
        "## 3D. Basic Package"
      ]
    },
    {
      "cell_type": "code",
      "metadata": {
        "colab_type": "code",
        "id": "US3C3_-XS0gk",
        "colab": {}
      },
      "source": [
        "# Create ibound as array of ints (1), indicating all cells are active\n",
        "#ibound = np.ones((nlay, nrow, ncol), dtype=np.int32)\n",
        "\n",
        "# Create flopy bas object\n",
        "bas = flopy.modflow.ModflowBas(m, ibound=ibound, strt=topgrid)\n"
      ],
      "execution_count": 0,
      "outputs": []
    },
    {
      "cell_type": "markdown",
      "metadata": {
        "id": "5PSnNO_x3RUj",
        "colab_type": "text"
      },
      "source": [
        "## 3E. LPF Package"
      ]
    },
    {
      "cell_type": "code",
      "metadata": {
        "colab_type": "code",
        "id": "sMP89XUkS4lL",
        "colab": {}
      },
      "source": [
        "# Define layer type as convertible (1), must be an integer\n",
        "# For more information, see https://water.usgs.gov/ogw/modflow/MODFLOW-2005-Guide/index.html?dis.htm\n",
        "laytyp = 0*np.ones((nlay,), dtype=np.int32)\n",
        "\n",
        "# create the LPF object\n",
        "lpf = flopy.modflow.ModflowLpf(model=m, hk=khlayers, vka=kvlayers, laytyp=laytyp, ipakcb=1)\n"
      ],
      "execution_count": 0,
      "outputs": []
    },
    {
      "cell_type": "markdown",
      "metadata": {
        "id": "blNu8BSC3VgJ",
        "colab_type": "text"
      },
      "source": [
        "## 3F. Boundary Conditions"
      ]
    },
    {
      "cell_type": "markdown",
      "metadata": {
        "id": "P4Y1btf03ivQ",
        "colab_type": "text"
      },
      "source": [
        "### 3Fi. Recharge Package"
      ]
    },
    {
      "cell_type": "code",
      "metadata": {
        "id": "-ynxRdoj0u3_",
        "colab_type": "code",
        "colab": {}
      },
      "source": [
        "# Assign recharge to the model\n",
        "# Units=ft/d\n",
        "\n",
        "rch1=0.0014 #fine\n",
        "rch2=0.0024 #coarse\n",
        "\n",
        "# Create a recharge array based on values in kl1 (the top layer)\n",
        "# Cells where kl1 = kf are assigned recharge = rch1\n",
        "# All other cells (where kl1 = kc) are assigned recharge = rch2\n",
        "recharge=np.where(kl1<=kf, rch1, rch2) \n",
        "\n",
        "# Create the recharge package (RCH)\n",
        "rch = flopy.modflow.mfrch.ModflowRch(model=m, ipakcb=1, nrchop=3, rech = recharge)\n",
        "#ipakcb=1 signals that cell-by-cell budget data should be saved\n",
        "#nrchop=3 assigns recharge to the uppermost active cell in each column"
      ],
      "execution_count": 0,
      "outputs": []
    },
    {
      "cell_type": "markdown",
      "metadata": {
        "id": "-otcrtqA3ZTZ",
        "colab_type": "text"
      },
      "source": [
        "### 3Fii. River Package"
      ]
    },
    {
      "cell_type": "code",
      "metadata": {
        "colab_type": "code",
        "id": "pwTDkxudTGmP",
        "colab": {}
      },
      "source": [
        "# Put into a format that MODFLOW wants\n",
        "arriv = dfriv.values\n",
        "riverdata = {0: arriv} #dictionary assigning river data; key (0) is the stress period\n",
        "\n",
        "# Create the river package (RIV)\n",
        "riv = flopy.modflow.mfriv.ModflowRiv(model=m, ipakcb=1, stress_period_data = riverdata)\n",
        "#ipakcb=1 signals that cell-by-cell budget data should be saved"
      ],
      "execution_count": 0,
      "outputs": []
    },
    {
      "cell_type": "markdown",
      "metadata": {
        "id": "197weMSqBiEu",
        "colab_type": "text"
      },
      "source": [
        "### 3Fiii. Drain Package\n"
      ]
    },
    {
      "cell_type": "code",
      "metadata": {
        "id": "R72J1xcUBgw4",
        "colab_type": "code",
        "colab": {}
      },
      "source": [
        "# Put into a format that MODFLOW wants\n",
        "ardrn = dfdrn.values\n",
        "draindata = {0: ardrn} # Here, \"draindata\" functions similarly to \"riverdata\" in the previous code block\n",
        "\n",
        "# Create the drain package (DRN)\n",
        "drn = flopy.modflow.mfdrn.ModflowDrn(model=m, ipakcb=1, stress_period_data = draindata)\n",
        "#ipakcb=1 signals that cell-by-cell budget data should be saved"
      ],
      "execution_count": 0,
      "outputs": []
    },
    {
      "cell_type": "markdown",
      "metadata": {
        "id": "b8E2iac3tXS4",
        "colab_type": "text"
      },
      "source": [
        "### 3Fiv. Well Package"
      ]
    },
    {
      "cell_type": "code",
      "metadata": {
        "id": "uWBe4YNUts0K",
        "colab_type": "code",
        "colab": {}
      },
      "source": [
        "# Put into a format that MODFLOW wants\n",
        "arwell = dfwel.values\n",
        "welldata = {0: arwell} # Here, \"welldata\" functions similarly to \"riverdata\" and \"draindata\" in the previous code blocks\n",
        "\n",
        "# Create the well package (WEL)\n",
        "wel = flopy.modflow.mfwel.ModflowWel(model=m, ipakcb=1, stress_period_data = welldata)\n",
        "#ipakcb=1 signals that cell-by-cell budget data should be saved"
      ],
      "execution_count": 0,
      "outputs": []
    },
    {
      "cell_type": "markdown",
      "metadata": {
        "id": "GAVD2sGT4oRb",
        "colab_type": "text"
      },
      "source": [
        "### 3G. Define output control"
      ]
    },
    {
      "cell_type": "code",
      "metadata": {
        "colab_type": "code",
        "id": "NRhnNJU0TJhN",
        "colab": {}
      },
      "source": [
        "# Create oc stress period data. \n",
        "spd = {(0, 0): ['print head', 'print budget', 'save head', 'save budget']}\n",
        "# Create output control object\n",
        "oc = flopy.modflow.ModflowOc(model=m, stress_period_data=spd, compact=True)"
      ],
      "execution_count": 0,
      "outputs": []
    },
    {
      "cell_type": "markdown",
      "metadata": {
        "id": "VD9BUXun4si5",
        "colab_type": "text"
      },
      "source": [
        "## 3H. Solver"
      ]
    },
    {
      "cell_type": "code",
      "metadata": {
        "colab_type": "code",
        "id": "0tdHTKB-TMdU",
        "colab": {}
      },
      "source": [
        "# We will start by using the PCG solver with default settings\n",
        "#pcg = flopy.modflow.ModflowPcg(model=m)\n",
        "pcg = flopy.modflow.ModflowPcg(model=m,mxiter=200,iter1=50,hclose=1e-03,rclose=1e-03,relax=0.98,damp=0.3)"
      ],
      "execution_count": 0,
      "outputs": []
    },
    {
      "cell_type": "markdown",
      "metadata": {
        "id": "7yMH7xi9_CF9",
        "colab_type": "text"
      },
      "source": [
        "## 3I. Plot model inputs (boundary conditions, elevations)"
      ]
    },
    {
      "cell_type": "code",
      "metadata": {
        "colab_type": "code",
        "id": "s6ZbnrHqTVjd",
        "colab": {}
      },
      "source": [
        "'''Plot grid and boundary conditions'''\n",
        "#----------------------------------------------------------------------------\n",
        "plt.figure(figsize=(10,10)) #create 10 x 10 figure\n",
        "modelmap = flopy.plot.PlotMapView(model=m, layer=0)\n",
        "#grid = modelmap.plot_grid()\n",
        "ib = modelmap.plot_ibound()\n",
        "rvr = modelmap.plot_bc(ftype='RIV')\n",
        "#add labels and legend\n",
        "plt.xlabel('Lx (ft)',fontsize = 14)\n",
        "plt.ylabel('Ly (ft)',fontsize = 14)\n",
        "plt.title('Ibound', fontsize = 15, fontweight = 'bold')\n",
        "plt.legend(handles=[mp.patches.Patch(color='blue',label='Const. Head',ec='black'),\n",
        "                   mp.patches.Patch(color='white',label='Active Cell',ec='black'),\n",
        "                   mp.patches.Patch(color='black',label='Inactive Cell',ec='black'),\n",
        "                   mp.patches.Patch(color='green',label='River',ec='green')],\n",
        "                   bbox_to_anchor=(1.5,1.0))\n",
        "plt.show()\n",
        "#----------------------------------------------------------------------------"
      ],
      "execution_count": 0,
      "outputs": []
    },
    {
      "cell_type": "code",
      "metadata": {
        "colab_type": "code",
        "id": "r27l4dJK-Ksv",
        "colab": {}
      },
      "source": [
        "'''Plot hydraulic conductivity'''\n",
        "#----------------------------------------------------------------------------\n",
        "plt.figure(figsize=(10,10)) #create 10 x 10 figure\n",
        "modelmap = flopy.plot.map.PlotMapView(model=m, layer=0) #use plotmapview to attach plot to model\n",
        "#contour_levels = np.linspace(400,800,41)\n",
        "#topelevations = modelmap.contour_array(topgrid, levels = contour_levels) #create head contours\n",
        "#plt.clabel(topelevations, inline=True,fontsize=12,fmt='%1.0f')\n",
        "\n",
        "#create colormap of named colors\n",
        "colors = [\"saddlebrown\",\"lightgoldenrodyellow\"]\n",
        "cmap = mp.colors.LinearSegmentedColormap.from_list(\"\", colors)\n",
        "norm = mp.colors.LogNorm(vmin=kf,vmax=kc)\n",
        "modelmap.plot_array(khlayers[0],norm = norm,cmap=cmap)\n",
        "rvr = modelmap.plot_bc(ftype='RIV')\n",
        "ib = modelmap.plot_ibound()\n",
        "#display parameters\n",
        "plt.xlabel('Lx (ft)',fontsize = 14)\n",
        "plt.ylabel('Ly (ft)',fontsize = 14)\n",
        "plt.title('Top Elevation (ft AMSL); Hydraulic Conductivity', fontsize = 15, fontweight = 'bold')\n",
        "\n",
        "#Create a legend for the hydraulic conductivity\n",
        "plt.legend(handles=[\n",
        "  mp.patches.Patch(color='green', label='rivers'),\n",
        "  mp.patches.Patch(color='saddlebrown', label='kf=0.3 ft/d'),\n",
        "  mp.patches.Patch(color='lightgoldenrodyellow', label='kc=280 ft/d') ], bbox_to_anchor=(1.7,0.8))\n",
        "plt.show()"
      ],
      "execution_count": 0,
      "outputs": []
    },
    {
      "cell_type": "code",
      "metadata": {
        "id": "Bhy71Px0YRDW",
        "colab_type": "code",
        "colab": {}
      },
      "source": [
        "'''Plot recharge'''\n",
        "#----------------------------------------------------------------------------\n",
        "fig=plt.figure(figsize=(10,10)) #create 10 x 10 figure\n",
        "modelmap = flopy.plot.map.PlotMapView(model=m, layer=0) #use plotmapview to attach plot to model\n",
        "#contour_levels = np.linspace(400,800,41)\n",
        "#topelevations = modelmap.contour_array(topgrid, levels = contour_levels) #create head contours\n",
        "#plt.clabel(topelevations, inline=True,fontsize=12,fmt='%1.0f')\n",
        "\n",
        "# Create colormap of named colors\n",
        "colors = [\"saddlebrown\",\"lightgoldenrodyellow\"]\n",
        "cmap = mp.colors.LinearSegmentedColormap.from_list(\"\", colors)\n",
        "norm = mp.colors.LogNorm(vmin=rch1,vmax=rch2)\n",
        "pcm=modelmap.plot_array(recharge, norm = norm,cmap=cmap)\n",
        "rvr = modelmap.plot_bc(ftype='RIV')\n",
        "ib = modelmap.plot_ibound()\n",
        "#display parameters\n",
        "plt.xlabel('Lx (ft)',fontsize = 14)\n",
        "plt.ylabel('Ly (ft)',fontsize = 14)\n",
        "plt.title('Top Elevation (ft AMSL); Recharge Zones', fontsize = 15, fontweight = 'bold')\n",
        "\n",
        "# Create a legend for the recharge zones \n",
        "plt.legend(handles=[\n",
        "  mp.patches.Patch(color='green', label='rivers'),\n",
        "  mp.patches.Patch(color='saddlebrown', label='rch1=0.0014 ft/d'),\n",
        "  mp.patches.Patch(color='lightgoldenrodyellow', label='rch2=0.0024 ft/d') ], bbox_to_anchor=(1.7,0.8))\n",
        "plt.show()"
      ],
      "execution_count": 0,
      "outputs": []
    },
    {
      "cell_type": "code",
      "metadata": {
        "id": "yTWhw4UA-yK3",
        "colab_type": "code",
        "colab": {}
      },
      "source": [
        "'''Plot transects'''\n",
        "#----------------------------------------------------------------------------\n",
        "plt.figure(figsize=(10,10)) #create 10 x 10 figure\n",
        "modelxsect = flopy.plot.PlotCrossSection(model = m, line={\"row\":22}) #use plotmapview to attach plot to model. row indicates west to east \n",
        "#modelxsect = flopy.plot.PlotCrossSection(model = m, line={\"column\":15}) #plots north-south transect\n",
        "\n",
        "# Create colormap of named colors\n",
        "colors = [\"saddlebrown\",\"gray\",\"lightgoldenrodyellow\"]\n",
        "cmap = mp.colors.LinearSegmentedColormap.from_list(\"\", colors)\n",
        "norm = mp.colors.LogNorm(vmin=kf,vmax=kc)\n",
        "#modelxsect.plot_grid()\n",
        "khlaynp = np.array(khlayers)\n",
        "lines = modelxsect.plot_array(khlaynp,norm=norm, cmap=cmap)\n",
        "rvr = modelxsect.plot_bc(ftype='RIV')\n",
        "modelxsect.plot_ibound()\n",
        "plt.show()"
      ],
      "execution_count": 0,
      "outputs": []
    },
    {
      "cell_type": "code",
      "metadata": {
        "id": "qPZlgt-kHk6Y",
        "colab_type": "code",
        "colab": {}
      },
      "source": [
        "'''Plot Transmissivity'''\n",
        "# Horizontal T = sum(k*b), for each layer.  k is the hydraulic conductivity, and b is the layer thickness\n",
        "Thz=sum([k for k in khlayers])*laythick-kl10*laythick+kl10*bothick\n",
        "#----------------------------------------------------------------------------\n",
        "plt.figure(figsize=(10,10)) #create 10 x 10 figure\n",
        "modelmap = flopy.plot.map.PlotMapView(model=m, layer=0) #use plotmapview to attach plot to model\n",
        "\n",
        "# Create colormap of named colors\n",
        "colors = [\"darkred\",\"red\",\"pink\",\"white\",\"lightskyblue\",\"blue\",\"indigo\"]\n",
        "cmap = mp.colors.LinearSegmentedColormap.from_list(\"\", colors)\n",
        "norm = mp.colors.LogNorm(vmin=np.amin(Thz),vmax=np.amax(Thz))\n",
        "Tmap=modelmap.plot_array(Thz,norm = norm,cmap=cmap)\n",
        "rvr = modelmap.plot_bc(ftype='RIV')\n",
        "#display parameters\n",
        "plt.xlabel('Lx (ft)',fontsize = 14)\n",
        "plt.ylabel('Ly (ft)',fontsize = 14)\n",
        "plt.title('Transmissivity of Aquifer in Model Domain', fontsize = 15, fontweight = 'bold')\n",
        "cbar=plt.colorbar(Tmap,ticks=[np.amin(Thz),np.amax(Thz)], label='Transmissivity (sq.ft/day)')\n",
        "cbar.set_ticklabels([int(round(np.amin(Thz),0)),int(round(np.amax(Thz),0))])\n",
        "plt.legend(handles=[mp.patches.Patch(color='green', label='rivers')], bbox_to_anchor=(1.7,0.8))\n",
        "plt.show()"
      ],
      "execution_count": 0,
      "outputs": []
    },
    {
      "cell_type": "markdown",
      "metadata": {
        "id": "x4QPNEge41Mh",
        "colab_type": "text"
      },
      "source": [
        "# 4 Write and run the MODFLOW model"
      ]
    },
    {
      "cell_type": "code",
      "metadata": {
        "colab_type": "code",
        "id": "DH-U_oaiWTl8",
        "colab": {}
      },
      "source": [
        "# Write the model input\n",
        "m.write_input()\n",
        "# Execute the model run\n",
        "success, mfoutput = m.run_model(pause=False, report=True)\n",
        "# Report back if the model did not successfully complete\n",
        "if not success:\n",
        "    raise Exception('MODFLOW did not terminate normally.')"
      ],
      "execution_count": 0,
      "outputs": []
    },
    {
      "cell_type": "markdown",
      "metadata": {
        "id": "bN2ivrtx_5yz",
        "colab_type": "text"
      },
      "source": [
        "# 5 Plot Output Data"
      ]
    },
    {
      "cell_type": "code",
      "metadata": {
        "colab_type": "code",
        "id": "a7mhYeBVhDn6",
        "colab": {}
      },
      "source": [
        "'''Extract binary data from head and flow files'''\n",
        "#----------------------------------------------------------------------------\n",
        "# Extract binary data from head file as flopy head object\n",
        "headobj = flopy.utils.binaryfile.HeadFile(modelname+'.hds')\n",
        "\n",
        "# Extract head data from head object\n",
        "head = headobj.get_data(totim=1.0)\n",
        "\n",
        "#print(head[9]) #returns heads in the bottom layer, where pumping occurs\n"
      ],
      "execution_count": 0,
      "outputs": []
    },
    {
      "cell_type": "code",
      "metadata": {
        "colab_type": "code",
        "id": "MZxuJhCzg_F8",
        "colab": {}
      },
      "source": [
        "'''Plot results with boundary conditions'''\n",
        "#----------------------------------------------------------------------------\n",
        "plt.figure(figsize=(10,10)) #create 10 x 10 figure\n",
        "modelmap = flopy.plot.map.PlotMapView(model=m, layer=0) #use plotmapview to attach plot to model\n",
        "contour_levels = np.linspace(400,1000,61) #set contour levels for contouring head\n",
        "head_contours = modelmap.contour_array(head[9], levels=contour_levels) #create head contours\n",
        "plt.clabel(head_contours, inline=True,fontsize=12,fmt='%1.0f')\n",
        "rvr_map = modelmap.plot_bc(ftype='RIV',color=\"blue\")\n",
        "drn_map = modelmap.plot_bc(ftype='DRN', color='peachpuff')\n",
        "wel_map = modelmap.plot_bc(ftype='WEL',plotAll=True) #plot well locations in the model domain, shown on the top layer for visibility\n",
        "\n",
        "# Display parameters\n",
        "plt.xlabel('Lx (ft)',fontsize = 14)\n",
        "plt.ylabel('Ly (ft)',fontsize = 14)\n",
        "plt.title('Results with Boundary Conditions', fontsize = 15, fontweight = 'bold')\n",
        "\n",
        "# Create a legend for the boundary conditions\n",
        "plt.legend(handles=[\n",
        "  mp.patches.Patch(color='blue', label='Rivers'),\n",
        "  mp.patches.Patch(color='peachpuff', label='Drains'),\n",
        "  mp.patches.Patch(color='red', label='Wells') ], bbox_to_anchor=(1.4,0.9))\n",
        "\n",
        "plt.show()"
      ],
      "execution_count": 0,
      "outputs": []
    },
    {
      "cell_type": "code",
      "metadata": {
        "id": "p0ddNdIG-2os",
        "colab_type": "code",
        "colab": {}
      },
      "source": [
        "# Plot potentiometric surface results\n",
        "plt.figure(figsize=(10,10)) #create 10 x 10 figure\n",
        "modelmap = flopy.plot.map.PlotMapView(model=m, layer=0) #use plotmapview to attach plot to model\n",
        "contour_levels = np.linspace(400,1000,61) #set contour levels for contouring head with values from 400-1000 and with 61 divisions\n",
        "head_contours = modelmap.contour_array(head[9], levels=contour_levels) #create head contours\n",
        "plt.clabel(head_contours, inline=True,fontsize=12,fmt='%1.0f')\n",
        "rvr_map = modelmap.plot_bc(ftype='RIV',color=\"blue\")\n",
        "wel_map = modelmap.plot_bc(ftype='WEL',plotAll=True) #plot the well sites onto the model domain and show with the top layer\n",
        "\n",
        "# Display parameters\n",
        "plt.xlabel('Lx (ft)',fontsize = 14)\n",
        "plt.ylabel('Ly (ft)',fontsize = 14)\n",
        "plt.title('Steady-State Model Head(ft) Results', fontsize = 15, fontweight = 'bold')\n",
        "\n",
        "plt.show()"
      ],
      "execution_count": 0,
      "outputs": []
    },
    {
      "cell_type": "markdown",
      "metadata": {
        "id": "AQmBgbHZHUxy",
        "colab_type": "text"
      },
      "source": [
        "# 6 Calibration"
      ]
    },
    {
      "cell_type": "markdown",
      "metadata": {
        "id": "qLEZNpjXtk2a",
        "colab_type": "text"
      },
      "source": [
        "## 6A. 1-to-1 Plot"
      ]
    },
    {
      "cell_type": "code",
      "metadata": {
        "id": "5Tk7BayxwRO6",
        "colab_type": "code",
        "colab": {}
      },
      "source": [
        "# Import the observation well data as a dataframe\n",
        "# \"SB_Potent_Surface_points.csv\"\n",
        "#pumping_ob = pd.read_csv('https://raw.githubusercontent.com/dbabrams/ShallowDolomite_Group/master/pumping/SB_Potent_Surface_points.csv?token=AHD5FWFD27YRGX3U3S5IJ6K63AKQK')\n",
        "pumping_ob = pd.read_csv('https://raw.githubusercontent.com/dbabrams/ShallowDolomite_Group/master/pumping/SB_Potent_Surface_points.csv?token=AOLJKYQYZRS6LUJU3X7RWD264KALK')\n",
        "\n",
        "# Trim the dataframe to the model domain\n",
        "pumping_ob = pumping_ob.loc[pumping_ob['lambx']<nex]\n",
        "pumping_ob = pumping_ob.loc[pumping_ob['lamby']<ney]\n",
        "pumping_ob = pumping_ob[pumping_ob['lambx']>swx]\n",
        "pumping_ob = pumping_ob[pumping_ob['lamby']>swy]\n",
        "\n",
        "# Reset the dataframe index to the default\n",
        "pumping_ob=pumping_ob.reset_index(drop=True)\n",
        "\n",
        "# Convert lambx to column and lamby to row, and convert to grid format\n",
        "pumping_ob['row'] = np.trunc((ney-pumping_ob['lamby'])/dy)\n",
        "pumping_ob['col'] = np.trunc((pumping_ob['lambx']-swx)/dx)\n",
        "\n",
        "# Convert to integers\n",
        "pumping_ob['row'] = pumping_ob.row.astype(\"int64\")\n",
        "pumping_ob['col'] = pumping_ob.col.astype(\"int64\")\n",
        "\n",
        "# Create a new column, containing head values simulated by the model\n",
        "pumping_ob['simulated']=head[9,pumping_ob['row'],pumping_ob['col']]\n",
        "\n",
        "#print(pumping_ob)\n",
        "\n",
        "# Compare the observed and simulated head data\n",
        "compare=pumping_ob\n",
        "compare=compare.set_index('Head_ftAMS')\n",
        "compare=compare.drop(['lambx','lamby','row','col'],axis=1)\n",
        "#print(compare)\n",
        "\n",
        "# Create a color coding threshold for high and low errors\n",
        "thres = 15\n",
        "col = np.where(pumping_ob['simulated'] + thres < pumping_ob['Head_ftAMS'], 'dodgerblue', np.where(pumping_ob['simulated'] - thres > pumping_ob['Head_ftAMS'], 'darkred', 'k'))\n",
        "\n",
        "# Plot the calibration data\n",
        "plt.figure( facecolor = 'lightgrey', edgecolor = 'k')\n",
        "plt.rcParams[\"figure.figsize\"] = (5,5)\n",
        "plt.scatter(compare.index,compare.simulated, c= col, marker = 'o', s = 55)\n",
        "x = np.linspace(440,740)\n",
        "y = x\n",
        "plt.plot(x,y, linewidth = 4, color = 'grey')\n",
        "plt.xlim(450,700)\n",
        "plt.ylim(450,700)\n",
        "plt.xlabel('Observed Head (ft)', fontsize = 14)\n",
        "plt.ylabel('Simulated Head (ft)', fontsize = 14)\n",
        "plt.title('Will County Model Calibration', fontsize = 16)\n",
        "#print (compare)"
      ],
      "execution_count": 0,
      "outputs": []
    },
    {
      "cell_type": "code",
      "metadata": {
        "id": "LZrdHbU1__bx",
        "colab_type": "code",
        "colab": {}
      },
      "source": [
        "# Calculate mean and mean absolute error\n",
        "pumping_ob['error']=pumping_ob['Head_ftAMS']-pumping_ob['simulated'] #difference between observed and simulated heads\n",
        "pumping_ob['absolute']=pumping_ob.error.abs() #find absolute error\n",
        "mean=pumping_ob.error.mean() # find mean error\n",
        "mean_abs = pumping_ob.absolute.mean()\n",
        "print(\"Mean Error:\", round(mean,1), 'ft')\n",
        "print(\"Mean Absolute Error:\", round(mean_abs,1), 'ft')"
      ],
      "execution_count": 0,
      "outputs": []
    },
    {
      "cell_type": "code",
      "metadata": {
        "id": "ti_LjQCKJhWP",
        "colab_type": "code",
        "colab": {}
      },
      "source": [
        "matrix = np.zeros((60,63))\n",
        "\n",
        "error = pumping_ob['error']\n",
        "\n",
        "x = pumping_ob['row']\n",
        "y = pumping_ob['col']\n",
        "\n",
        "#matrix[x.values[0]-1, y.values[0]-1] = error.values[0]\n",
        "#matrix[x.values[1]-1, y.values[1]-1] = error.values[1]\n",
        "\n",
        "for i in range(0,102):\n",
        "    matrix[x.values[i]-1, y.values[i]-1] = error.values[i]\n",
        "\n",
        "\n",
        "\n",
        "fig = plt.figure(figsize=(20, 21))\n",
        "cset = plt.pcolor(matrix, cmap='seismic')\n",
        "plt.clim(-15, 15) \n",
        "\n",
        "\n",
        "#This line generates the colorbar \n",
        "fig.colorbar(cset)\n",
        "\n",
        "plt.show()"
      ],
      "execution_count": 0,
      "outputs": []
    },
    {
      "cell_type": "markdown",
      "metadata": {
        "id": "NKdCJ8zyvARk",
        "colab_type": "text"
      },
      "source": [
        "## 6B. Error Map"
      ]
    },
    {
      "cell_type": "code",
      "metadata": {
        "id": "mPirUFBLvDV0",
        "colab_type": "code",
        "colab": {}
      },
      "source": [
        "# Define the area over which to plot data\n",
        "\n",
        "# Create and populate new columns in the \"pumping_ob\" dataframe for the latitudes and longitudes of each observation well\n",
        "for value in pumping_ob.index:\n",
        "  pumping_ob.loc[value,'lat'], pumping_ob.loc[value,'long'] = pyproj.transform(illimap,wgs84,pumping_ob.loc[value,'lambx']*0.3048,pumping_ob.loc[value,'lamby']*0.3048) #must convert Lambert x/y from ft to m\n",
        "\n",
        "#Conduct the Universal Kriging\n",
        "UK = UniversalKriging(pumping_ob['long'], pumping_ob['lat'],pumping_ob['error'], variogram_model='spherical',nlags=6)\n",
        "\n",
        "#Create xpoints and ypoints in space, with 0.01 spacing\n",
        "xpoints = np.arange(sw_long,ne_long+0.01,0.01)\n",
        "ypoints = np.arange(sw_lat,ne_lat+0.01,0.01)\n",
        "\n",
        "# create a meshgrid with xpoints and ypoints, to be used later in the code\n",
        "X,Y = np.meshgrid(xpoints,ypoints)\n",
        "\n",
        "# calculate the interpolated grid and fill values.\n",
        "z, var = UK.execute('grid', xpoints, ypoints)\n",
        "z = z.filled(fill_value=None)"
      ],
      "execution_count": 0,
      "outputs": []
    },
    {
      "cell_type": "code",
      "metadata": {
        "id": "ve0jr2GUvrGl",
        "colab_type": "code",
        "colab": {}
      },
      "source": [
        "# Create a figure\n",
        "fig=plt.figure(figsize=(10,10)) #create 10 x 10 figure\n",
        "\n",
        "# Define a projection\n",
        "ax = plt.axes(projection=ccrs.PlateCarree())\n",
        "\n",
        "# Define the spatial domain to plot\n",
        "ax.set_xlim(sw_long,ne_long) #The spatial domain spans from minimum longitude to maximum longitude (x-direction)\n",
        "ax.set_ylim(sw_lat,ne_lat) #The spatial domain spans from minimum longitude to maximum latitude (y-direction)\n",
        "\n",
        "# Define a title for the plot\n",
        "ax.set_title('Calculated error over the model area')\n",
        "\n",
        "# Using CartoPy, import several features from Natural Earth Data (see https://www.naturalearthdata.com/features/)\n",
        "# Large rivers:\n",
        "largerivers = cf.NaturalEarthFeature(\n",
        "    category='physical',\n",
        "    name='rivers_lake_centerlines',\n",
        "    scale='110m', # major rivers\n",
        "    facecolor='none')\n",
        "# Small rivers:\n",
        "smallrivers = cf.NaturalEarthFeature(\n",
        "    category='physical',\n",
        "    name='rivers_lake_centerlines_scale_rank',\n",
        "    scale='10m', # smaller rivers (still considered major by many/most people)\n",
        "    facecolor='none')\n",
        "# Smallest rivers:\n",
        "smallestrivers = cf.NaturalEarthFeature(\n",
        "    category='physical',\n",
        "    name='rivers_north_america',\n",
        "    scale='10m',\n",
        "    facecolor='none')\n",
        "# Population centers:\n",
        "popplaces = cf.NaturalEarthFeature(\n",
        "    category='cultural',\n",
        "    name='urban_areas', # plots municipal boundaries\n",
        "    scale='10m',\n",
        "    facecolor='plum')\n",
        "# Major roads:\n",
        "majorroads = cf.NaturalEarthFeature(\n",
        "    category='cultural',\n",
        "    name='roads',\n",
        "    scale='10m',\n",
        "    facecolor='none')\n",
        "\n",
        "# Add the features defined above to the plot, with various colors and markers\n",
        "#ax.add_feature(popplaces,edgecolor='plum',linewidth=1.0) # Population centers will be light purple areas\n",
        "ax.add_feature(largerivers,edgecolor='aqua',linewidth=2.0) # Large, small, and smallest rivers will be light blue lines\n",
        "ax.add_feature(smallrivers,edgecolor='aqua',linewidth=2.0)\n",
        "ax.add_feature(smallestrivers,edgecolor='aqua',linewidth=2.0)\n",
        "ax.add_feature(majorroads,edgecolor='gray',linewidth=1.0) # Roads will be gray lines\n",
        "ax.add_feature(USCOUNTIES.with_scale('5m'),linewidth=1.0) # County lines will be black lines\n",
        "\n",
        "# Create contours from the interpolation\n",
        "error_contour_levels = [-30,-20,-10,0,10,20,30,40] #set contour levels for contouring error\n",
        "cset_contour = plt.contour(X,Y,z,error_contour_levels,colors='blue')\n",
        "\n",
        "# Add in a continuous color flood\n",
        "cset_fill=plt.imshow(z,vmin=-50,vmax=50,cmap=plt.cm.coolwarm,origin='lower',extent=[X.min(), X.max(), Y.min(), Y.max()])\n",
        "\n",
        "# The following code could also be used, if a discrete color flood is preferred:\n",
        "#cset_fill = plt.contourf(X,Y,z,vmin=-100,vmax=100,cmap=plt.cm.coolwarm)\n",
        "\n",
        "# Label contours (makes use of pylab)\n",
        "pylab.clabel(cset_contour, inline=1, fontsize=10,fmt='%1.0f',colors='black')\n",
        "\n",
        "# Plot the points that were measured\n",
        "points=plt.scatter(pumping_ob['long'], pumping_ob['lat'], marker=\".\", color=\"black\", label=\"Data Points\")\n",
        "\n",
        "# Add a legend to the plot\n",
        "cities_towns=mpatches.Patch(color='plum',label='Population Centers') #create a proxy artist to represent population centers on the legend\n",
        "rivers=mlines.Line2D([],[],linewidth=2.0,color='aqua',label='Rivers') #proxy artist for large and small rivers\n",
        "roads=mlines.Line2D([],[],linewidth=1.0,color='gray',label='Roads') #proxy artist for major roads\n",
        "counties=mlines.Line2D([],[],linewidth=1.0,color='black',label='County Lines') #proxy artist for county lines\n",
        "ax.legend(loc=[1.05,0],handles=[points,rivers,roads,counties])\n",
        "#ax.legend(loc=[1.05,0],handles=[cities_towns,points,rivers,roads,counties]) #includes population centers\n",
        "\n",
        "# Add in a colorbar\n",
        "cax = fig.add_axes([0.94, 0.39, 0.25, 0.03])\n",
        "fig.colorbar(cset_fill, cax=cax, orientation='horizontal',label='Error (ft difference)')\n",
        "plt.show()"
      ],
      "execution_count": 0,
      "outputs": []
    },
    {
      "cell_type": "code",
      "metadata": {
        "id": "DvUrpMTf75KW",
        "colab_type": "code",
        "colab": {}
      },
      "source": [
        "# Create a figure\n",
        "fig=plt.figure(figsize=(20,20)) #create 20 x 20 figure\n",
        "\n",
        "# Define a projection\n",
        "ax = plt.axes(projection=ccrs.PlateCarree())\n",
        "\n",
        "# Define the spatial domain to plot\n",
        "ax.set_xlim(sw_long,ne_long) #The spatial domain spans from minimum longitude to maximum longitude (x-direction)\n",
        "ax.set_ylim(sw_lat,ne_lat) #The spatial domain spans from minimum longitude to maximum latitude (y-direction)\n",
        "\n",
        "# Define a title for the plot\n",
        "ax.set_title('Calculated error over the model area',fontsize=20)\n",
        "\n",
        "# Using CartoPy, import several features from Natural Earth Data (see https://www.naturalearthdata.com/features/)\n",
        "# Large rivers:\n",
        "largerivers = cf.NaturalEarthFeature(\n",
        "    category='physical',\n",
        "    name='rivers_lake_centerlines',\n",
        "    scale='110m', # major rivers\n",
        "    facecolor='none')\n",
        "# Small rivers:\n",
        "smallrivers = cf.NaturalEarthFeature(\n",
        "    category='physical',\n",
        "    name='rivers_lake_centerlines_scale_rank',\n",
        "    scale='10m', # smaller rivers (still considered major by many/most people)\n",
        "    facecolor='none')\n",
        "# Smallest rivers:\n",
        "smallestrivers = cf.NaturalEarthFeature(\n",
        "    category='physical',\n",
        "    name='rivers_north_america',\n",
        "    scale='10m',\n",
        "    facecolor='none')\n",
        "# Population centers:\n",
        "popplaces = cf.NaturalEarthFeature(\n",
        "    category='cultural',\n",
        "    name='urban_areas', # plots municipal boundaries\n",
        "    scale='10m',\n",
        "    facecolor='plum')\n",
        "# Major roads:\n",
        "majorroads = cf.NaturalEarthFeature(\n",
        "    category='cultural',\n",
        "    name='roads',\n",
        "    scale='10m',\n",
        "    facecolor='none')\n",
        "\n",
        "# Add the features defined above to the plot, with various colors and markers\n",
        "#ax.add_feature(popplaces,edgecolor='plum',linewidth=1.0) # Population centers will be light purple areas\n",
        "ax.add_feature(largerivers,edgecolor='aqua',linewidth=4.0) # Large, small, and smallest rivers will be light blue lines\n",
        "ax.add_feature(smallrivers,edgecolor='aqua',linewidth=4.0)\n",
        "ax.add_feature(smallestrivers,edgecolor='aqua',linewidth=4.0)\n",
        "ax.add_feature(majorroads,edgecolor='black',linewidth=3.0) # Roads will be gray lines\n",
        "ax.add_feature(USCOUNTIES.with_scale('5m'),linestyle = '-', linewidth=6.0) # County lines will be black lines\n",
        "\n",
        "# Create contours from the interpolation\n",
        "error_contour_levels = [-30,-20,-10,0,10,20,30,40] #set contour levels for contouring error\n",
        "cset_contour = plt.contour(X,Y,z,error_contour_levels,linewidths=2.5,colors='blue')\n",
        "\n",
        "# Add in a continuous color flood\n",
        "cset_fill=plt.imshow(z,vmin=-50,vmax=50,cmap=plt.cm.coolwarm,origin='lower',extent=[X.min(), X.max(), Y.min(), Y.max()])\n",
        "\n",
        "# The following code could also be used, if a discrete color flood is preferred:\n",
        "#cset_fill = plt.contourf(X,Y,z,vmin=-100,vmax=100,cmap=plt.cm.coolwarm)\n",
        "\n",
        "# Label contours (makes use of pylab)\n",
        "pylab.clabel(cset_contour, inline=1, fontsize=20,fmt='%1.0f',colors='black')\n",
        "\n",
        "# Plot the points that were measured\n",
        "points=plt.scatter(pumping_ob['long'], pumping_ob['lat'], marker=\"o\", color=\"black\", label=\"Data Points\",)\n",
        "\n",
        "\n",
        "# Add a legend to the plot\n",
        "cities_towns=mpatches.Patch(color='plum',label='Population Centers') #create a proxy artist to represent population centers on the legend\n",
        "rivers=mlines.Line2D([],[],linewidth=4.0,color='aqua',label='Rivers') #proxy artist for large and small rivers\n",
        "roads=mlines.Line2D([],[],linewidth=3.0,color='black',label='Roads') #proxy artist for major roads\n",
        "counties=mlines.Line2D([],[],linewidth=6.0,color='black', linestyle = '-', label='County Lines') #proxy artist for county lines\n",
        "ax.legend(loc=[1.01,0],handles=[points,rivers,roads,counties])\n",
        "#ax.legend(loc=[1.01,0],handles=[cities_towns,points,rivers,roads,counties]) #includes population centers\n",
        "\n",
        "#Communities' locations \n",
        "lons = [-88.0987, -88.0684, -88.0817, -88.0895, -88.2287]\n",
        "lats = [41.5548, 41.6986, 41.5250, 41.6475, 41.4295]\n",
        "labels = ['Crest Hill', 'Bolingbrook', 'Joliet', 'Romeoville', 'Channahon']\n",
        "plt.scatter(lons, lats, marker=\"*\", color=\"gold\", zorder=10)\n",
        "\n",
        "\n",
        "##This puts the labels on the map\n",
        "#for i, txt in enumerate(labels):\n",
        " #   ax.annotate(txt,(lons[i], lats[i]),  fontsize=18, zorder=5, )\n",
        "\n",
        "\n",
        "# Add in a colorbar\n",
        "cax = fig.add_axes([0.91, 0.39, 0.03, 0.3])\n",
        "fig.colorbar(cset_fill, cax=cax, orientation='vertical',label='Error (ft difference)')\n",
        "plt.show()"
      ],
      "execution_count": 0,
      "outputs": []
    },
    {
      "cell_type": "code",
      "metadata": {
        "id": "T2S5ogdux--c",
        "colab_type": "code",
        "colab": {}
      },
      "source": [
        "print(pumping_ob.error.min())\n",
        "print(pumping_ob.error.max())"
      ],
      "execution_count": 0,
      "outputs": []
    },
    {
      "cell_type": "markdown",
      "metadata": {
        "id": "XfRdl9RCC5Of",
        "colab_type": "text"
      },
      "source": [
        "# 7 Zone Budget"
      ]
    },
    {
      "cell_type": "code",
      "metadata": {
        "id": "6LUQ5hHMC_PW",
        "colab_type": "code",
        "colab": {}
      },
      "source": [
        "'''Extract binary data from budget files'''\n",
        "#----------------------------------------------------------------------------\n",
        "# Read the cell budget file, a binary output file of the model\n",
        "cbc_f = flopy.utils.binaryfile.CellBudgetFile(modelname+'.cbc')\n",
        "#cbc_f.list_records()"
      ],
      "execution_count": 0,
      "outputs": []
    },
    {
      "cell_type": "code",
      "metadata": {
        "id": "3b81rplwDChm",
        "colab_type": "code",
        "colab": {}
      },
      "source": [
        "# Import a zone input file\n",
        "# The zone input file is a text file that assigns a zone to each cell in the model\n",
        "uploaded = files.upload() #upload the most recent zone input file.  Be sure to match the file name below to the actual name of the file you would like to upload.\n",
        "zon = flopy.utils.zonbud.read_zbarray('zone_file_65x65.txt') #read_zbarray is used to read in the zone input file as an array\n",
        "\n",
        "del uploaded\n",
        "\n",
        "# Create a ZoneBudget object and get the budget record array\n",
        "# set zone 1 as \"upper half\"; zone 2 as \"lower half\"\n",
        "aliases = {1:'Upper half', 2:'Lower half'}\n",
        "zb = flopy.utils.ZoneBudget(cbc_f, zon, kstpkper=(0, 0), aliases=aliases) #kstpkper specifies the timestep and stress period of interest\n",
        "zb.get_budget()\n",
        "#zb.get_record_names()\n",
        "\n",
        "# Note:  If running this cell produces an error, try re-running the cell again.\n",
        "\n",
        "# Note:  The zone input file only needs to be uploaded once.  Check the \"Files\" tab on the left to see if it has already been uploaded.\n",
        "# If the zone input file has already been uploaded, you can click \"Cancel upload\" in the output window below."
      ],
      "execution_count": 0,
      "outputs": []
    },
    {
      "cell_type": "code",
      "metadata": {
        "id": "eL2UqngLua6H",
        "colab_type": "code",
        "colab": {}
      },
      "source": [
        "# show flow data for both zones in a format of DataFrame\n",
        "df1 = zb.get_dataframes(index_key='kstpkper')\n",
        "print(df1)"
      ],
      "execution_count": 0,
      "outputs": []
    }
  ]
}