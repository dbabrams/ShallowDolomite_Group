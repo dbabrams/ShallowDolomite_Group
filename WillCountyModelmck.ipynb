{
  "nbformat": 4,
  "nbformat_minor": 0,
  "metadata": {
    "colab": {
      "name": "WillCountyModelmck.ipynb",
      "provenance": [],
      "collapsed_sections": [],
      "toc_visible": true,
      "include_colab_link": true
    },
    "kernelspec": {
      "name": "python3",
      "display_name": "Python 3"
    },
    "language_info": {
      "codemirror_mode": {
        "name": "ipython",
        "version": 3
      },
      "file_extension": ".py",
      "mimetype": "text/x-python",
      "name": "python",
      "nbconvert_exporter": "python",
      "pygments_lexer": "ipython3",
      "version": "3.7.6"
    }
  },
  "cells": [
    {
      "cell_type": "markdown",
      "metadata": {
        "id": "view-in-github",
        "colab_type": "text"
      },
      "source": [
        "<a href=\"https://colab.research.google.com/github/dbabrams/ShallowDolomite_Group/blob/Domain%2Fmckailey/WillCountyModelmck.ipynb\" target=\"_parent\"><img src=\"https://colab.research.google.com/assets/colab-badge.svg\" alt=\"Open In Colab\"/></a>"
      ]
    },
    {
      "cell_type": "markdown",
      "metadata": {
        "id": "G4KWGGv5A7F2",
        "colab_type": "text"
      },
      "source": [
        "# <center>FloPy Regional Model Development</center>\n",
        "The following script develops a regional MODFLOW model using FloPy and associated packages. The study domain is the Mahomet Aquifer in Illinois, particulary in the heavily irrigated region of Mason County. \n",
        "\n",
        "Note that you may not always have to compile MODFLOW, and you only have initialize code (#1) and import large files (#2) the first time you run the code in a session. Most of the time, you will only have to run #3 onward. "
      ]
    },
    {
      "cell_type": "markdown",
      "metadata": {
        "id": "MZeCuFvptP_f",
        "colab_type": "text"
      },
      "source": [
        "# 0. Compile MODFLOW (DO NOT RUN UNLESS NECESSARY)\n"
      ]
    },
    {
      "cell_type": "markdown",
      "metadata": {
        "id": "I0WdSEtOElwW",
        "colab_type": "text"
      },
      "source": [
        "When using Google CoLab, you cannot simply use an existing MODFLOW executable, but have to compile a a new one for use in this environment. I have already compiled MODFLOW, but am currently unsure if it will work for everybody. Please do not run the following code unless you get an error that the MODFLOW file was not found (will occur when running the model). "
      ]
    },
    {
      "cell_type": "code",
      "metadata": {
        "id": "Imxy2VTEuFWa",
        "colab_type": "code",
        "colab": {}
      },
      "source": [
        "#!pip install https://github.com/modflowpy/pymake/zipball/master # install of the pymake package to compile MODFLOW"
      ],
      "execution_count": 0,
      "outputs": []
    },
    {
      "cell_type": "code",
      "metadata": {
        "colab_type": "code",
        "id": "GRcmZ0Oudvp1",
        "colab": {}
      },
      "source": [
        "# Code to complile the MODFLOW executable\n",
        "\n",
        "#import pymake\n",
        "\n",
        "#def make_mf2005():\n",
        "#    pymake.build_apps('mf2005')\n",
        "\n",
        "\n",
        "#if __name__ == \"__main__\":\n",
        "#    make_mf2005()\n",
        "\n",
        "\n",
        "\n",
        "\n",
        "\n",
        "#import pymake\n",
        "\n",
        "#def make_mfnwt():\n",
        "#    pymake.build_apps('mfnwt')\n",
        "\n",
        "#if __name__ == \"__main__\":\n",
        "#    make_mfnwt()\n"
      ],
      "execution_count": 0,
      "outputs": []
    },
    {
      "cell_type": "markdown",
      "metadata": {
        "id": "8Wf-e4N6BUJo",
        "colab_type": "text"
      },
      "source": [
        "# 1 Initializing the code\n"
      ]
    },
    {
      "cell_type": "markdown",
      "metadata": {
        "id": "N3dybMuFEr1q",
        "colab_type": "text"
      },
      "source": [
        "These few code blocks only have to be run at the beginning of the script or if a runtime connection is lost. See details for each below. "
      ]
    },
    {
      "cell_type": "markdown",
      "metadata": {
        "id": "AiQlOJosBqXy",
        "colab_type": "text"
      },
      "source": [
        "## 1A. Install needed packages\n",
        "There are three packages that must be installed in the CoLab environment to run this script. These include \n",
        "\n",
        "\"pyproj\", which allows for the conversion from WGS84 coordinates (as obtained from Google Earth), which are in lat/long decimal degrees, to Illimap coordinates, a specialized projection using Lambert Conformal Conic that is optimized for developing a model grid in the state of Illinois. \n",
        "\n",
        "\"flopy\" creates modflow executables, runs the model, and allows for manipulation of results.\n",
        "\n",
        "\"rasterio\" allows for the reading of raster files, and is closely tied to the development of \"flopy\" input files\n"
      ]
    },
    {
      "cell_type": "code",
      "metadata": {
        "colab_type": "code",
        "id": "z0rwRhzkGuf3",
        "outputId": "8227d7c4-b6ad-465b-aa4a-8478204dab9c",
        "colab": {
          "base_uri": "https://localhost:8080/",
          "height": 598
        }
      },
      "source": [
        "!pip install pyproj\n",
        "!pip install flopy\n",
        "!pip install rasterio"
      ],
      "execution_count": 3,
      "outputs": [
        {
          "output_type": "stream",
          "text": [
            "Collecting pyproj\n",
            "\u001b[?25l  Downloading https://files.pythonhosted.org/packages/a5/70/d58a104357de4ab7bcff67522ec4f139c6d7955472b55b751e6b4bc1bcea/pyproj-2.6.1-cp36-cp36m-manylinux2010_x86_64.whl (10.9MB)\n",
            "\u001b[K     |████████████████████████████████| 10.9MB 298kB/s \n",
            "\u001b[?25hInstalling collected packages: pyproj\n",
            "Successfully installed pyproj-2.6.1\n",
            "Collecting flopy\n",
            "\u001b[?25l  Downloading https://files.pythonhosted.org/packages/b7/6a/44206d49f3fa6edbb83e01ff4c58aa8dc188e0071de88cf14b36e19b3f2a/flopy-3.3.0.zip (1.0MB)\n",
            "\u001b[K     |████████████████████████████████| 1.1MB 2.8MB/s \n",
            "\u001b[?25hRequirement already satisfied: numpy>=1.9 in /usr/local/lib/python3.6/dist-packages (from flopy) (1.18.3)\n",
            "Building wheels for collected packages: flopy\n",
            "  Building wheel for flopy (setup.py) ... \u001b[?25l\u001b[?25hdone\n",
            "  Created wheel for flopy: filename=flopy-3.3.0-cp36-none-any.whl size=1038572 sha256=5c456ecb970a533b0d1ba876cbcc5ef9d397ebbb104281f949b9d31463d02b52\n",
            "  Stored in directory: /root/.cache/pip/wheels/d6/af/5a/6d32a03da175b47d8f8cca93b4d363a864cf604164b85af785\n",
            "Successfully built flopy\n",
            "Installing collected packages: flopy\n",
            "Successfully installed flopy-3.3.0\n",
            "Collecting rasterio\n",
            "\u001b[?25l  Downloading https://files.pythonhosted.org/packages/c7/81/13321f88f582a00705c5f348724728e8999136e19d6e7c56f7e6ac9bb7f9/rasterio-1.1.3-cp36-cp36m-manylinux1_x86_64.whl (18.1MB)\n",
            "\u001b[K     |████████████████████████████████| 18.1MB 253kB/s \n",
            "\u001b[?25hRequirement already satisfied: attrs in /usr/local/lib/python3.6/dist-packages (from rasterio) (19.3.0)\n",
            "Collecting cligj>=0.5\n",
            "  Downloading https://files.pythonhosted.org/packages/e4/be/30a58b4b0733850280d01f8bd132591b4668ed5c7046761098d665ac2174/cligj-0.5.0-py3-none-any.whl\n",
            "Collecting snuggs>=1.4.1\n",
            "  Downloading https://files.pythonhosted.org/packages/cc/0e/d27d6e806d6c0d1a2cfdc5d1f088e42339a0a54a09c3343f7f81ec8947ea/snuggs-1.4.7-py3-none-any.whl\n",
            "Collecting affine\n",
            "  Downloading https://files.pythonhosted.org/packages/ac/a6/1a39a1ede71210e3ddaf623982b06ecfc5c5c03741ae659073159184cd3e/affine-2.3.0-py2.py3-none-any.whl\n",
            "Requirement already satisfied: click<8,>=4.0 in /usr/local/lib/python3.6/dist-packages (from rasterio) (7.1.2)\n",
            "Requirement already satisfied: numpy in /usr/local/lib/python3.6/dist-packages (from rasterio) (1.18.3)\n",
            "Collecting click-plugins\n",
            "  Downloading https://files.pythonhosted.org/packages/e9/da/824b92d9942f4e472702488857914bdd50f73021efea15b4cad9aca8ecef/click_plugins-1.1.1-py2.py3-none-any.whl\n",
            "Requirement already satisfied: pyparsing>=2.1.6 in /usr/local/lib/python3.6/dist-packages (from snuggs>=1.4.1->rasterio) (2.4.7)\n",
            "Installing collected packages: cligj, snuggs, affine, click-plugins, rasterio\n",
            "Successfully installed affine-2.3.0 click-plugins-1.1.1 cligj-0.5.0 rasterio-1.1.3 snuggs-1.4.7\n"
          ],
          "name": "stdout"
        }
      ]
    },
    {
      "cell_type": "markdown",
      "metadata": {
        "id": "g6tMviUVufyx",
        "colab_type": "text"
      },
      "source": [
        "## 1B. Import packages"
      ]
    },
    {
      "cell_type": "code",
      "metadata": {
        "colab_type": "code",
        "id": "It0QTEJCQCuV",
        "colab": {
          "base_uri": "https://localhost:8080/",
          "height": 34
        },
        "outputId": "e17e43f1-24d1-4dc0-d06f-e88305683ce6"
      },
      "source": [
        "import flopy # import flopy to develop, run, and analyze the model\n",
        "from flopy.utils import Raster # plot rasters from flopy\n",
        "import matplotlib as mp\n",
        "import pandas as pd\n",
        "import pyproj # change between WGS84 and Illimap coordinates\n",
        "import rasterio  # import rasters\n",
        "import matplotlib.pyplot as plt\n",
        "import numpy as np \n",
        "\n",
        "# the following code authorizes you to access files on Google Drive\n",
        "from google.colab import drive\n",
        "from pydrive.auth import GoogleAuth\n",
        "from pydrive.drive import GoogleDrive\n",
        "from google.colab import auth\n",
        "from oauth2client.client import GoogleCredentials\n"
      ],
      "execution_count": 4,
      "outputs": [
        {
          "output_type": "stream",
          "text": [
            "flopy is installed in /usr/local/lib/python3.6/dist-packages/flopy\n"
          ],
          "name": "stdout"
        }
      ]
    },
    {
      "cell_type": "markdown",
      "metadata": {
        "id": "MRFZ3O-TurE2",
        "colab_type": "text"
      },
      "source": [
        "## 1C. Authenticate with Google\n",
        "This will allow you to access shared files on my Google Drive or your own. "
      ]
    },
    {
      "cell_type": "code",
      "metadata": {
        "colab_type": "code",
        "id": "hstJX5XhPT9r",
        "colab": {}
      },
      "source": [
        "auth.authenticate_user()\n",
        "gauth = GoogleAuth()\n",
        "gauth.credentials = GoogleCredentials.get_application_default()\n",
        "drive = GoogleDrive(gauth)"
      ],
      "execution_count": 0,
      "outputs": []
    },
    {
      "cell_type": "markdown",
      "metadata": {
        "id": "WoUf-0HKvAUm",
        "colab_type": "text"
      },
      "source": [
        "## 1D. Read the MODFLOW executable from Google Drive\n",
        "\n",
        "Here you are going to download the MODFLOW executable from Daniel's Google Drive. This will show up in your temporary working directory for use later in the code. <b>We need to confirm whether this will work in CoLab, or if you need to compile a new version of MODFLOW each time.</b>\n",
        "\n",
        "Note that this makes use of a key on your Google Drive sharable link for the file. This generally takes the form of: https://drive.google.com/file/d/**key**/view?usp=sharing, in this case, key = 1SwqsSCvyrnrCiopeEp52LBcZYNcgBT9V"
      ]
    },
    {
      "cell_type": "code",
      "metadata": {
        "colab_type": "code",
        "id": "NITzYdM_PgFM",
        "colab": {}
      },
      "source": [
        "downloaded = drive.CreateFile({'id':\"1SwqsSCvyrnrCiopeEp52LBcZYNcgBT9V\"}) # This is the key that is defined in the sharable link of a file on Google Drive\n",
        "downloaded.GetContentFile('mf2005') # get the content from Google Drive and name it (let's stick with mf2005 here)\n",
        "\n",
        "#downloaded = drive.CreateFile({'id':\"1iThxRoGVhofLPd8HOF7Vn0awRVrXZcVb\"}) # This is the key that is defined in the sharable link of a file on Google Drive\n",
        "#downloaded.GetContentFile('mfnwt') # get the content from Google Drive and name it (let's stick with mf2005 here)"
      ],
      "execution_count": 0,
      "outputs": []
    },
    {
      "cell_type": "markdown",
      "metadata": {
        "id": "r-owARmIvCoH",
        "colab_type": "text"
      },
      "source": [
        "Now we need to copy the executable into a location where we can later run it. Note that the \"!\" nomenclature is a shell command, beyond the scope of this course to learn that!"
      ]
    },
    {
      "cell_type": "code",
      "metadata": {
        "colab_type": "code",
        "id": "9WK5wZAzjdna",
        "colab": {}
      },
      "source": [
        "!cp mf2005 /usr/local/bin\n",
        "!chmod 755 /usr/local/bin/mf2005\n",
        "\n",
        "#!cp mfnwt /usr/local/bin\n",
        "#!chmod 755 /usr/local/bin/mfnwt"
      ],
      "execution_count": 0,
      "outputs": []
    },
    {
      "cell_type": "markdown",
      "metadata": {
        "id": "oywHJyvfxXAq",
        "colab_type": "text"
      },
      "source": [
        "# 2 Import the big stuff\n"
      ]
    },
    {
      "cell_type": "markdown",
      "metadata": {
        "id": "bd7Rk7IlD3Ra",
        "colab_type": "text"
      },
      "source": [
        "We don't want to repeatedly import large files for fear of Google revoking our CoLab priveleges for a few hours. Once or twice isn't a big deal, but repeatedly might be an issue. Let Daniel know if this happens- there are ways to reduce our file sizes. \n",
        "\n",
        "For now, the \"big stuff\" includes a DEM of Illinois and the river excel file we worked with last time. "
      ]
    },
    {
      "cell_type": "markdown",
      "metadata": {
        "id": "7W_2AeFMx4Ai",
        "colab_type": "text"
      },
      "source": [
        "## 2A. Import the DEM"
      ]
    },
    {
      "cell_type": "code",
      "metadata": {
        "colab_type": "code",
        "id": "3ygMVkWFAcWv",
        "colab": {}
      },
      "source": [
        "# first import the land surface .tif from Google Drive\n",
        "downloaded = drive.CreateFile({'id':\"1389l8sgQ8-tsmIZuZosaqvbqpHY40n6l\"}) # ft above msl, works best for most groups, spiky in Mason County \n",
        "downloaded.GetContentFile('landsurface_el.tif')\n",
        "\n",
        "# first import the bedrock elevation .tif from Google Drive\n",
        "downloaded = drive.CreateFile({'id':\"1EZgZDjjILzvRzvY9nf0Qp0NHmspRq4kP\"})   \n",
        "downloaded.GetContentFile('bedrock_el.tif')\n",
        "\n",
        "# read in percent thickness of coarse grain for each model layer\n",
        "downloaded = drive.CreateFile({'id':\"18Kw3O6qCzIJ2L6KrVnRPIhea_F8VwyWn\"})   \n",
        "downloaded.GetContentFile('percentl1.tif')\n",
        "\n",
        "downloaded = drive.CreateFile({'id':\"1oZinFPKrGY-FXoE7Zu0okFpAAOe_bwau\"})   \n",
        "downloaded.GetContentFile('percentl2.tif')\n",
        "\n",
        "downloaded = drive.CreateFile({'id':\"1FqVEr4m_ElUyEZeyfnCMwVGDfUqavJZH\"})   \n",
        "downloaded.GetContentFile('percentl3.tif')\n",
        "\n",
        "downloaded = drive.CreateFile({'id':\"1KiHS9TLSP1GAVTjaaJZS4BAwF6gnUeDu\"})   \n",
        "downloaded.GetContentFile('percentl4.tif')\n",
        "\n",
        "downloaded = drive.CreateFile({'id':\"1Z-9EyaAK1NKnRHAlnyGYkI3suvBFC2I6\"})   \n",
        "downloaded.GetContentFile('percentl5.tif')\n",
        "\n",
        "downloaded = drive.CreateFile({'id':\"1pcB9aJpJGfkXOKz10rhs6MpWkQL1_dqr\"})   \n",
        "downloaded.GetContentFile('percentl6.tif')\n",
        "\n",
        "downloaded = drive.CreateFile({'id':\"1Fnh0HIKbUj7pEtlsUKR_Sr7WwfYzWul5\"})   \n",
        "downloaded.GetContentFile('percentl7.tif')\n",
        "\n",
        "downloaded = drive.CreateFile({'id':\"106JacgpwSA3wVAGcBIzGdc8rDVUB6dh7\"})   \n",
        "downloaded.GetContentFile('percentl8.tif')\n",
        "\n",
        "downloaded = drive.CreateFile({'id':\"1WJjhVJ_KSBhZDrgzY3YteNjxaz5nxBid\"})   \n",
        "downloaded.GetContentFile('percentl9.tif')"
      ],
      "execution_count": 0,
      "outputs": []
    },
    {
      "cell_type": "markdown",
      "metadata": {
        "id": "oqxp3yqCydpY",
        "colab_type": "text"
      },
      "source": [
        "## 2B. Import the river file"
      ]
    },
    {
      "cell_type": "code",
      "metadata": {
        "id": "3VqaFoQiu7tP",
        "colab_type": "code",
        "colab": {}
      },
      "source": [
        "# first import the Excel file from Google Drive\n",
        "downloaded = drive.CreateFile({'id':\"1JsAiGG4RvcfYrQtfgXRW9ZVfAkQ1yRVu\"})\n",
        "downloaded.GetContentFile('rivers_625.csv')"
      ],
      "execution_count": 0,
      "outputs": []
    },
    {
      "cell_type": "markdown",
      "metadata": {
        "id": "OROiooZxzUuH",
        "colab_type": "text"
      },
      "source": [
        "# 3 Create MODFLOW  packages"
      ]
    },
    {
      "cell_type": "markdown",
      "metadata": {
        "id": "F-uLI2Rf0PIw",
        "colab_type": "text"
      },
      "source": [
        "## 3A. Model Set-up"
      ]
    },
    {
      "cell_type": "markdown",
      "metadata": {
        "id": "FnPkGXMG0qdv",
        "colab_type": "text"
      },
      "source": [
        "### 3Ai. Define the Model Domain"
      ]
    },
    {
      "cell_type": "code",
      "metadata": {
        "colab_type": "code",
        "id": "xKgi6FiwSwY0",
        "colab": {
          "base_uri": "https://localhost:8080/",
          "height": 71
        },
        "outputId": "9ff9ec27-b6c7-4d92-fbd7-e91055864548"
      },
      "source": [
        "#----------------------------------------------------------------------------\n",
        "\n",
        "\n",
        "\n",
        "#Will County\n",
        "sw_lat =  41.38 #southwest latitude\n",
        "sw_long = -88.25 #southwest longitude\n",
        "ne_lat =  41.75 #northeast latitude\n",
        "ne_long = -88. #northeast longitude\n",
        "\n",
        "\n",
        "illimap = {'proj': 'lcc', # Lambert Conformal Conic\n",
        "     'ellps': 'clrk66',\n",
        "     'lon_0': -89.5,\n",
        "     'lat_0': 33,\n",
        "     'lat_1': 33,\n",
        "     'lat_2': 45,\n",
        "     'x_0': 2999994*0.3048,\n",
        "     'y_0': 0}\n",
        "\n",
        "prj = pyproj.Proj(illimap)\n",
        "\n",
        "wgs84 = pyproj.Proj(\"epsg:4326\")\n",
        "\n",
        "nex, ney = pyproj.transform(wgs84,illimap,ne_lat,ne_long)\n",
        "swx, swy = pyproj.transform(wgs84,illimap,sw_lat,sw_long)\n",
        "\n",
        "\n",
        "nex, ney = round(nex/0.3048,-4), round(ney/0.3048,-4)\n",
        "swx, swy = round(swx/0.3048,-4), round(swy/0.3048,-4)"
      ],
      "execution_count": 10,
      "outputs": [
        {
          "output_type": "stream",
          "text": [
            "/usr/local/lib/python3.6/dist-packages/ipykernel_launcher.py:20: DeprecationWarning: This function is deprecated. See: https://pyproj4.github.io/pyproj/stable/gotchas.html#upgrading-to-pyproj-2-from-pyproj-1\n",
            "/usr/local/lib/python3.6/dist-packages/ipykernel_launcher.py:21: DeprecationWarning: This function is deprecated. See: https://pyproj4.github.io/pyproj/stable/gotchas.html#upgrading-to-pyproj-2-from-pyproj-1\n"
          ],
          "name": "stderr"
        }
      ]
    },
    {
      "cell_type": "markdown",
      "metadata": {
        "id": "CpselZ1G2hoC",
        "colab_type": "text"
      },
      "source": [
        "### 3Aii. Define spatial and temporal discretization"
      ]
    },
    {
      "cell_type": "code",
      "metadata": {
        "colab_type": "code",
        "id": "JZPmYy-DkqGy",
        "colab": {}
      },
      "source": [
        "# Assign Discretization variables\n",
        "Lx = nex-swx # Width of the model domain\n",
        "Ly = ney-swy # Height of the model domain\n",
        "nlay = 10 # Number of model layers\n",
        "dx = 2000 \n",
        "dy = 2000\n",
        "nrow = int(Ly/dy) # Number of rows\n",
        "ncol = int(Lx/dx) # Number of columns\n",
        "\n",
        "nper = 1 #specify number of stress periods\n",
        "steady = [True] #specify if stress period is transient or steady-state\n",
        "\n"
      ],
      "execution_count": 0,
      "outputs": []
    },
    {
      "cell_type": "markdown",
      "metadata": {
        "id": "GoUbGJMb0e2Q",
        "colab_type": "text"
      },
      "source": [
        "### 3Aiii. Define river elevations\n",
        "\n"
      ]
    },
    {
      "cell_type": "code",
      "metadata": {
        "id": "xCZvnOQm05ww",
        "colab_type": "code",
        "colab": {}
      },
      "source": [
        "# import stage, lambert x, lambert y\n",
        "dfriv = pd.read_csv('rivers_625.csv')\n",
        "\n",
        "# trim dataframe with river information to the model domain\n",
        "dfriv = dfriv.loc[dfriv['lamx']<nex]\n",
        "dfriv = dfriv.loc[dfriv['lamy']<ney]\n",
        "dfriv = dfriv.loc[dfriv['lamx']>swx]\n",
        "dfriv = dfriv.loc[dfriv['lamy']>swy]\n",
        "\n",
        "# assign all rivers to the upper layer\n",
        "dfriv['lay'] = 0\n",
        "# convert lamx to column and lamy to row\n",
        "dfriv['row'] = np.trunc((ney-dfriv['lamy'])/dy)\n",
        "dfriv['col'] = np.trunc((dfriv['lamx']-swx)/dx)\n",
        "# define the river stage\n",
        "dfriv['stage'] = dfriv['rvr_stg']\n",
        "#define the conductance\n",
        "dfriv['cond'] = 5000. # ft^2/d\n",
        "# define the river bottom\n",
        "dfriv['bot'] = dfriv['stage']-3\n",
        "# drop unneeded files\n",
        "dfriv = dfriv.drop(['STR_ORD_MI','STR_ORD_MA','SUM_LENGTH','rvr_stg','lamx','lamy'],axis=1)\n",
        "\n",
        "dfriv = dfriv.groupby(['lay','row','col'],as_index=False).mean()"
      ],
      "execution_count": 0,
      "outputs": []
    },
    {
      "cell_type": "markdown",
      "metadata": {
        "id": "lMLXmXKF838v",
        "colab_type": "text"
      },
      "source": [
        "### 3Aiv. Define top and bottom elevations"
      ]
    },
    {
      "cell_type": "code",
      "metadata": {
        "id": "0sv1P7Bg8-RF",
        "colab_type": "code",
        "colab": {}
      },
      "source": [
        "# Now load the raster using FloPy's built in Raster toolbox\n",
        "illinoisdem = Raster.load(\"landsurface_el.tif\")\n",
        "bedrock = Raster.load(\"bedrock_el.tif\")\n",
        "\n",
        "# Crop the dEM to the model domain\n",
        "illinoisdem.crop([(swx,swy),(swx,ney),(nex,ney),(nex,swy)])\n",
        "bedrock.crop([(swx,swy),(swx,ney),(nex,ney),(nex,swy)])\n",
        "# Define centroid of the southwestern most cell\n",
        "startx = swx+dx/2 \n",
        "starty = swy+dx/2\n",
        "# Calculate the x and y coordinates for the centroid of each cell \n",
        "xc = np.arange(swx+dx/2,nex+dx/2,dx) \n",
        "yc = np.arange(swy+dy/2,ney+dy/2,dy)\n",
        "# Create a grid of the x coordinate of each centroid and the y coordinate\n",
        "xarr, yarr = np.meshgrid(xc,yc)\n",
        "# resample the topo raster to the grid of centroids of the model\n",
        "topgrid = illinoisdem.resample_to_grid(xarr,yarr,1,method='nearest') \n",
        "bedrock = bedrock.resample_to_grid(xarr,yarr,1,method='nearest')\n",
        "\n",
        "# We just built our top elevation upside down, let's flip it\n",
        "topgrid = np.flipud(topgrid) \n",
        "bedrockgrid = np.flipud(bedrock)   \n",
        "\n",
        "# the grid does not extend past the boundaries of Illinois\n",
        "# the following code is for groups working in the western part of the state\n",
        "maxrow = topgrid.shape[0]\n",
        "maxcol = topgrid.shape[1]\n",
        "\n",
        "# Create ibound as array of ints (1), indicating all cells are active\n",
        "# inactivate cells west of the Mississippi River that were originally not present\n",
        "# note that because inactive cells would overlap with the river boundaries, this code pushes inactive cells to the west a bit. Adjsut per your model domain\n",
        "ibound = np.ones((nlay, nrow, ncol), dtype=np.int32)\n",
        "\n",
        "for row in np.arange(maxrow,0,-1):\n",
        "  counter = 0\n",
        "  for col in np.arange(maxcol,0,-1):\n",
        "    if topgrid[row-1,col-1] <= 0:\n",
        "      counter = counter+1\n",
        "      topgrid[row-1,col-1] = topgrid[row-1,col]\n",
        "      bedrockgrid[row-1,col-1] = bedrockgrid[row-1,col]\n",
        "      if counter>=4:\n",
        "        ibound[:,row-1,col-1] = 0\n",
        "\n",
        "\n",
        "\n",
        "\n",
        "# Set the top of Layer 1 = River Elevation\n",
        "for index, row in dfriv.iterrows():  \n",
        "    topgrid[int(row['row']),int(row['col'])]=row['stage'] \n",
        "    #print(topgrid[int(row['row']),int(row['col'])],row['bot'])  \n",
        "\n",
        "# make sure that all layers are at least 9 ft thick\n",
        "diff = topgrid-bedrockgrid\n",
        "\n",
        "diff[diff<=9.0] = 9.0\n",
        "\n",
        "# each layer is the same thickness, we need 9 glacial layers\n",
        "laythick = diff/9\n",
        "\n",
        "#calculate bottom of each layer\n",
        "lay1bot = topgrid-laythick\n",
        "lay2bot = topgrid-2*laythick\n",
        "lay3bot = topgrid-3*laythick\n",
        "lay4bot = topgrid-4*laythick\n",
        "lay5bot = topgrid-5*laythick\n",
        "lay6bot = topgrid-6*laythick\n",
        "lay7bot = topgrid-7*laythick\n",
        "lay8bot = topgrid-8*laythick\n",
        "lay9bot = topgrid-9*laythick\n",
        "lay10bot = lay9bot-50.\n",
        "\n",
        "botgrids = [lay1bot,lay2bot,lay3bot,lay4bot,lay5bot,lay6bot,lay7bot,lay8bot,lay9bot,lay10bot]"
      ],
      "execution_count": 0,
      "outputs": []
    },
    {
      "cell_type": "markdown",
      "metadata": {
        "id": "qDDlICg0Jqiv",
        "colab_type": "text"
      },
      "source": [
        "### 3Av. Assign hydrualic conductivity"
      ]
    },
    {
      "cell_type": "code",
      "metadata": {
        "id": "f2PuBykRIb7j",
        "colab_type": "code",
        "colab": {}
      },
      "source": [
        "# assign hydrualic conductivity in ft/day\n",
        "#kc = 200 # predominantly coarse\n",
        "kc= 398\n",
        "#kf = .01 # predominantly fine\n",
        "kf= 0.018\n",
        "#kb = 20 # bedrock\n",
        "kb=20\n",
        "\n",
        "# determine how to assign hydrualic conductivity\n",
        "threshold = 27 # anything above this will be assigned kc and below kf\n",
        "\n",
        "def kloader(rastername, kc, kf, threshold):\n",
        "  percent = Raster.load(rastername) # load raster\n",
        "  percent.crop([(swx,swy),(swx,ney),(nex,ney),(nex,swy)]) # crop array\n",
        "  percentgrid = percent.resample_to_grid(xarr,yarr,1,method='nearest') # resample to model grid\n",
        "  percentgrid = np.flipud(percentgrid) # flip the grid\n",
        "  maxrow = percentgrid.shape[0]\n",
        "  maxcol = percentgrid.shape[1]\n",
        "  for row in np.arange(maxrow,0,-1):\n",
        "    for col in np.arange(maxcol,0,-1):\n",
        "      if percentgrid[row-1,col-1] < -10:\n",
        "        percentgrid[row-1,col-1] = percentgrid[row-1,col]\n",
        "  percentgrid[percentgrid>=threshold] = kc # assign coarse k value\n",
        "  percentgrid[percentgrid<threshold] =kf # assign fine k value\n",
        "  return percentgrid\n",
        "\n",
        "kl1 = kloader('percentl1.tif',kc,kf,threshold)\n",
        "kl2 = kloader('percentl2.tif',kc,kf,threshold)\n",
        "kl3 = kloader('percentl3.tif',kc,kf,threshold)\n",
        "kl4 = kloader('percentl4.tif',kc,kf,threshold)\n",
        "kl5 = kloader('percentl5.tif',kc,kf,threshold)\n",
        "kl6 = kloader('percentl6.tif',kc,kf,threshold)\n",
        "kl7 = kloader('percentl7.tif',kc,kf,threshold)\n",
        "kl8 = kloader('percentl8.tif',kc,kf,threshold)\n",
        "kl9 = kloader('percentl9.tif',kc,kf,threshold)\n",
        "kl10 = kl9-kl9+kb\n",
        "\n",
        "khlayers = [kl1,kl2,kl3,kl4,kl5,kl6,kl7,kl8,kl9,kl10]\n",
        "kvlayers=np.divide(khlayers,10.)"
      ],
      "execution_count": 0,
      "outputs": []
    },
    {
      "cell_type": "markdown",
      "metadata": {
        "id": "qi2XxL2-1IlR",
        "colab_type": "text"
      },
      "source": [
        "### 3Avi. Defining Wells"
      ]
    },
    {
      "cell_type": "code",
      "metadata": {
        "id": "GOYZcgmy1mlq",
        "colab_type": "code",
        "outputId": "30db8fa9-30ea-498a-be1e-81121ae05058",
        "colab": {
          "base_uri": "https://localhost:8080/",
          "height": 272
        }
      },
      "source": [
        "# import well data from csv file\n",
        "dfwell = pd.read_csv('https://raw.githubusercontent.com/dbabrams/ShallowDolomite_Group/master/pumping/2002_pumping_V2.csv?token=AOLJKS6QV5CWM426OBRRTOK6WW2AO')\n",
        "dfwell = dfwell.set_index('p_num') #assign index as p_number so that other columns can be deleted\n",
        "\n",
        "# trim dataframe with well information to the model domain\n",
        "dfwell = dfwell.loc[dfwell['lam_x']<nex]\n",
        "dfwell = dfwell.loc[dfwell['lam_y']<ney]\n",
        "dfwell = dfwell.loc[dfwell['lam_x']>swx]\n",
        "dfwell = dfwell.loc[dfwell['lam_y']>swy]\n",
        "\n",
        "# put the data into the format required for the well package, with columns for layer, row, column, and flux\n",
        "# assign all wells to bedrock layer (10 layers but starts at 0 so the last layer is 9)\n",
        "dfwell['lay'] = 9\n",
        "# convert lamx to column and lamy to row\n",
        "dfwell['row'] = np.trunc((ney-dfwell['lam_y'])/dy)\n",
        "dfwell['col'] = np.trunc((dfwell['lam_x']-swx)/dx)\n",
        "# define the flux as the pumpage data from the imported file and convert from gal/year to ft3/day to match other units of the model. Also, make it negative so that it detracts from system.\n",
        "dfwell['flux']=dfwell['2002']*-1/2730\n",
        "\n",
        "# drop unneeded columns\n",
        "dfwell = dfwell.drop(['isws_facility_id','owner','fac_well_num','depth_total_last_known','lam_x','lam_y','2002'], axis=1)\n",
        "\n",
        "print(dfwell)"
      ],
      "execution_count": 40,
      "outputs": [
        {
          "output_type": "stream",
          "text": [
            "        lay   row   col          flux\n",
            "p_num                                \n",
            "411178    9  43.0  28.0 -55824.175824\n",
            "409294    9  43.0  28.0  -7326.007326\n",
            "409293    9  43.0  28.0     -0.000000\n",
            "409420    9   8.0  26.0     -0.000000\n",
            "409422    9   7.0  26.0 -67509.890110\n",
            "...     ...   ...   ...           ...\n",
            "404093    9  34.0   6.0  -7326.007326\n",
            "404092    9  35.0   6.0  -7326.007326\n",
            "404094    9  35.0   6.0   -253.438828\n",
            "404095    9  34.0   6.0   -253.438462\n",
            "404170    9  30.0  11.0     -1.465201\n",
            "\n",
            "[124 rows x 4 columns]\n"
          ],
          "name": "stdout"
        }
      ]
    },
    {
      "cell_type": "markdown",
      "metadata": {
        "id": "qAxCUdp41yru",
        "colab_type": "text"
      },
      "source": [
        "### 3Avii. Define Drains"
      ]
    },
    {
      "cell_type": "code",
      "metadata": {
        "id": "baVM11w-109l",
        "colab_type": "code",
        "colab": {}
      },
      "source": [
        "#Assign drain package to all cells in L1 which have hydraulic conductivity = kf. This low-k material is at land surface.\n",
        "#return the row # and column # for each element in kl1 where that element is equal to kf, in the form of a ndarray of row #s & another ndarray of col #s\n",
        "rows,cols = np.nonzero(kl1==kf)\n",
        "# create dataframe the same length as \"rows\" with a single column of zeros called 'lay' which assigns all drain cells to the upper layer\n",
        "drains = pd.DataFrame(np.zeros((len(rows), 1)),columns=['lay'])\n",
        "# add drain cell element column #s and row #s\n",
        "drains['row'] = rows \n",
        "drains['col'] = cols\n",
        "# define each drain cell elevation (set to land surface)\n",
        "drains['elevation']=0\n",
        "for index, row in drains.iterrows():\n",
        "  drains.loc[index,'elevation']=topgrid[int(row['row']),int(row['col'])]\n",
        "#define the conductance\n",
        "drains['cond'] = kf*100*(dx+dy)*0.3048/2 # 2 orders of magnitude higher than kf (ft^2/d). kf is in ft/d, so multiply by the mean of dx & dy (*0.3048 ft/m)\n",
        "#print(drains)"
      ],
      "execution_count": 0,
      "outputs": []
    },
    {
      "cell_type": "markdown",
      "metadata": {
        "id": "QoCKtXB3zoLH",
        "colab_type": "text"
      },
      "source": [
        "## 3B. Create the MODFLOW model object "
      ]
    },
    {
      "cell_type": "code",
      "metadata": {
        "colab_type": "code",
        "id": "-v2Uc_JWSsu1",
        "colab": {}
      },
      "source": [
        "# Create a MODFLOW model object and run with MODFLOW 2005.\n",
        "modelname = \"my_model\" # name the model\n",
        "m = flopy.modflow.Modflow(modelname, version = 'mf2005', exe_name = 'mf2005') # create model object m"
      ],
      "execution_count": 0,
      "outputs": []
    },
    {
      "cell_type": "markdown",
      "metadata": {
        "id": "mNkGlXTw0Y8_",
        "colab_type": "text"
      },
      "source": [
        "## 3C. Append the discretization package to the model object"
      ]
    },
    {
      "cell_type": "code",
      "metadata": {
        "colab_type": "code",
        "id": "_MSCNyTkknUU",
        "colab": {}
      },
      "source": [
        "# length and time are feet (1) and days (4).\n",
        "# See https://water.usgs.gov/ogw/modflow/MODFLOW-2005-Guide/index.html?dis.htm \n",
        "dis = flopy.modflow.ModflowDis(model=m, nlay=nlay, nrow=nrow, ncol=ncol, \n",
        "                               delr=dx, delc=dy, top=topgrid, botm=botgrids, \n",
        "                               itmuni = 4, lenuni = 1, \n",
        "                               nper=nper, steady=steady)"
      ],
      "execution_count": 0,
      "outputs": []
    },
    {
      "cell_type": "markdown",
      "metadata": {
        "id": "ohZcMcra23lN",
        "colab_type": "text"
      },
      "source": [
        "## 3D. Basic Package"
      ]
    },
    {
      "cell_type": "code",
      "metadata": {
        "colab_type": "code",
        "id": "US3C3_-XS0gk",
        "colab": {}
      },
      "source": [
        "\n",
        "\n",
        "# Create ibound as array of ints (1), indicating all cells are active\n",
        "#ibound = np.ones((nlay, nrow, ncol), dtype=np.int32)\n",
        "\n",
        "#Create flopy bas object\n",
        "bas = flopy.modflow.ModflowBas(m, ibound=ibound, strt=topgrid)\n"
      ],
      "execution_count": 0,
      "outputs": []
    },
    {
      "cell_type": "markdown",
      "metadata": {
        "id": "5PSnNO_x3RUj",
        "colab_type": "text"
      },
      "source": [
        "## 3E. LPF Package"
      ]
    },
    {
      "cell_type": "code",
      "metadata": {
        "colab_type": "code",
        "id": "sMP89XUkS4lL",
        "colab": {}
      },
      "source": [
        "#define layer type as convertible (1), must be an integer\n",
        "#for more information, see https://water.usgs.gov/ogw/modflow/MODFLOW-2005-Guide/index.html?dis.htm\n",
        "laytyp = 0*np.ones((nlay,), dtype=np.int32)\n",
        "\n",
        "# create the LPF object\n",
        "lpf = flopy.modflow.ModflowLpf(model=m, hk=khlayers, vka=kvlayers, laytyp=laytyp, ipakcb=1)\n"
      ],
      "execution_count": 0,
      "outputs": []
    },
    {
      "cell_type": "markdown",
      "metadata": {
        "id": "blNu8BSC3VgJ",
        "colab_type": "text"
      },
      "source": [
        "## 3F. Boundary Conditions"
      ]
    },
    {
      "cell_type": "markdown",
      "metadata": {
        "id": "P4Y1btf03ivQ",
        "colab_type": "text"
      },
      "source": [
        "### 3Fi. Recharge Package"
      ]
    },
    {
      "cell_type": "code",
      "metadata": {
        "colab_type": "code",
        "id": "gDZ98E8NS8UG",
        "colab": {}
      },
      "source": [
        "# assign recharge to the model\n",
        "# assign recharge to the model\n",
        "#units=ft/d-check!\n",
        "\n",
        "rch1=0.001 #find different numbers in literature; fine\n",
        "rch2=0.002 #coarse\n",
        "\n",
        "#create recharge array corresponding with values in kl1 (toplayer) array, where\n",
        "#when kl1 element=kf, then recharge element=rch1, and when kl1 element does not equal kf (it is kc), then recharge element=rch2\n",
        "recharge=np.where(kl1<=kf, rch1, rch2) \n",
        "\n",
        "#create recharge package\n",
        "rch = flopy.modflow.mfrch.ModflowRch(model=m,nrchop=1, rech = recharge) #nrchop=1 assigns recharge to top grid layer only\n"
      ],
      "execution_count": 0,
      "outputs": []
    },
    {
      "cell_type": "code",
      "metadata": {
        "id": "8_s5a9w72PCO",
        "colab_type": "code",
        "colab": {}
      },
      "source": [
        "#ALTERNATIVE#\n",
        "\n",
        "# assign recharge to the model\n",
        "#units=ft/d-check!\n",
        "\n",
        "#rch1=0.001 #find different numbers in literature; fine\n",
        "#rch2=0.002 #coarse\n",
        "\n",
        "#create recharge array corresponding with values in kl1 (toplayer) array, where\n",
        "#when kl1 element=kf, then recharge element=rch1, and when kl1 element does not equal kf (it is kc), then recharge element=rch2\n",
        "\n",
        "#recharge[kl1<=kf]=rch1\n",
        "#recharge[kl1>kf]=rch2\n",
        "#print(recharge.shape)\n",
        "#print(recharge.shape)\n",
        "#print(np.amax(recharge))\n",
        "#print(np.amin(recharge))\n",
        "#print(recharge)"
      ],
      "execution_count": 0,
      "outputs": []
    },
    {
      "cell_type": "markdown",
      "metadata": {
        "id": "-otcrtqA3ZTZ",
        "colab_type": "text"
      },
      "source": [
        "### 3Fii. River Package"
      ]
    },
    {
      "cell_type": "code",
      "metadata": {
        "colab_type": "code",
        "id": "pwTDkxudTGmP",
        "colab": {}
      },
      "source": [
        "# put into a format that MODFLOW wants\n",
        "arriv = dfriv.values\n",
        "#dictionary assigning river data; #key (0) is the stress period\n",
        "#stress period is how you're breaking up time\n",
        "riverdata = {0: arriv} #model ready river data\n",
        "\n",
        "# create river package\n",
        "riv = flopy.modflow.mfriv.ModflowRiv(model=m, ipakcb=None,stress_period_data=riverdata)"
      ],
      "execution_count": 0,
      "outputs": []
    },
    {
      "cell_type": "markdown",
      "metadata": {
        "id": "197weMSqBiEu",
        "colab_type": "text"
      },
      "source": [
        "### 3Fiii. Drain Package\n"
      ]
    },
    {
      "cell_type": "code",
      "metadata": {
        "id": "R72J1xcUBgw4",
        "colab_type": "code",
        "colab": {}
      },
      "source": [
        "# put into a format that MODFLOW wants\n",
        "mfdrn = drains.values\n",
        "\n",
        "#model ready drains data\n",
        "drainsdata = {0: mfdrn}\n",
        "\n",
        "# create drains package\n",
        "drn = flopy.modflow.mfdrn.ModflowDrn(model=m, ipakcb=None, stress_period_data=drainsdata)"
      ],
      "execution_count": 0,
      "outputs": []
    },
    {
      "cell_type": "markdown",
      "metadata": {
        "id": "0DWGbypc2cWO",
        "colab_type": "text"
      },
      "source": [
        "###3Fiv. Well Package"
      ]
    },
    {
      "cell_type": "code",
      "metadata": {
        "id": "1PW33Ivj2itR",
        "colab_type": "code",
        "colab": {}
      },
      "source": [
        "# put into a format that MODFLOW wants as a dictionary with the values from the well dataframe created in the section above.\n",
        "arwell = dfwell.values\n",
        "welldata = {0: arwell} #dictionary assigning well data and a single stress period (steady state)\n",
        "\n",
        "# create well package \n",
        "well = flopy.modflow.mfwel.ModflowWel(model=m, ipakcb=None,stress_period_data=welldata)"
      ],
      "execution_count": 0,
      "outputs": []
    },
    {
      "cell_type": "markdown",
      "metadata": {
        "id": "GAVD2sGT4oRb",
        "colab_type": "text"
      },
      "source": [
        "## 3G. Define output control"
      ]
    },
    {
      "cell_type": "code",
      "metadata": {
        "colab_type": "code",
        "id": "NRhnNJU0TJhN",
        "colab": {}
      },
      "source": [
        "#create oc stress period data. \n",
        "spd = {(0, 0): ['print head', 'print budget', 'save head', 'save budget']}\n",
        "#create output control object\n",
        "oc = flopy.modflow.ModflowOc(model=m, stress_period_data=spd, compact=True)"
      ],
      "execution_count": 0,
      "outputs": []
    },
    {
      "cell_type": "markdown",
      "metadata": {
        "id": "VD9BUXun4si5",
        "colab_type": "text"
      },
      "source": [
        "## 3H. Solver"
      ]
    },
    {
      "cell_type": "code",
      "metadata": {
        "colab_type": "code",
        "id": "0tdHTKB-TMdU",
        "colab": {}
      },
      "source": [
        "# We will start by using the PCG solver with default settings\n",
        "#pcg = flopy.modflow.ModflowPcg(model=m)\n",
        "pcg = flopy.modflow.ModflowPcg(model=m,mxiter=200,iter1=50,hclose=1e-03,rclose=1e-03,relax=0.98,damp=0.3)"
      ],
      "execution_count": 0,
      "outputs": []
    },
    {
      "cell_type": "markdown",
      "metadata": {
        "id": "7yMH7xi9_CF9",
        "colab_type": "text"
      },
      "source": [
        "## 3I. Plot model inputs (boundary conditions, elevations)"
      ]
    },
    {
      "cell_type": "code",
      "metadata": {
        "colab_type": "code",
        "id": "s6ZbnrHqTVjd",
        "outputId": "139b2257-a941-4a49-b8d9-7fb76522e9d5",
        "colab": {
          "base_uri": "https://localhost:8080/",
          "height": 644
        }
      },
      "source": [
        "'''Plot grid and boundary conditions'''\n",
        "#----------------------------------------------------------------------------\n",
        "plt.figure(figsize=(10,10)) #create 10 x 10 figure\n",
        "modelmap = flopy.plot.PlotMapView(model=m, layer=0)\n",
        "grid = modelmap.plot_grid()\n",
        "ib = modelmap.plot_ibound()\n",
        "rvr = modelmap.plot_bc(ftype='RIV')\n",
        "#add labels and legend\n",
        "plt.xlabel('Lx (ft)',fontsize = 14)\n",
        "plt.ylabel('Ly (ft)',fontsize = 14)\n",
        "plt.title('Ibound', fontsize = 15, fontweight = 'bold')\n",
        "plt.legend(handles=[mp.patches.Patch(color='blue',label='Const. Head',ec='black'),\n",
        "                   mp.patches.Patch(color='white',label='Active Cell',ec='black'),\n",
        "                   mp.patches.Patch(color='black',label='Inactive Cell',ec='black'),\n",
        "                   mp.patches.Patch(color='green',label='River',ec='green')],\n",
        "                   bbox_to_anchor=(1.5,1.0))\n",
        "#----------------------------------------------------------------------------"
      ],
      "execution_count": 53,
      "outputs": [
        {
          "output_type": "execute_result",
          "data": {
            "text/plain": [
              "<matplotlib.legend.Legend at 0x7fbc2effd6d8>"
            ]
          },
          "metadata": {
            "tags": []
          },
          "execution_count": 53
        },
        {
          "output_type": "display_data",
          "data": {
            "image/png": "[encoded data removed]",
            "text/plain": [
              "<Figure size 720x720 with 1 Axes>"
            ]
          },
          "metadata": {
            "tags": [],
            "needs_background": "light"
          }
        }
      ]
    },
    {
      "cell_type": "code",
      "metadata": {
        "colab_type": "code",
        "id": "r27l4dJK-Ksv",
        "outputId": "5faf454e-8921-4bb1-91ff-762f68a2ca75",
        "colab": {
          "base_uri": "https://localhost:8080/",
          "height": 644
        }
      },
      "source": [
        "'''Plot elevation'''\n",
        "#----------------------------------------------------------------------------\n",
        "plt.figure(figsize=(10,10)) #create 10 x 10 figure\n",
        "modelmap = flopy.plot.map.PlotMapView(model=m, layer=0) #use plotmapview to attach plot to model\n",
        "#contour_levels = np.linspace(400,800,41)\n",
        "#topelevations = modelmap.contour_array(topgrid, levels = contour_levels) #create head contours\n",
        "#plt.clabel(topelevations, inline=True,fontsize=12,fmt='%1.0f')\n",
        "\n",
        "#create colormap of named colors\n",
        "colors = [\"saddlebrown\",\"lightgoldenrodyellow\"]\n",
        "cmap = mp.colors.LinearSegmentedColormap.from_list(\"\", colors)\n",
        "norm = mp.colors.LogNorm(vmin=kf,vmax=kc)\n",
        "modelmap.plot_array(khlayers[0],norm = norm,cmap=cmap)\n",
        "rvr = modelmap.plot_bc(ftype='RIV')\n",
        "ib = modelmap.plot_ibound()\n",
        "#display parameters\n",
        "plt.xlabel('Lx (ft)',fontsize = 14)\n",
        "plt.ylabel('Ly (ft)',fontsize = 14)\n",
        "plt.title('Top Elevation (ft AMSL)', fontsize = 15, fontweight = 'bold')"
      ],
      "execution_count": 54,
      "outputs": [
        {
          "output_type": "execute_result",
          "data": {
            "text/plain": [
              "Text(0.5, 1.0, 'Top Elevation (ft AMSL)')"
            ]
          },
          "metadata": {
            "tags": []
          },
          "execution_count": 54
        },
        {
          "output_type": "display_data",
          "data": {
            "image/png": "[encoded data removed]",
            "text/plain": [
              "<Figure size 720x720 with 1 Axes>"
            ]
          },
          "metadata": {
            "tags": [],
            "needs_background": "light"
          }
        }
      ]
    },
    {
      "cell_type": "code",
      "metadata": {
        "id": "0zhTGZRqqTUq",
        "colab_type": "code",
        "outputId": "05e581b9-644c-4206-f604-f4eff7b68a9b",
        "colab": {
          "base_uri": "https://localhost:8080/",
          "height": 34
        }
      },
      "source": [
        "np.array(khlayers).shape"
      ],
      "execution_count": 55,
      "outputs": [
        {
          "output_type": "execute_result",
          "data": {
            "text/plain": [
              "(10, 70, 35)"
            ]
          },
          "metadata": {
            "tags": []
          },
          "execution_count": 55
        }
      ]
    },
    {
      "cell_type": "code",
      "metadata": {
        "id": "yTWhw4UA-yK3",
        "colab_type": "code",
        "outputId": "df7823db-c068-4a39-802c-a9833341a546",
        "colab": {
          "base_uri": "https://localhost:8080/",
          "height": 592
        }
      },
      "source": [
        "#E-W Cross section compared to Charlotte's transect\n",
        "\n",
        "plt.figure(figsize=(10,10)) #create 10 x 10 figure\n",
        "modelxsect = flopy.plot.PlotCrossSection(model = m, line={\"row\":22}) #use plotmapview to attach plot to model\n",
        "#modelxsect = flopy.plot.PlotCrossSection(model = m, line={\"column\":23})\n",
        "#create colormap of named colors\n",
        "colors = [\"saddlebrown\",\"gray\",\"lightgoldenrodyellow\"]\n",
        "cmap = mp.colors.LinearSegmentedColormap.from_list(\"\", colors)\n",
        "norm = mp.colors.LogNorm(vmin=kf,vmax=kc)\n",
        "#modelxsect.plot_grid()\n",
        "khlaynp = np.array(khlayers)\n",
        "lines = modelxsect.plot_array(khlaynp,norm=norm, cmap=cmap)\n",
        "rvr = modelxsect.plot_bc(ftype='RIV')\n",
        "modelxsect.plot_ibound()"
      ],
      "execution_count": 56,
      "outputs": [
        {
          "output_type": "display_data",
          "data": {
            "image/png": "[encoded data removed]",
            "text/plain": [
              "<Figure size 720x720 with 1 Axes>"
            ]
          },
          "metadata": {
            "tags": [],
            "needs_background": "light"
          }
        }
      ]
    },
    {
      "cell_type": "code",
      "metadata": {
        "id": "AtZu_uzXOVh_",
        "colab_type": "code",
        "outputId": "86958ddd-267f-470a-be1e-041f9d02926c",
        "colab": {
          "base_uri": "https://localhost:8080/",
          "height": 592
        }
      },
      "source": [
        "#this will be for N-S transect - McKailey\n",
        "\n",
        "plt.figure(figsize=(10,10)) #create 10 x 10 figure\n",
        "#modelxsect = flopy.plot.PlotCrossSection(model = m, line={\"row\":22}) #use plotmapview to attach plot to model\n",
        "modelxsect = flopy.plot.PlotCrossSection(model = m, line={\"column\":15})\n",
        "#create colormap of named colors\n",
        "colors = [\"saddlebrown\",\"gray\",\"lightgoldenrodyellow\"]\n",
        "cmap = mp.colors.LinearSegmentedColormap.from_list(\"\", colors)\n",
        "norm = mp.colors.LogNorm(vmin=kf,vmax=kc)\n",
        "#modelxsect.plot_grid()\n",
        "khlaynp = np.array(khlayers)\n",
        "lines = modelxsect.plot_array(khlaynp,norm=norm, cmap=cmap)\n",
        "rvr = modelxsect.plot_bc(ftype='RIV')\n",
        "modelxsect.plot_ibound()"
      ],
      "execution_count": 57,
      "outputs": [
        {
          "output_type": "display_data",
          "data": {
            "image/png": "[encoded data removed]",
            "text/plain": [
              "<Figure size 720x720 with 1 Axes>"
            ]
          },
          "metadata": {
            "tags": [],
            "needs_background": "light"
          }
        }
      ]
    },
    {
      "cell_type": "markdown",
      "metadata": {
        "id": "x4QPNEge41Mh",
        "colab_type": "text"
      },
      "source": [
        "# 4 Write and run the MODFLOW model"
      ]
    },
    {
      "cell_type": "code",
      "metadata": {
        "colab_type": "code",
        "id": "DH-U_oaiWTl8",
        "outputId": "26c307b7-fe46-480d-f736-5b0003a5ae02",
        "colab": {
          "base_uri": "https://localhost:8080/",
          "height": 255
        }
      },
      "source": [
        "# Write the model input\n",
        "m.write_input()\n",
        "# Execute the model run\n",
        "success, mfoutput = m.run_model(pause=False, report=True)\n",
        "# Report back if the model did not successfully complete\n",
        "if not success:\n",
        "    raise Exception('MODFLOW did not terminate normally.')"
      ],
      "execution_count": 58,
      "outputs": [
        {
          "output_type": "stream",
          "text": [
            "FloPy is using the following  executable to run the model: /usr/local/bin/mf2005\n",
            "\n",
            "                                  MODFLOW-2005     \n",
            "    U.S. GEOLOGICAL SURVEY MODULAR FINITE-DIFFERENCE GROUND-WATER FLOW MODEL\n",
            "                             Version 1.12.00 2/3/2017                        \n",
            "\n",
            " Using NAME file: my_model.nam \n",
            " Run start date and time (yyyy/mm/dd hh:mm:ss): 2020/05/04  4:24:10\n",
            "\n",
            " Solving:  Stress period:     1    Time step:     1    Ground-Water Flow Eqn.\n",
            " Run end date and time (yyyy/mm/dd hh:mm:ss): 2020/05/04  4:24:12\n",
            " Elapsed run time:  2.255 Seconds\n",
            "\n",
            "  Normal termination of simulation\n"
          ],
          "name": "stdout"
        }
      ]
    },
    {
      "cell_type": "markdown",
      "metadata": {
        "id": "bN2ivrtx_5yz",
        "colab_type": "text"
      },
      "source": [
        "# 5 Plot Output Data"
      ]
    },
    {
      "cell_type": "code",
      "metadata": {
        "colab_type": "code",
        "id": "a7mhYeBVhDn6",
        "colab": {}
      },
      "source": [
        "'''Extract binary data from head and flow files'''\n",
        "#----------------------------------------------------------------------------\n",
        "#extract binary data from head file as flopy head object\n",
        "headobj = flopy.utils.binaryfile.HeadFile(modelname+'.hds')\n",
        "#extract head data from head object\n",
        "head = headobj.get_data(totim=1.0)\n",
        "#print(head[9])"
      ],
      "execution_count": 0,
      "outputs": []
    },
    {
      "cell_type": "code",
      "metadata": {
        "colab_type": "code",
        "id": "MZxuJhCzg_F8",
        "outputId": "dafd56a6-a553-4a31-fa99-945c69c3d6d7",
        "colab": {
          "base_uri": "https://localhost:8080/",
          "height": 698
        }
      },
      "source": [
        "'''Plot results'''\n",
        "#----------------------------------------------------------------------------\n",
        "plt.figure(figsize=(10,10)) #create 10 x 10 figure\n",
        "modelmap = flopy.plot.map.PlotMapView(model=m, layer=0) #use plotmapview to attach plot to model\n",
        "#grid = modelmap.plot_grid() #plot model grid\n",
        "#contour_levels = np.linspace(head[0].min(),head[0].max(),11) #set contour levels for contouring head\n",
        "contour_levels = np.linspace(400,1000,61) #set contour levels for contouring head\n",
        "head_contours = modelmap.contour_array(head[9], levels=contour_levels) #create head contours\n",
        "plt.clabel(head_contours, inline=True,fontsize=12,fmt='%1.0f')\n",
        "rvr = modelmap.plot_bc(ftype='RIV')\n",
        "well_map = modelmap.plot_bc(ftype='WEL',plotAll=True) #plot the well sites onto the model domain and show with the top layer\n",
        "\n",
        "#display parameters\n",
        "plt.xlabel('Lx (ft)',fontsize = 14)\n",
        "plt.ylabel('Ly (ft)',fontsize = 14)\n",
        "plt.title('Steady-State Model, Flow(ft^3/d) and Head(ft) Results', fontsize = 15, fontweight = 'bold')"
      ],
      "execution_count": 60,
      "outputs": [
        {
          "output_type": "stream",
          "text": [
            "/usr/local/lib/python3.6/dist-packages/flopy/plot/map.py:525: FutureWarning: Using a non-tuple sequence for multidimensional indexing is deprecated; use `arr[tuple(seq)]` instead of `arr[seq]`. In the future this will be interpreted as an array index, `arr[np.array(seq)]`, which will result either in an error or a different result.\n",
            "  pa[list(idx[1:])] = 1\n"
          ],
          "name": "stderr"
        },
        {
          "output_type": "execute_result",
          "data": {
            "text/plain": [
              "Text(0.5, 1.0, 'Steady-State Model, Flow(ft^3/d) and Head(ft) Results')"
            ]
          },
          "metadata": {
            "tags": []
          },
          "execution_count": 60
        },
        {
          "output_type": "display_data",
          "data": {
            "image/png": "[encoded data removed]",
            "text/plain": [
              "<Figure size 720x720 with 1 Axes>"
            ]
          },
          "metadata": {
            "tags": [],
            "needs_background": "light"
          }
        }
      ]
    },
    {
      "cell_type": "markdown",
      "metadata": {
        "id": "qymHjE5B3ODq",
        "colab_type": "text"
      },
      "source": [
        "#Calibration"
      ]
    },
    {
      "cell_type": "code",
      "metadata": {
        "id": "953a7W713Ray",
        "colab_type": "code",
        "outputId": "82a4a25b-1055-4fa2-a547-710f5d0debea",
        "colab": {
          "base_uri": "https://localhost:8080/",
          "height": 312
        }
      },
      "source": [
        "# import well data from csv file\n",
        "pumping_ob = pd.read_csv('https://raw.githubusercontent.com/dbabrams/ShallowDolomite_Group/master/pumping/SB_Potent_Surface_points.csv?token=AOLJKS6FEV3LMGLPGNL5OBS6WW5DQ')\n",
        "\n",
        "# trim dataframe with well information to the model domain\n",
        "pumping_ob = pumping_ob.loc[pumping_ob['lambx']<nex]\n",
        "pumping_ob = pumping_ob.loc[pumping_ob['lamby']<ney]\n",
        "pumping_ob = pumping_ob[pumping_ob['lambx']>swx]\n",
        "pumping_ob = pumping_ob[pumping_ob['lamby']>swy]\n",
        "\n",
        "# convert lamx to column and lamy to row\n",
        "pumping_ob['row'] = np.trunc((ney-pumping_ob['lamby'])/dy)\n",
        "pumping_ob['col'] = np.trunc((pumping_ob['lambx']-swx)/dx)\n",
        "# define the flux as the pumpage data from the imported file and convert from gal/year to ft3/day to match other units of the model. Also, make it negative so that it detracts from system.\n",
        "#pumping_ob.rename(columns={'Head':'Head_ftAMS'})\n",
        "pumping_ob['row'] = pumping_ob.row.astype(\"int64\")\n",
        "pumping_ob['col'] = pumping_ob.col.astype(\"int64\")\n",
        "\n",
        "pumping_ob['simulated']=head[9,pumping_ob['row'],pumping_ob['col']]\n",
        "\n",
        "# drop unneeded columns\n",
        "pumping_ob = pumping_ob.drop(['lambx','lamby'], axis=1)\n",
        "\n",
        "#print(pumping_ob)\n",
        "\n",
        "compare=pumping_ob\n",
        "compare=compare.set_index('Head_ftAMS')\n",
        "compare=compare.drop(['row','col'],axis=1)\n",
        "plt.scatter(compare.index,compare.simulated)\n",
        "x = np.linspace(450,700)\n",
        "y = x\n",
        "plt.plot(x,y)\n",
        "plt.xlabel('Observed Head (ft)')\n",
        "plt.ylabel('Simulated Head (ft)')\n",
        "plt.title('Calibration Information')\n",
        "#print (compare)"
      ],
      "execution_count": 61,
      "outputs": [
        {
          "output_type": "execute_result",
          "data": {
            "text/plain": [
              "Text(0.5, 1.0, 'Calibration Information')"
            ]
          },
          "metadata": {
            "tags": []
          },
          "execution_count": 61
        },
        {
          "output_type": "display_data",
          "data": {
            "image/png": "[encoded data removed]",
            "text/plain": [
              "<Figure size 432x288 with 1 Axes>"
            ]
          },
          "metadata": {
            "tags": [],
            "needs_background": "light"
          }
        }
      ]
    },
    {
      "cell_type": "code",
      "metadata": {
        "id": "9tOHWE9k3WhD",
        "colab_type": "code",
        "outputId": "5ea533af-61c1-489f-cdd2-4c2a86559298",
        "colab": {
          "base_uri": "https://localhost:8080/",
          "height": 289
        }
      },
      "source": [
        "#pumping_ob = pumping_ob.drop(['row','col'], axis=1)\n",
        "pumping_ob['error']=pumping_ob['Head_ftAMS']-pumping_ob['simulated']\n",
        "pumping_ob['absolute']=pumping_ob.error.abs()\n",
        "mean=pumping_ob.error.mean()\n",
        "aberror = pumping_ob.absolute.mean()\n",
        "print(mean)\n",
        "print(aberror)\n",
        "print(pumping_ob)"
      ],
      "execution_count": 62,
      "outputs": [
        {
          "output_type": "stream",
          "text": [
            "-2.5297449905960634\n",
            "16.558189218026616\n",
            "      Head_ftAMS  row  col   simulated      error   absolute\n",
            "10        607.14   49   29  628.992310 -21.852310  21.852310\n",
            "66        593.00   27   22  594.594482  -1.594482   1.594482\n",
            "67        546.00   35   11  593.089905 -47.089905  47.089905\n",
            "68        543.00   35   11  593.089905 -50.089905  50.089905\n",
            "69        557.00   35   10  592.517517 -35.517517  35.517517\n",
            "...          ...  ...  ...         ...        ...        ...\n",
            "1446      602.02   22    8  609.415039  -7.395039   7.395039\n",
            "1447      597.25   30   12  606.640930  -9.390930   9.390930\n",
            "1448      582.48   27    6  599.137024 -16.657024  16.657024\n",
            "1449      590.57   30    6  597.428711  -6.858711   6.858711\n",
            "1460      644.65   65   29  650.916016  -6.266016   6.266016\n",
            "\n",
            "[135 rows x 6 columns]\n"
          ],
          "name": "stdout"
        }
      ]
    }
  ]
}