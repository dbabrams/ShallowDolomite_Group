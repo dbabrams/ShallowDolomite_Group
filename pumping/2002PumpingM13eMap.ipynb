{
  "nbformat": 4,
  "nbformat_minor": 0,
  "metadata": {
    "colab": {
      "name": "Project3eoutline.ipynb",
      "provenance": []
    },
    "kernelspec": {
      "name": "python3",
      "display_name": "Python 3"
    }
  },
  "cells": [
    {
      "cell_type": "code",
      "metadata": {
        "id": "9H8rqE9iYSDt",
        "colab_type": "code",
        "outputId": "fd890666-27b2-407b-f325-3a68b87e9ada",
        "colab": {
          "base_uri": "https://localhost:8080/",
          "height": 67
        }
      },
      "source": [
        "#import necessary packages\n",
        "!apt-get -qq install python-cartopy python3-cartopy\n",
        "import cartopy\n",
        "!pip install pykrige\n",
        "# Now let's import packages\n",
        "import pandas as pd\n",
        "import matplotlib.pyplot as plt\n",
        "import pylab #using as a plotting library for spatial data, make contours\n",
        "import numpy as np #gridded datasets and matrices; array package\n",
        "\n",
        "# import cartopy, which we will use to map\n",
        "import cartopy.crs as ccrs                   # import projections\n",
        "import cartopy.feature as cf                 # import features\n",
        "\n",
        "\n",
        "# import the UniversalKriging function from pykrige.uk \n",
        "from pykrige.uk import UniversalKriging\n",
        "\n"
      ],
      "execution_count": 5,
      "outputs": [
        {
          "output_type": "stream",
          "text": [
            "Requirement already satisfied: pykrige in /usr/local/lib/python3.6/dist-packages (1.5.0)\n",
            "Requirement already satisfied: numpy>=1.14.5 in /usr/local/lib/python3.6/dist-packages (from pykrige) (1.18.2)\n",
            "Requirement already satisfied: scipy>=1.1.0 in /usr/local/lib/python3.6/dist-packages (from pykrige) (1.4.1)\n"
          ],
          "name": "stdout"
        }
      ]
    },
    {
      "cell_type": "code",
      "metadata": {
        "id": "MLKx4VvgnrJY",
        "colab_type": "code",
        "outputId": "ca6d62f6-f65c-4d4e-cd8c-653a3216af18",
        "colab": {
          "base_uri": "https://localhost:8080/",
          "height": 34
        }
      },
      "source": [
        "!pip install pyproj"
      ],
      "execution_count": 6,
      "outputs": [
        {
          "output_type": "stream",
          "text": [
            "Requirement already satisfied: pyproj in /usr/local/lib/python3.6/dist-packages (2.6.0)\n"
          ],
          "name": "stdout"
        }
      ]
    },
    {
      "cell_type": "code",
      "metadata": {
        "id": "yQZ-OWlTkjAC",
        "colab_type": "code",
        "colab": {}
      },
      "source": [
        "import pyproj"
      ],
      "execution_count": 0,
      "outputs": []
    },
    {
      "cell_type": "code",
      "metadata": {
        "id": "aGWCJhLXhs17",
        "colab_type": "code",
        "colab": {}
      },
      "source": [
        "df = pd.read_excel('https://github.com/mcampo26/map/blob/master/2002_pumping_V2.xls?raw=true') #read excel data"
      ],
      "execution_count": 0,
      "outputs": []
    },
    {
      "cell_type": "code",
      "metadata": {
        "id": "2ZWYb2eNgaw6",
        "colab_type": "code",
        "colab": {}
      },
      "source": [
        "illimap= {'proj': 'lcc', # Lambert Conformal Conic\n",
        "     'ellps': 'clrk66', #Clarke 1866 ellipsoid\n",
        "     'lon_0': -89.5, #Central Meridian\n",
        "     'lat_0': 33, #Latitude of Origin\n",
        "     'lat_1': 33, #Standard Parallel 1\n",
        "     'lat_2': 45, #Standard Parallel 2\n",
        "     'x_0': 2999994*0.3048006096012192, #starting x-coord. in ft, python expects m\n",
        "     'y_0': 0} #starting y-coord.\n",
        "\n",
        "wgs84= pyproj.Proj('epsg:4326') #Standard lat/long coordinates"
      ],
      "execution_count": 0,
      "outputs": []
    },
    {
      "cell_type": "code",
      "metadata": {
        "id": "y1askcDtsiVz",
        "colab_type": "code",
        "outputId": "2fcaad75-4432-40ba-a66b-752eb876994c",
        "colab": {
          "base_uri": "https://localhost:8080/",
          "height": 252
        }
      },
      "source": [
        "Latitude=[] \n",
        "Longitude=[]\n",
        "for index, row in df.iterrows():\n",
        "  from pyproj import Proj, transform\n",
        "  inProj = Proj(illimap) #define input projection\n",
        "  outProj = wgs84 #define output projection\n",
        "  Long1,Lat1 = (0.3048006096012192*row['lam_x'],0.3048006096012192*row['lam_y']) #define input coordinates; convert lambert ft to m\n",
        "  Long2,Lat2 = transform(inProj,outProj,Long1,Lat1) #convert from lambert to wgs84\n",
        "  Latitude.append(Lat2) #add latitude data to empty Latitude=[] array\n",
        "  Longitude.append(Long2) #add longitude data to empty Longitude=[] array\n",
        "df['Latitude']=Latitude\n",
        "df['Longitude']=Longitude\n",
        "df2002pump=df.drop(['lam_x','lam_y'],axis=1)\n",
        "df2002pump=df2002pump.rename(columns={\"2002\": \"Pumpage 2002 (gal/yr)\"})\n",
        "print(df2002pump)"
      ],
      "execution_count": 10,
      "outputs": [
        {
          "output_type": "stream",
          "text": [
            "      p_num  isws_facility_id  ...   Latitude  Longitude\n",
            "0    411178        19797210.0  ... -88.046134  41.518670\n",
            "1    409294        19797210.0  ... -88.047315  41.518172\n",
            "2    409293        19797210.0  ... -88.044801  41.519947\n",
            "3    409179        19790050.0  ... -87.603452  41.351988\n",
            "4    409180        19790050.0  ... -87.628680  41.342103\n",
            "..      ...               ...  ...        ...        ...\n",
            "179  404093        19713933.0  ... -88.206268  41.569521\n",
            "180  404092        19713933.0  ... -88.203915  41.565856\n",
            "181  404094        19713933.0  ... -88.203915  41.565856\n",
            "182  404095        19713933.0  ... -88.206268  41.569521\n",
            "183  404170        19716670.0  ... -88.166288  41.595252\n",
            "\n",
            "[184 rows x 8 columns]\n"
          ],
          "name": "stdout"
        }
      ]
    },
    {
      "cell_type": "code",
      "metadata": {
        "id": "DPsVPgXom5tq",
        "colab_type": "code",
        "colab": {}
      },
      "source": [
        "#Domain of project\n",
        "sw_lat = 41.411972 #southwest latitude\n",
        "sw_long =  -88.241971 #southwest longitude\n",
        "ne_lat =  41.72910 #northeast latitude\n",
        "ne_long = -88.030337 #northeast longitude"
      ],
      "execution_count": 0,
      "outputs": []
    },
    {
      "cell_type": "code",
      "metadata": {
        "id": "pTO_bi_Emz8h",
        "colab_type": "code",
        "colab": {}
      },
      "source": [
        "minlat = 41\n",
        "maxlat = 42\n",
        "minlong = -88.75\n",
        "maxlong = -87.5"
      ],
      "execution_count": 0,
      "outputs": []
    },
    {
      "cell_type": "code",
      "metadata": {
        "id": "TmqHrX7-oDsD",
        "colab_type": "code",
        "outputId": "7afec343-fc1f-4ef9-97a9-e80c160b027c",
        "colab": {
          "base_uri": "https://localhost:8080/",
          "height": 1000
        }
      },
      "source": [
        "fig = plt.figure(figsize=(8, 8))\n",
        "ax = plt.axes(projection=ccrs.PlateCarree())\n",
        "ax.set_xlim(minlong,maxlong)\n",
        "ax.set_ylim(minlat,maxlat)\n",
        "ax.set_title(\"Pumpage (gallons/yr)\")\n",
        "states_provinces = cf.NaturalEarthFeature(\n",
        "    category='cultural', # features are categorized as cultural or physical\n",
        "    name='admin_1_states_provinces', # name of shapefile\n",
        "    scale='50m', # scale of features\n",
        "    facecolor='none')\t\n",
        "largerivers = cf.NaturalEarthFeature(\n",
        "    category='physical',\n",
        "    name='rivers_lake_centerlines',\n",
        "    scale='110m', # major rivers\n",
        "    facecolor='none')\n",
        "smallrivers = cf.NaturalEarthFeature(\n",
        "    category='physical',\n",
        "    name='rivers_lake_centerlines_scale_rank',\n",
        "    scale='10m', # smaller rivers (still considered major by many/most people)\n",
        "    facecolor='none')   \n",
        "popplaces = cf.NaturalEarthFeature(\n",
        "    category='cultural',\n",
        "    name='urban_areas', # plots municipal boundaries\n",
        "    scale='10m',\n",
        "    facecolor='plum') \n",
        "# adds the features defined above\n",
        "ax.add_feature(popplaces,edgecolor='plum',linewidth=1.0, zorder=1)\n",
        "ax.add_feature(largerivers,edgecolor='aqua',linewidth=2.0, zorder=2)\n",
        "ax.add_feature(smallrivers,edgecolor='aqua',linewidth=2.0, zorder=2)\n",
        "ax.add_feature(states_provinces, edgecolor='slategray', linewidth=3.0,linestyle=':', zorder=3)\n",
        "sz=(df2002pump['Pumpage 2002 (gal/yr)'].values/1000000)\n",
        "print(sz)\n",
        "\n",
        "plt.scatter(df2002pump['Latitude'],df2002pump['Longitude'],sz, marker=\".\", color=\"black\", label=\"points\",zorder=3)\n",
        "plt.legend(loc='lower right')\n",
        "plt.fill()\n",
        "plt.title('2002 Pumpage (gallons/year)')\n",
        "plt.show()"
      ],
      "execution_count": 13,
      "outputs": [
        {
          "output_type": "stream",
          "text": [
            "[1.52400000e+02 2.00000000e+01 0.00000000e+00 4.11490000e+01\n",
            " 0.00000000e+00 0.00000000e+00 0.00000000e+00 1.84302000e+02\n",
            " 1.05749000e+02 0.00000000e+00 4.39940000e+01 4.03150000e+01\n",
            " 3.79860000e+01 0.00000000e+00 0.00000000e+00 4.09200000e+01\n",
            " 0.00000000e+00 0.00000000e+00 0.00000000e+00 0.00000000e+00\n",
            " 0.00000000e+00 2.63709000e+01 1.08568800e+01 3.01796000e+01\n",
            " 0.00000000e+00 1.83780300e+02 0.00000000e+00 9.40912000e+01\n",
            " 0.00000000e+00 8.32025000e+01 2.10150000e+00 1.56637000e+01\n",
            " 0.00000000e+00 0.00000000e+00 5.20997000e+01 0.00000000e+00\n",
            " 8.28638000e+01 2.90382000e+01 0.00000000e+00 3.99520000e+01\n",
            " 0.00000000e+00 0.00000000e+00 5.67019000e+01 0.00000000e+00\n",
            " 7.25500000e-01 8.95890000e+00 6.14550000e+00 3.54900000e-01\n",
            " 7.57670000e+00 3.93570000e+00 2.00000000e+02 1.59665000e+01\n",
            " 1.08000000e-01 2.28040000e+01 2.25100000e+01 1.42833333e+01\n",
            " 1.89333333e+01 0.00000000e+00 0.00000000e+00 0.00000000e+00\n",
            " 4.44315960e+02 2.52340400e+01 0.00000000e+00 0.00000000e+00\n",
            " 0.00000000e+00 2.14523000e+02 2.23604000e+02 1.37680000e+02\n",
            " 3.07500000e-01 2.85910000e+01 0.00000000e+00 4.40000000e+01\n",
            " 1.20000000e-01 3.00000000e-02 0.00000000e+00 0.00000000e+00\n",
            " 0.00000000e+00 2.86032500e+01 0.00000000e+00 0.00000000e+00\n",
            " 0.00000000e+00 1.63833000e+02 1.57924000e+02 5.02900000e+00\n",
            " 0.00000000e+00 1.90444000e+02 8.36210000e+01 0.00000000e+00\n",
            " 1.27000000e-01 8.10000000e-02 2.80800000e+00 0.00000000e+00\n",
            " 1.75169000e+02 0.00000000e+00 0.00000000e+00 0.00000000e+00\n",
            " 2.23346000e+02 1.66161000e+02 0.00000000e+00 0.00000000e+00\n",
            " 0.00000000e+00 1.39333297e+02 0.00000000e+00 7.82410540e+01\n",
            " 0.00000000e+00 8.04925960e+01 1.98903194e+02 0.00000000e+00\n",
            " 1.04453599e+02 0.00000000e+00 0.00000000e+00 0.00000000e+00\n",
            " 0.00000000e+00 4.17120000e+00 7.06090000e+01 0.00000000e+00\n",
            " 6.88370000e+01 0.00000000e+00 0.00000000e+00 1.43177000e+02\n",
            " 1.89316000e+02 4.00000000e+01 0.00000000e+00 6.45190000e+01\n",
            " 0.00000000e+00 0.00000000e+00 0.00000000e+00 2.75680000e+01\n",
            " 3.15930000e+01 0.00000000e+00 0.00000000e+00 1.87000000e-01\n",
            " 7.07500000e+00 0.00000000e+00 8.23270000e+01 8.23270000e+01\n",
            " 0.00000000e+00 1.15375000e+02 1.77077000e+02 1.51592000e+02\n",
            " 1.94936000e+02 0.00000000e+00 0.00000000e+00 0.00000000e+00\n",
            " 3.80300000e+00 1.12400000e+00 0.00000000e+00 7.73500000e+00\n",
            " 5.08400000e+00 1.69400000e+01 0.00000000e+00 0.00000000e+00\n",
            " 4.59300000e+00 3.94740000e+01 6.11000000e+01 3.06610000e+01\n",
            " 1.49650000e+01 1.49650000e+01 3.68000000e+01 2.36100000e+01\n",
            " 2.76250000e+01 4.72110000e+01 8.70088000e+01 1.66628000e+02\n",
            " 2.83512400e+02 8.33270000e+01 3.10150000e+02 0.00000000e+00\n",
            " 4.70860000e+01 7.20360000e+01 1.82457000e+02 1.82500000e+00\n",
            " 0.00000000e+00 3.97850000e+01 3.97850000e+01 1.41253000e+02\n",
            " 2.15800000e+00 1.87200000e-02 2.49600000e-02 2.00000000e+01\n",
            " 2.00000000e+01 6.91888000e-01 6.91887000e-01 4.00000000e-03]\n"
          ],
          "name": "stdout"
        },
        {
          "output_type": "stream",
          "text": [
            "/usr/lib/python3/dist-packages/cartopy/io/__init__.py:264: DownloadWarning: Downloading: http://naciscdn.org/naturalearth/10m/cultural/ne_10m_urban_areas.zip\n",
            "  warnings.warn('Downloading: {}'.format(url), DownloadWarning)\n",
            "/usr/lib/python3/dist-packages/cartopy/io/__init__.py:264: DownloadWarning: Downloading: http://naciscdn.org/naturalearth/110m/physical/ne_110m_rivers_lake_centerlines.zip\n",
            "  warnings.warn('Downloading: {}'.format(url), DownloadWarning)\n",
            "/usr/lib/python3/dist-packages/cartopy/io/__init__.py:264: DownloadWarning: Downloading: http://naciscdn.org/naturalearth/10m/physical/ne_10m_rivers_lake_centerlines_scale_rank.zip\n",
            "  warnings.warn('Downloading: {}'.format(url), DownloadWarning)\n",
            "/usr/lib/python3/dist-packages/cartopy/io/__init__.py:264: DownloadWarning: Downloading: http://naciscdn.org/naturalearth/50m/cultural/ne_50m_admin_1_states_provinces.zip\n",
            "  warnings.warn('Downloading: {}'.format(url), DownloadWarning)\n"
          ],
          "name": "stderr"
        },
        {
          "output_type": "display_data",
          "data": {
            "image/png": "[encoded data removed]",
            "text/plain": [
              "<Figure size 576x576 with 1 Axes>"
            ]
          },
          "metadata": {
            "tags": [],
            "needs_background": "light"
          }
        }
      ]
    }
  ]
}