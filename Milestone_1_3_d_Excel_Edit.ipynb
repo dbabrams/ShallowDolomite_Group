{
  "nbformat": 4,
  "nbformat_minor": 0,
  "metadata": {
    "kernelspec": {
      "display_name": "Python 3",
      "language": "python",
      "name": "python3"
    },
    "language_info": {
      "codemirror_mode": {
        "name": "ipython",
        "version": 3
      },
      "file_extension": ".py",
      "mimetype": "text/x-python",
      "name": "python",
      "nbconvert_exporter": "python",
      "pygments_lexer": "ipython3",
      "version": "3.7.6"
    },
    "colab": {
      "name": "McKailey_milestone_1.ipynb",
      "provenance": [],
      "toc_visible": true
    }
  },
  "cells": [
    {
      "cell_type": "markdown",
      "metadata": {
        "id": "tBJRBwtXZiSX",
        "colab_type": "text"
      },
      "source": [
        "#Set Up Code Options"
      ]
    },
    {
      "cell_type": "code",
      "metadata": {
        "id": "V6nOkMTJ7itQ",
        "colab_type": "code",
        "outputId": "b31f0611-a502-4703-e634-166b57553f36",
        "colab": {
          "base_uri": "https://localhost:8080/",
          "height": 128
        }
      },
      "source": [
        "!pip install pyproj"
      ],
      "execution_count": 1,
      "outputs": [
        {
          "output_type": "stream",
          "text": [
            "Collecting pyproj\n",
            "\u001b[?25l  Downloading https://files.pythonhosted.org/packages/ce/37/705ee471f71130d4ceee41bbcb06f3b52175cb89273cbb5755ed5e6374e0/pyproj-2.6.0-cp36-cp36m-manylinux2010_x86_64.whl (10.4MB)\n",
            "\u001b[K     |████████████████████████████████| 10.4MB 2.8MB/s \n",
            "\u001b[?25hInstalling collected packages: pyproj\n",
            "Successfully installed pyproj-2.6.0\n"
          ],
          "name": "stdout"
        }
      ]
    },
    {
      "cell_type": "code",
      "metadata": {
        "id": "dyTAmRLGAgVD",
        "colab_type": "code",
        "colab": {}
      },
      "source": [
        "#import packages\n",
        "import numpy as np\n",
        "import pandas as pd\n",
        "import matplotlib.pyplot as plt\n",
        "import pyproj"
      ],
      "execution_count": 0,
      "outputs": []
    },
    {
      "cell_type": "code",
      "metadata": {
        "id": "YtdBTG94AgVK",
        "colab_type": "code",
        "colab": {}
      },
      "source": [
        "#This line will have the full data set printed out. \n",
        "#Toggle off and clear output if you no longer want to see full dataset\n",
        "#pd.set_option(\"display.max_rows\", None, \"display.max_columns\", None)\n",
        "\n",
        "#read in the csv\n",
        "raw_csv = 'https://raw.githubusercontent.com/dbabrams/ShallowDolomite_Group/master/Pumpage_Data_WillCounty.csv?token=ANYMEMJFLCWEXHTMSZRZIF26VSG72'"
      ],
      "execution_count": 0,
      "outputs": []
    },
    {
      "cell_type": "code",
      "metadata": {
        "id": "Z_5cMekN6mNg",
        "colab_type": "code",
        "colab": {}
      },
      "source": [
        "'''Will County'''\n",
        "sw_lat =  41.41 #southwest latitude\n",
        "sw_long = -88.24 #southwest longitude\n",
        "ne_lat =  41.72 #northeast latitude\n",
        "ne_long = -88.03 #northeast longitude\n",
        "\n",
        "\n",
        "illimap = {'proj': 'lcc', # Lambert Conformal Conic\n",
        "     'ellps': 'clrk66',\n",
        "     'lon_0': -89.5,\n",
        "     'lat_0': 33,\n",
        "     'lat_1': 33,\n",
        "     'lat_2': 45,\n",
        "     'x_0': 2999994*0.3048,\n",
        "     'y_0': 0}\n",
        "\n",
        "prj = pyproj.Proj(illimap)\n",
        "\n",
        "wgs84 = pyproj.Proj(\"epsg:4326\")\n",
        "\n",
        "nex, ney = pyproj.transform(wgs84,illimap,ne_lat,ne_long)\n",
        "swx, swy = pyproj.transform(wgs84,illimap,sw_lat,sw_long)\n",
        "\n",
        "\n",
        "nex, ney = round(nex/0.3048,-4), round(ney/0.3048,-4)\n",
        "swx, swy = round(swx/0.3048,-4), round(swy/0.3048,-4)"
      ],
      "execution_count": 0,
      "outputs": []
    },
    {
      "cell_type": "markdown",
      "metadata": {
        "id": "G4y5CKyFaZTY",
        "colab_type": "text"
      },
      "source": [
        "#Raw Data"
      ]
    },
    {
      "cell_type": "code",
      "metadata": {
        "id": "q3lt4naqAgVQ",
        "colab_type": "code",
        "outputId": "c42c8d1d-9780-48f9-eaed-f3a94ec4fe53",
        "colab": {
          "base_uri": "https://localhost:8080/",
          "height": 53
        }
      },
      "source": [
        "#Create a copy of the data is not edited\n",
        "#This will be needed for McK for 3d\n",
        "raw_data = pd.read_csv(raw_csv)\n",
        "#print(raw_data)\n",
        "\n",
        "print('size of original dataframe')\n",
        "print(raw_data.shape)"
      ],
      "execution_count": 5,
      "outputs": [
        {
          "output_type": "stream",
          "text": [
            "size of original dataframe\n",
            "(675, 46)\n"
          ],
          "name": "stdout"
        }
      ]
    },
    {
      "cell_type": "markdown",
      "metadata": {
        "id": "wjrCC5azZMQ7",
        "colab_type": "text"
      },
      "source": [
        "##Remove Lost and Deep Wells"
      ]
    },
    {
      "cell_type": "code",
      "metadata": {
        "colab_type": "code",
        "outputId": "f91d51c2-70b7-4237-be22-0cd08436b1a4",
        "id": "BJFjhepM2UAg",
        "colab": {
          "base_uri": "https://localhost:8080/",
          "height": 53
        }
      },
      "source": [
        "#read in raw data \n",
        "raw_data_1 = pd.read_csv(raw_csv)\n",
        "\n",
        "#drop rows if the depth, lamx, or lamy is unknown\n",
        "raw_data_1.dropna(subset=['depth_total_last_known', 'lam_x', 'lam_y'], inplace = True)\n",
        "    \n",
        "#with this line I am dropping all of the rows that are deep wells (>400 ft)\n",
        "raw_data_1.drop(raw_data_1[raw_data_1['depth_total_last_known'] > 400].index, inplace = True)\n",
        "\n",
        "#hard code drop Channahon Park District Well 3 which has ______ for lam_x / lam_y & so dropna didn't work\n",
        "raw_data_1.drop(raw_data_1[raw_data_1['p_num'] == 404003].index, inplace = True)\n",
        "\n",
        "print('size of updated dataframe')\n",
        "print(raw_data_1.shape)\n",
        "#raw_data_1"
      ],
      "execution_count": 6,
      "outputs": [
        {
          "output_type": "stream",
          "text": [
            "size of updated dataframe\n",
            "(335, 46)\n"
          ],
          "name": "stdout"
        }
      ]
    },
    {
      "cell_type": "code",
      "metadata": {
        "id": "PcG9bDUuCHfK",
        "colab_type": "code",
        "colab": {}
      },
      "source": [
        "#remove wells outside model domain\n",
        "raw_data_1=raw_data_1.astype({'lam_x': 'float64','lam_y':'float64'})\n",
        "raw_data_1=raw_data_1.loc[raw_data_1['lam_x']<nex]\n",
        "raw_data_1=raw_data_1.loc[raw_data_1['lam_y']<ney]\n",
        "raw_data_1=raw_data_1.loc[raw_data_1['lam_x']>swx]\n",
        "raw_data_1=raw_data_1.loc[raw_data_1['lam_y']>swy]"
      ],
      "execution_count": 0,
      "outputs": []
    },
    {
      "cell_type": "markdown",
      "metadata": {
        "id": "XfP8MbVmagBC",
        "colab_type": "text"
      },
      "source": [
        "##Arrange Data and only keep Big Wells"
      ]
    },
    {
      "cell_type": "code",
      "metadata": {
        "id": "pg__ZovTAgVW",
        "colab_type": "code",
        "outputId": "d2e953ce-3137-48bf-a157-307a4a196468",
        "colab": {
          "base_uri": "https://localhost:8080/",
          "height": 673
        }
      },
      "source": [
        "#raw_data_2 provides all of the old data but combined by facility\n",
        "#reset index to be based on well owner\n",
        "raw_data_2=raw_data_1.set_index('owner')\n",
        "#delete extra rows so that the dataframe will just be owner and the years of pumping\n",
        "raw_data_2=raw_data_2.drop(['p_num','isws_facility_id', 'fac_well_num','depth_total_last_known', 'lam_x', 'lam_y'], axis=1)\n",
        "#sum together all pumping for the same well owners so that the dataset is by pumping by facility\n",
        "raw_data_2=raw_data_2.groupby(level=0).sum(min_count=1)\n",
        "\n",
        "#calculate the maximum pumping for each facility\n",
        "raw_data_2['max']=raw_data_2[['1981', '1982', '1983',\n",
        "       '1984', '1985', '1986', '1987', '1988', '1989', '1990', '1991', '1992',\n",
        "       '1993', '1994', '1995', '1996', '1997', '1998', '1999', '2000', '2001',\n",
        "       '2002', '2003', '2004', '2005', '2006', '2007', '2008', '2009', '2010',\n",
        "       '2011', '2012', '2013', '2014', '2015', '2016', '2017', '2018', '2019']].max(axis=1) \n",
        "\n",
        "#List facilities in order of largest pumpers to smallest\n",
        "raw_data_2=raw_data_2.sort_values(by='max',ascending=False)\n",
        "\n",
        "#remove all facilities with nan in max and where maximum well pumping is less than 0.1mgd / \"small fry\" wells\n",
        "raw_data_3=raw_data_2.dropna(subset=['max'],axis=0)\n",
        "raw_data_3['small']=raw_data_3['max']-36524250\n",
        "raw_data_4=raw_data_3[raw_data_3.small > 0]\n",
        "\n",
        "#drop extra columns so that the dataframe will just be owner and the years of pumping\n",
        "raw_data_4=raw_data_4.drop(['small', 'max'], axis=1)\n",
        "\n",
        "print(raw_data_4)\n",
        "print('size of updated dataframe')\n",
        "print(raw_data_4.shape)"
      ],
      "execution_count": 8,
      "outputs": [
        {
          "output_type": "stream",
          "text": [
            "                                                  1981  ...         2019\n",
            "owner                                                   ...             \n",
            "HANSON MATERIAL SERVICE - YARD 61            8200000.0  ...          NaN\n",
            "ILLINOIS AMERICAN - WEST SUBURBAN DIV      919209000.0  ...          NaN\n",
            "ROMEOVILLE                                 157714600.0  ...          NaN\n",
            "CREST HILL                                 359102900.0  ...          NaN\n",
            "SHOREWOOD                                   84764800.0  ...  179934000.0\n",
            "BOLINGBROOK                                180009000.0  ...          NaN\n",
            "MINOOKA                                            0.0  ...          NaN\n",
            "AQUA ILLINOIS - OAKVIEW                      7859520.0  ...          NaN\n",
            "VULCAN MATERIAL - JOLIET 340                       NaN  ...          NaN\n",
            "ROCKDALE                                           NaN  ...          NaN\n",
            "LOCKPORT                                           NaN  ...          NaN\n",
            "WILL COUNTY FOREST PRESERVE                110000000.0  ...          NaN\n",
            "SOUTHEAST JOLIET SANITARY DIST              61221000.0  ...          NaN\n",
            "NAPERVILLE                                         NaN  ...          NaN\n",
            "CENTRAL SOD FARMS - WILL CTY                       NaN  ...          NaN\n",
            "CRYSTAL LAWNS ADDITION IMPROVEMENT ASSOC.   46360000.0  ...   24369500.0\n",
            "BONNIE BRAE - FOREST MANOR SAN DIST         56047000.0  ...          NaN\n",
            "WEDGEWOOD GOLF COURSE                       18300000.0  ...          NaN\n",
            "ILLINOIS AMERICAN - SANTA FE DIVISION              0.0  ...          NaN\n",
            "LOCKPORT TWP WATER SYSTEM                          NaN  ...          NaN\n",
            "ELWOOD                                      16197000.0  ...          NaN\n",
            "DESOTO LLC                                   1825000.0  ...          NaN\n",
            "JOLIET REGION PORT DIS AIRPORT               9500000.0  ...          NaN\n",
            "CLEARVIEW SUBD                               9125000.0  ...          NaN\n",
            "\n",
            "[24 rows x 39 columns]\n",
            "size of updated dataframe\n",
            "(24, 39)\n"
          ],
          "name": "stdout"
        },
        {
          "output_type": "stream",
          "text": [
            "/usr/local/lib/python3.6/dist-packages/ipykernel_launcher.py:19: SettingWithCopyWarning: \n",
            "A value is trying to be set on a copy of a slice from a DataFrame.\n",
            "Try using .loc[row_indexer,col_indexer] = value instead\n",
            "\n",
            "See the caveats in the documentation: https://pandas.pydata.org/pandas-docs/stable/user_guide/indexing.html#returning-a-view-versus-a-copy\n"
          ],
          "name": "stderr"
        }
      ]
    },
    {
      "cell_type": "code",
      "metadata": {
        "id": "uZdo4TtTI6-E",
        "colab_type": "code",
        "colab": {}
      },
      "source": [
        "raw_data_4.to_csv('M1_3d_BigWells')"
      ],
      "execution_count": 0,
      "outputs": []
    },
    {
      "cell_type": "code",
      "metadata": {
        "id": "Z2XNnQXBjnxy",
        "colab_type": "code",
        "colab": {
          "base_uri": "https://localhost:8080/",
          "height": 253
        },
        "outputId": "d73ba38f-6f69-4069-dc93-a578d05f20e5"
      },
      "source": [
        "#read in cooked data (edited in excel)\n",
        "cooked_data=pd.read_csv('https://raw.githubusercontent.com/dbabrams/ShallowDolomite_Group/pumping/caleb/M1_3d_BigWells_Edit.csv?token=ANYMEMJODKAAGVI22HLCU6S6VX5HU',index_col='owner')\n",
        "print(cooked_data)"
      ],
      "execution_count": 18,
      "outputs": [
        {
          "output_type": "stream",
          "text": [
            "                                            1981  ...       2019\n",
            "owner                                             ...           \n",
            "HANSON MATERIAL SERVICE - YARD 61        8200000  ...     260833\n",
            "ILLINOIS AMERICAN - WEST SUBURBAN DIV  919209000  ...    1114167\n",
            "ROMEOVILLE                             157714600  ...  958571800\n",
            "CREST HILL                             359102900  ...  792918333\n",
            "SHOREWOOD                               84764800  ...  179934000\n",
            "BOLINGBROOK                            180009000  ...          0\n",
            "MINOOKA                                        0  ...   46300333\n",
            "VULCAN MATERIAL - JOLIET 340                   0  ...  141300000\n",
            "ROCKDALE                                24823840  ...   77497867\n",
            "\n",
            "[9 rows x 39 columns]\n"
          ],
          "name": "stdout"
        }
      ]
    },
    {
      "cell_type": "code",
      "metadata": {
        "id": "r5anCZvBhc0L",
        "colab_type": "code",
        "colab": {}
      },
      "source": [
        "#Put raw data in individual variables to plot\n",
        "\n",
        "ILAr=raw_data_4.iloc[1]\n",
        "ROMr=raw_data_4.iloc[2]\n",
        "CRHr=raw_data_4.iloc[3]\n",
        "SHOr=raw_data_4.iloc[4]\n",
        "BOLr=raw_data_4.iloc[5]\n",
        "MKAr=raw_data_4.iloc[6]\n",
        "VMTr=raw_data_4.iloc[8]\n",
        "ROKr=raw_data_4.iloc[9]"
      ],
      "execution_count": 0,
      "outputs": []
    },
    {
      "cell_type": "code",
      "metadata": {
        "id": "20fGo2XLkF04",
        "colab_type": "code",
        "colab": {}
      },
      "source": [
        "#put cooked data in individual variables to plot\n",
        "\n",
        "ILAc=cooked_data.iloc[1]\n",
        "ROMc=cooked_data.iloc[2]\n",
        "CRHc=cooked_data.iloc[3]\n",
        "SHOc=cooked_data.iloc[4]\n",
        "BOLc=cooked_data.iloc[5]\n",
        "MKAc=cooked_data.iloc[6]\n",
        "VMTc=cooked_data.iloc[7]\n",
        "ROKc=cooked_data.iloc[8]"
      ],
      "execution_count": 0,
      "outputs": []
    },
    {
      "cell_type": "markdown",
      "metadata": {
        "id": "O9i-e-X1Z4qR",
        "colab_type": "text"
      },
      "source": [
        "##Wiki Graphs"
      ]
    },
    {
      "cell_type": "code",
      "metadata": {
        "id": "tuKUYzTSkv3i",
        "colab_type": "code",
        "colab": {
          "base_uri": "https://localhost:8080/",
          "height": 326
        },
        "outputId": "5c6fbee7-0df1-4c68-b267-3c3c5d9f1698"
      },
      "source": [
        "#plot Illinois American\n",
        "ILAc.plot(label='owner', figsize=(20,5), fontsize=25, style='o-')\n",
        "ILAr.plot(style='o')\n",
        "plt.show()"
      ],
      "execution_count": 25,
      "outputs": [
        {
          "output_type": "display_data",
          "data": {
            "image/png": "[encoded data removed]",
            "text/plain": [
              "<Figure size 1440x360 with 1 Axes>"
            ]
          },
          "metadata": {
            "tags": [],
            "needs_background": "light"
          }
        }
      ]
    }
  ]
}